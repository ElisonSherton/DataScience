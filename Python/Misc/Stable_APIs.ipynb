{
 "cells": [
  {
   "attachments": {},
   "cell_type": "markdown",
   "metadata": {},
   "source": [
    "# Stable APIs\n",
    "\n",
    "When exposing your code to external users you will want to provide stable APIs that doesn’t change between each release. To ensure this happens, it’s good practise to hide portions of your code to external users. This way it enables you to refactor and or improve your code while keeping the API stable for the consumer.\n",
    "\n",
    "To do this Python can limit what is exposed to the user by using the `__all__` attribute. The value of `__all__` is a `list` of all the names to export from the module. When you call `from module import *`, only the attributes in `module.__all__` will be imported. If `__all__` isn’t present then only public attributes will be imported i.e. those that do not have a leading underscroll."
   ]
  },
  {
   "cell_type": "code",
   "execution_count": null,
   "metadata": {
    "collapsed": true
   },
   "outputs": [],
   "source": [
    "# calling from module import * will import the MyClass but not HiddenClass\n",
    "\n",
    "__all__ = ['MyClass']\n",
    "\n",
    "class MyClass:\n",
    "    \n",
    "    def function_1(self):\n",
    "        pass\n",
    "    \n",
    "class HiddenClass:\n",
    "    \n",
    "    def function_1(self):\n",
    "        pass"
   ]
  },
  {
   "cell_type": "code",
   "execution_count": null,
   "metadata": {
    "collapsed": true
   },
   "outputs": [],
   "source": [
    "# calling from module import * will only import public function\n",
    "\n",
    "__all__ = ['public_function']\n",
    "\n",
    "def public_function()\n",
    "    pass\n",
    "\n",
    "def _not_public_function()\n",
    "    pass"
   ]
  },
  {
   "cell_type": "code",
   "execution_count": null,
   "metadata": {
    "collapsed": true
   },
   "outputs": [],
   "source": [
    "# calling from module import * will only import public_function\n",
    "\n",
    "def public_function()\n",
    "    pass\n",
    "\n",
    "def _not_public_function()\n",
    "    pass"
   ]
  },
  {
   "attachments": {},
   "cell_type": "markdown",
   "metadata": {},
   "source": [
    "If you wish to allow the user to import all public parts of the API you can edit the `__init__.py` in the `My_Package` folder like so:"
   ]
  },
  {
   "cell_type": "code",
   "execution_count": null,
   "metadata": {
    "collapsed": true
   },
   "outputs": [],
   "source": [
    "# __init__.py\n",
    "\n",
    "__all__ = []\n",
    "\n",
    "from my_module_1 import *\n",
    "__all__ += mymodeul_1.__all__\n",
    "\n",
    "from my_module_2 import *\n",
    "__all__ += mymodeul_2.__all__"
   ]
  },
  {
   "cell_type": "code",
   "execution_count": null,
   "metadata": {
    "collapsed": true
   },
   "outputs": [],
   "source": [
    "# The user can then import all public parts of the API like so:\n",
    "\n",
    "from mypackage import *"
   ]
  },
  {
   "attachments": {},
   "cell_type": "markdown",
   "metadata": {},
   "source": [
    "It should be noted that doing `from foo import *` is not recommended as it hides the sources names to new readers of your code. If there are any name conflicts the latest import will overwrite the earlier one. A safe approach would be to do `from foo import bar` rather than `from foo import *`"
   ]
  }
 ],
 "metadata": {
  "kernelspec": {
   "display_name": "Python 3",
   "language": "python",
   "name": "python3"
  },
  "language_info": {
   "codemirror_mode": {
    "name": "ipython",
    "version": 3
   },
   "file_extension": ".py",
   "mimetype": "text/x-python",
   "name": "python",
   "nbconvert_exporter": "python",
   "pygments_lexer": "ipython3",
   "version": "3.6.1"
  }
 },
 "nbformat": 4,
 "nbformat_minor": 2
}
