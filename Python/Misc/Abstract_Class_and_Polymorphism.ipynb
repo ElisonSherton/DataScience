{
 "cells": [
  {
   "cell_type": "markdown",
   "metadata": {},
   "source": [
    "# Abstract Class and Polymorphism"
   ]
  },
  {
   "cell_type": "markdown",
   "metadata": {},
   "source": [
    "Polymorphism is the ability of an object to adapt the code depending on the data it is processing. An example would be an object providing its own implementation of a method depending on its input. The method(s) the object is overwriting can be inherited from an abstract class. The example below creates an abstract `Person` class which has a `favourite_saying` method. Notice this method raises a `NotImplementedError` if it is a called and not overwritten by the inheriting class."
   ]
  },
  {
   "cell_type": "code",
   "execution_count": 16,
   "metadata": {},
   "outputs": [],
   "source": [
    "# Abstract Class\n",
    "class Person():\n",
    "    \n",
    "    def favourite_saying(self):\n",
    "        raise NotImplementedError('Please Implement the favourite_saying method')\n"
   ]
  },
  {
   "cell_type": "code",
   "execution_count": 17,
   "metadata": {},
   "outputs": [],
   "source": [
    "# Class Inheriting Abstract Class\n",
    "class MyPerson(Person):\n",
    "    \n",
    "    def some_method(self):\n",
    "        pass"
   ]
  },
  {
   "cell_type": "code",
   "execution_count": 23,
   "metadata": {},
   "outputs": [
    {
     "ename": "NotImplementedError",
     "evalue": "Please Implement the map method",
     "output_type": "error",
     "traceback": [
      "\u001b[1;31m---------------------------------------------------------------------------\u001b[0m",
      "\u001b[1;31mNotImplementedError\u001b[0m                       Traceback (most recent call last)",
      "\u001b[1;32m<ipython-input-23-a3a0df76ad0b>\u001b[0m in \u001b[0;36m<module>\u001b[1;34m()\u001b[0m\n\u001b[0;32m      1\u001b[0m \u001b[1;31m# Initiate class\u001b[0m\u001b[1;33m\u001b[0m\u001b[1;33m\u001b[0m\u001b[0m\n\u001b[0;32m      2\u001b[0m \u001b[0mperson\u001b[0m \u001b[1;33m=\u001b[0m \u001b[0mMyPerson\u001b[0m\u001b[1;33m(\u001b[0m\u001b[1;33m)\u001b[0m\u001b[1;33m\u001b[0m\u001b[0m\n\u001b[1;32m----> 3\u001b[1;33m \u001b[0mperson\u001b[0m\u001b[1;33m.\u001b[0m\u001b[0mfavourite_saying\u001b[0m\u001b[1;33m(\u001b[0m\u001b[1;33m)\u001b[0m\u001b[1;33m\u001b[0m\u001b[0m\n\u001b[0m",
      "\u001b[1;32m<ipython-input-16-2a07bd4d4b2f>\u001b[0m in \u001b[0;36mfavourite_saying\u001b[1;34m(self)\u001b[0m\n\u001b[0;32m      2\u001b[0m \u001b[1;33m\u001b[0m\u001b[0m\n\u001b[0;32m      3\u001b[0m     \u001b[1;32mdef\u001b[0m \u001b[0mfavourite_saying\u001b[0m\u001b[1;33m(\u001b[0m\u001b[0mself\u001b[0m\u001b[1;33m)\u001b[0m\u001b[1;33m:\u001b[0m\u001b[1;33m\u001b[0m\u001b[0m\n\u001b[1;32m----> 4\u001b[1;33m         \u001b[1;32mraise\u001b[0m \u001b[0mNotImplementedError\u001b[0m\u001b[1;33m(\u001b[0m\u001b[1;34m'Please Implement the map method'\u001b[0m\u001b[1;33m)\u001b[0m\u001b[1;33m\u001b[0m\u001b[0m\n\u001b[0m",
      "\u001b[1;31mNotImplementedError\u001b[0m: Please Implement the map method"
     ]
    }
   ],
   "source": [
    "# Initiate class and call method\n",
    "person = MyPerson()\n",
    "person.favourite_saying() # Should raise not implemented error"
   ]
  },
  {
   "cell_type": "code",
   "execution_count": 21,
   "metadata": {},
   "outputs": [],
   "source": [
    "# Define a new class which overwrites the abstract method\n",
    "class WalterWhite(Person):\n",
    "    \n",
    "    def favourite_saying(self):\n",
    "        print('I am the danger!')"
   ]
  },
  {
   "cell_type": "code",
   "execution_count": 22,
   "metadata": {},
   "outputs": [
    {
     "name": "stdout",
     "output_type": "stream",
     "text": [
      "I am the danger!\n"
     ]
    }
   ],
   "source": [
    "ww = WalterWhite()\n",
    "ww.favourite_saying()"
   ]
  },
  {
   "cell_type": "markdown",
   "metadata": {},
   "source": [
    "We can now create many new objects which inherit the `Person` class and allow them to have different `favourite_saying`s. This polymorphic behaviour allows you to specify common methods at an abstract level and implement them on particular instances."
   ]
  }
 ],
 "metadata": {
  "kernelspec": {
   "display_name": "Python 3",
   "language": "python",
   "name": "python3"
  },
  "language_info": {
   "codemirror_mode": {
    "name": "ipython",
    "version": 3
   },
   "file_extension": ".py",
   "mimetype": "text/x-python",
   "name": "python",
   "nbconvert_exporter": "python",
   "pygments_lexer": "ipython3",
   "version": "3.6.2"
  }
 },
 "nbformat": 4,
 "nbformat_minor": 2
}
