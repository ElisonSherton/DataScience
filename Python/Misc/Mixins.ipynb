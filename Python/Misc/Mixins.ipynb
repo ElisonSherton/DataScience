{
 "cells": [
  {
   "cell_type": "markdown",
   "metadata": {},
   "source": [
    "# Mixins\n",
    "\n",
    "A mixin is a small class that does not require its `__init__` constructor to be called and only defines a small set of methods.\n",
    "\n",
    "A common mixin to have would be for database connections:"
   ]
  },
  {
   "cell_type": "code",
   "execution_count": null,
   "metadata": {},
   "outputs": [],
   "source": [
    "from pymongo import MongoClient\n",
    "\n",
    "class MongoConnectionMIXIN:\n",
    "    \n",
    "    def connection():\n",
    "        client = ('host', 'port')\n",
    "        return client['database']"
   ]
  },
  {
   "cell_type": "markdown",
   "metadata": {},
   "source": [
    "This class can now be imported by other classes, which require access to the database. Importing this mixin easily extends the capability of the class and reduces code redundancy.\n",
    "\n",
    "Obviously, you would not hard code the `host`, `port` and `database`. These would be taken as configuration variables from a `config.yml` file."
   ]
  }
 ],
 "metadata": {
  "kernelspec": {
   "display_name": "Python 3",
   "language": "python",
   "name": "python3"
  },
  "language_info": {
   "codemirror_mode": {
    "name": "ipython",
    "version": 3
   },
   "file_extension": ".py",
   "mimetype": "text/x-python",
   "name": "python",
   "nbconvert_exporter": "python",
   "pygments_lexer": "ipython3",
   "version": "3.6.2"
  }
 },
 "nbformat": 4,
 "nbformat_minor": 2
}
