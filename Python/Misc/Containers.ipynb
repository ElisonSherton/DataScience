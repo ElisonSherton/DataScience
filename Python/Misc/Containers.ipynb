{
 "cells": [
  {
   "cell_type": "markdown",
   "metadata": {},
   "source": [
    "# Containers\n",
    "\n",
    "**Definition**: Containers are any object that holds an arbitrary number of other objects. Generally, containers provide a way to access the contained objects and to iterate over them. "
   ]
  },
  {
   "cell_type": "markdown",
   "metadata": {},
   "source": [
    "A common situation to arise is the need to iterate over a large file mutltiple times. The simplest approach would be to use a generator to iterate over the file like below:"
   ]
  },
  {
   "cell_type": "code",
   "execution_count": 1,
   "metadata": {},
   "outputs": [],
   "source": [
    "def read_file(data_path):\n",
    "    with open(data_path, 'r') as in_file:\n",
    "        for line in in_file:\n",
    "            yield line"
   ]
  },
  {
   "cell_type": "markdown",
   "metadata": {},
   "source": [
    "A file can be iterated over like so:"
   ]
  },
  {
   "cell_type": "code",
   "execution_count": 2,
   "metadata": {},
   "outputs": [
    {
     "name": "stdout",
     "output_type": "stream",
     "text": [
      "['Data file line 1\\n', 'Data file line 2\\n', 'Data file line 3\\n', 'Data file line 4\\n', 'Data file line 5\\n', 'Data file line 6\\n', 'Data file line 7\\n', 'Data file line 8\\n', 'Data file line 9\\n', 'Data file line 10']\n"
     ]
    }
   ],
   "source": [
    "iteration = read_file('example.txt')\n",
    "print(list(iteration))"
   ]
  },
  {
   "cell_type": "markdown",
   "metadata": {},
   "source": [
    "Now, if we need to iterate over the file again we can just do the same again:"
   ]
  },
  {
   "cell_type": "code",
   "execution_count": 3,
   "metadata": {},
   "outputs": [
    {
     "name": "stdout",
     "output_type": "stream",
     "text": [
      "[]\n"
     ]
    }
   ],
   "source": [
    "print(list(iteration))"
   ]
  },
  {
   "cell_type": "markdown",
   "metadata": {},
   "source": [
    "hhhmmmm... Not what I expected. This is the result of the generator producing the results a single time. The above generator has raised a `StopIteration` by reaching the end of the file and you won't get any more results when attempting to iterate over it again. What's more confusing is that no error has been raised either. This is because iterators such as `for` loops or the `list` constructor used above expect a `StopIteration` to be raised during normal operation. These functions cannot tell the difference between an iterator with no data or an iterator that has exhausted its output."
   ]
  },
  {
   "cell_type": "markdown",
   "metadata": {},
   "source": [
    "So how can we get around this problem? We could just store the first result but that could take up large amount of memory and cause the program to crash, so we probably don't want to do that. We can create an iterable container by defining a `__iter__` special method. The special `__iter__` method is used to define a way to iterate over data, in this case we are using it to iterate through a file. Internally, the `__iter__` returns an iterator object, which itself calls the `__next__` method. The iterator object will continue to call the `__next__` method until a `StopIteration` is raised. Below is an example container to iterate over a file given its path. We can call the `__iter__` method by simply iterating over an instance of the class e.g `for i in ReadFile('example.txt'):`"
   ]
  },
  {
   "cell_type": "code",
   "execution_count": 4,
   "metadata": {},
   "outputs": [],
   "source": [
    "class ReadFile:\n",
    "    def __init__(self, data_path):\n",
    "        self.data_path = data_path\n",
    "    \n",
    "    def __iter__(self):\n",
    "        with open(self.data_path, 'r') as in_file:\n",
    "            for line in in_file:\n",
    "                yield line"
   ]
  },
  {
   "cell_type": "markdown",
   "metadata": {},
   "source": [
    "Let's see if we can iterate over the date multiple times:"
   ]
  },
  {
   "cell_type": "code",
   "execution_count": 5,
   "metadata": {},
   "outputs": [
    {
     "name": "stdout",
     "output_type": "stream",
     "text": [
      "['Data file line 1\\n', 'Data file line 2\\n', 'Data file line 3\\n', 'Data file line 4\\n', 'Data file line 5\\n', 'Data file line 6\\n', 'Data file line 7\\n', 'Data file line 8\\n', 'Data file line 9\\n', 'Data file line 10']\n",
      "['Data file line 1\\n', 'Data file line 2\\n', 'Data file line 3\\n', 'Data file line 4\\n', 'Data file line 5\\n', 'Data file line 6\\n', 'Data file line 7\\n', 'Data file line 8\\n', 'Data file line 9\\n', 'Data file line 10']\n"
     ]
    }
   ],
   "source": [
    "f = ReadFile('example.txt')\n",
    "print(list(f))\n",
    "print(list(f))"
   ]
  },
  {
   "cell_type": "code",
   "execution_count": 6,
   "metadata": {},
   "outputs": [
    {
     "name": "stdout",
     "output_type": "stream",
     "text": [
      "Data file line 1\n",
      "\n",
      "Data file line 2\n",
      "\n",
      "Data file line 3\n",
      "\n",
      "Data file line 4\n",
      "\n",
      "Data file line 5\n",
      "\n",
      "Data file line 6\n",
      "\n",
      "Data file line 7\n",
      "\n",
      "Data file line 8\n",
      "\n",
      "Data file line 9\n",
      "\n",
      "Data file line 10\n"
     ]
    }
   ],
   "source": [
    "for i in f:\n",
    "    print(i)"
   ]
  },
  {
   "cell_type": "markdown",
   "metadata": {},
   "source": [
    "This now works because a new iterator object is allocated when `ReadFile.__iter__` is called"
   ]
  }
 ],
 "metadata": {
  "kernelspec": {
   "display_name": "Python 3",
   "language": "python",
   "name": "python3"
  },
  "language_info": {
   "codemirror_mode": {
    "name": "ipython",
    "version": 3
   },
   "file_extension": ".py",
   "mimetype": "text/x-python",
   "name": "python",
   "nbconvert_exporter": "python",
   "pygments_lexer": "ipython3",
   "version": "3.6.2"
  }
 },
 "nbformat": 4,
 "nbformat_minor": 2
}
