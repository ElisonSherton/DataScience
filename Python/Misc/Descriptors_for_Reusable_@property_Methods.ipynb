{
 "cells": [
  {
   "cell_type": "markdown",
   "metadata": {},
   "source": [
    "# Descriptors for Reusable @property Methods\n",
    "\n",
    "This example is adpated from [Effictive Python](http://www.effectivepython.com/) by Brett Slatkin"
   ]
  },
  {
   "cell_type": "markdown",
   "metadata": {},
   "source": [
    "The problem with @property methods is reuse. The methods it decorates cannot be reused for multiple attributes of the same class. Consider the follwing class which tracks the exam grades for various subjects and validates the grade is between 0 and 100:"
   ]
  },
  {
   "cell_type": "code",
   "execution_count": 1,
   "metadata": {},
   "outputs": [],
   "source": [
    "class Exam:\n",
    "    \n",
    "    def __init__(self):\n",
    "        self._math_grade = 0\n",
    "    \n",
    "    @property\n",
    "    def math_grade(self):\n",
    "        return self._math_grade\n",
    "    \n",
    "    @math_grade.setter\n",
    "    def math_grade(self, value):\n",
    "        if not(0 <= value <= 100):\n",
    "            raise ValueError('Grade must be between 0 and 100')\n",
    "        self._math_grade = value"
   ]
  },
  {
   "cell_type": "code",
   "execution_count": 2,
   "metadata": {},
   "outputs": [],
   "source": [
    "harpal = Exam()\n",
    "harpal.math_grade = 70"
   ]
  },
  {
   "cell_type": "markdown",
   "metadata": {},
   "source": [
    "If we add another subject it will look like:"
   ]
  },
  {
   "cell_type": "code",
   "execution_count": 3,
   "metadata": {},
   "outputs": [],
   "source": [
    "class Exam:\n",
    "    \n",
    "    def __init__(self):\n",
    "        self._english_grade = 0\n",
    "        self._math_grade = 0\n",
    "    \n",
    "    @staticmethod\n",
    "    def _check_grade(value):\n",
    "        if not(0 <= value <= 100):\n",
    "            raise ValueError('Grade must be between 0 and 100')\n",
    "\n",
    "    @property\n",
    "    def english_grade(self):\n",
    "        return self._math_grade\n",
    "    \n",
    "    @english_grade.setter\n",
    "    def english_grade(self, value):\n",
    "        self._check_grade(value)\n",
    "        self._math_grade = value\n",
    "    \n",
    "    @property\n",
    "    def math_grade(self):\n",
    "        return self._math_grade\n",
    "    \n",
    "    @math_grade.setter\n",
    "    def math_grade(self, value):\n",
    "        self._check_grade(value)\n",
    "        self._math_grade = value"
   ]
  },
  {
   "cell_type": "code",
   "execution_count": 4,
   "metadata": {},
   "outputs": [],
   "source": [
    "harpal = Exam()\n",
    "harpal.math_grad = 70\n",
    "harpal.english_grade = 80"
   ]
  },
  {
   "cell_type": "markdown",
   "metadata": {},
   "source": [
    "As you can see this is getting tedious very quickly. Each new subject will need a `@property` method and validation. "
   ]
  },
  {
   "cell_type": "markdown",
   "metadata": {},
   "source": [
    "A better way to do this would be with a `descriptor`. A descriptor class can provide `__get__` and `__set__` methods that allow to reuse the grade validation. Below is a `Grade` class which implements the `__get__` and `__set__` methods. The `Exam` class then has instances of the `Grade` class per subject.\n"
   ]
  },
  {
   "cell_type": "code",
   "execution_count": 5,
   "metadata": {},
   "outputs": [],
   "source": [
    "class Grade:\n",
    "    \n",
    "    def __init__(self):\n",
    "        self._value = 0\n",
    "    \n",
    "    def __get__(self, instance,  instance_type):\n",
    "        return self._value\n",
    "    \n",
    "    def __set__(self, instance, value):\n",
    "        if not(0 <= value <= 100):\n",
    "            raise ValueError('Grade must be between 0 and 100')\n",
    "        self._value = value\n",
    "\n",
    "class Exam:\n",
    "    \n",
    "    math = Grade()\n",
    "    english = Grade()"
   ]
  },
  {
   "cell_type": "code",
   "execution_count": 6,
   "metadata": {},
   "outputs": [],
   "source": [
    "harpal = Exam()\n",
    "harpal.math = 70\n",
    "harpal.english = 80"
   ]
  },
  {
   "cell_type": "code",
   "execution_count": 7,
   "metadata": {},
   "outputs": [
    {
     "data": {
      "text/plain": [
       "70"
      ]
     },
     "execution_count": 7,
     "metadata": {},
     "output_type": "execute_result"
    }
   ],
   "source": [
    "harpal.math"
   ]
  },
  {
   "cell_type": "code",
   "execution_count": 8,
   "metadata": {},
   "outputs": [
    {
     "data": {
      "text/plain": [
       "80"
      ]
     },
     "execution_count": 8,
     "metadata": {},
     "output_type": "execute_result"
    }
   ],
   "source": [
    "harpal.english"
   ]
  },
  {
   "cell_type": "markdown",
   "metadata": {},
   "source": [
    "When a grade is set it is interpreted as:"
   ]
  },
  {
   "cell_type": "code",
   "execution_count": 9,
   "metadata": {},
   "outputs": [],
   "source": [
    "Exam.__dict__['math'].__set__(harpal, 70)"
   ]
  },
  {
   "cell_type": "markdown",
   "metadata": {},
   "source": [
    "And when you try to retrieve a grade it will be interpreted as: "
   ]
  },
  {
   "cell_type": "code",
   "execution_count": 10,
   "metadata": {},
   "outputs": [
    {
     "data": {
      "text/plain": [
       "70"
      ]
     },
     "execution_count": 10,
     "metadata": {},
     "output_type": "execute_result"
    }
   ],
   "source": [
    "Exam.__dict__['math'].__get__(harpal, Exam)"
   ]
  },
  {
   "cell_type": "markdown",
   "metadata": {},
   "source": [
    "This works well but can lead to unusual behaviour. Accessing attributes on a single `Exam` instance works as expected:\n"
   ]
  },
  {
   "cell_type": "code",
   "execution_count": 11,
   "metadata": {},
   "outputs": [
    {
     "data": {
      "text/plain": [
       "70"
      ]
     },
     "execution_count": 11,
     "metadata": {},
     "output_type": "execute_result"
    }
   ],
   "source": [
    "harpal.math"
   ]
  },
  {
   "cell_type": "code",
   "execution_count": 12,
   "metadata": {},
   "outputs": [
    {
     "data": {
      "text/plain": [
       "80"
      ]
     },
     "execution_count": 12,
     "metadata": {},
     "output_type": "execute_result"
    }
   ],
   "source": [
    "harpal.english"
   ]
  },
  {
   "cell_type": "markdown",
   "metadata": {},
   "source": [
    "The issue arises on multiple instances of `Exam`"
   ]
  },
  {
   "cell_type": "code",
   "execution_count": 13,
   "metadata": {},
   "outputs": [],
   "source": [
    "alice = Exam()"
   ]
  },
  {
   "cell_type": "code",
   "execution_count": 14,
   "metadata": {},
   "outputs": [
    {
     "data": {
      "text/plain": [
       "70"
      ]
     },
     "execution_count": 14,
     "metadata": {},
     "output_type": "execute_result"
    }
   ],
   "source": [
    "alice.math"
   ]
  },
  {
   "cell_type": "code",
   "execution_count": 15,
   "metadata": {},
   "outputs": [
    {
     "data": {
      "text/plain": [
       "80"
      ]
     },
     "execution_count": 15,
     "metadata": {},
     "output_type": "execute_result"
    }
   ],
   "source": [
    "alice.english"
   ]
  },
  {
   "cell_type": "markdown",
   "metadata": {},
   "source": [
    "Alice already has scores on a fresh new instance of the Exam class! In fact she has the same scores as Harpal. The problem is the `Grade` instance is shared across all `Exam` instances for the attributes `math` and `english`. The `Grade` instance for `math` and `english` is created once in the program lifetime when the `Exam` class is first defined, not each time an `Exam` instance is created.\n",
    "\n",
    "To solve this, we need the Grade class to keep track of its value for each unique Exam instance. I can do this by saving the per-instance state in a dictionary, but this will leak memory by holding an instance of every Exam ever\n",
    "passed to `__set__` over the lifetime of the program.\n",
    "\n",
    "To fix this, I can use Python’s `weakref` built-in module. This module provides a special\n",
    "class called `WeakKeyDictionary` that can take the place of the simple dictionary used\n",
    "for _values. The unique behavior of `WeakKeyDictionary` is that it will remove\n",
    "`Exam` instances from its set of keys when the runtime knows it’s holding the instance’s\n",
    "last remaining reference in the program. Python will do the bookkeeping for you and\n",
    "ensure that the _values dictionary will be empty when all Exam instances are no longer\n",
    "in use."
   ]
  },
  {
   "cell_type": "code",
   "execution_count": 16,
   "metadata": {},
   "outputs": [],
   "source": [
    "from weakref import WeakKeyDictionary\n",
    "\n",
    "class Grade:\n",
    "    \n",
    "    def __init__(self):\n",
    "        self._values = WeakKeyDictionary()\n",
    "    \n",
    "    def __get__(self, instance,  instance_type):\n",
    "        if instance is None: \n",
    "            return self\n",
    "        return self._values.get(instance, 0)\n",
    "    \n",
    "    def __set__(self, instance, value):\n",
    "        if not(0 <= value <= 100):\n",
    "            raise ValueError('Grade must be between 0 and 100')\n",
    "        self._values[instance] = value\n",
    "\n",
    "class Exam:\n",
    "    \n",
    "    math = Grade()\n",
    "    english = Grade()"
   ]
  },
  {
   "cell_type": "code",
   "execution_count": 17,
   "metadata": {},
   "outputs": [],
   "source": [
    "harpal = Exam()\n",
    "harpal.math = 88\n",
    "harpal.english = 75"
   ]
  },
  {
   "cell_type": "code",
   "execution_count": 18,
   "metadata": {},
   "outputs": [
    {
     "data": {
      "text/plain": [
       "88"
      ]
     },
     "execution_count": 18,
     "metadata": {},
     "output_type": "execute_result"
    }
   ],
   "source": [
    "harpal.math"
   ]
  },
  {
   "cell_type": "code",
   "execution_count": 19,
   "metadata": {},
   "outputs": [
    {
     "data": {
      "text/plain": [
       "75"
      ]
     },
     "execution_count": 19,
     "metadata": {},
     "output_type": "execute_result"
    }
   ],
   "source": [
    "harpal.english"
   ]
  },
  {
   "cell_type": "code",
   "execution_count": 20,
   "metadata": {},
   "outputs": [],
   "source": [
    "alice = Exam()"
   ]
  },
  {
   "cell_type": "code",
   "execution_count": 21,
   "metadata": {},
   "outputs": [
    {
     "data": {
      "text/plain": [
       "0"
      ]
     },
     "execution_count": 21,
     "metadata": {},
     "output_type": "execute_result"
    }
   ],
   "source": [
    "alice.math"
   ]
  },
  {
   "cell_type": "code",
   "execution_count": 22,
   "metadata": {},
   "outputs": [
    {
     "data": {
      "text/plain": [
       "0"
      ]
     },
     "execution_count": 22,
     "metadata": {},
     "output_type": "execute_result"
    }
   ],
   "source": [
    "alice.english"
   ]
  },
  {
   "cell_type": "code",
   "execution_count": 23,
   "metadata": {},
   "outputs": [],
   "source": [
    "alice.math = 90"
   ]
  },
  {
   "cell_type": "code",
   "execution_count": 24,
   "metadata": {},
   "outputs": [],
   "source": [
    "alice.english = 95"
   ]
  },
  {
   "cell_type": "markdown",
   "metadata": {},
   "source": [
    "Now, everything works as expected :) with multiple instances of the `Exam` class"
   ]
  }
 ],
 "metadata": {
  "kernelspec": {
   "display_name": "Python 3",
   "language": "python",
   "name": "python3"
  },
  "language_info": {
   "codemirror_mode": {
    "name": "ipython",
    "version": 3
   },
   "file_extension": ".py",
   "mimetype": "text/x-python",
   "name": "python",
   "nbconvert_exporter": "python",
   "pygments_lexer": "ipython3",
   "version": "3.6.2"
  }
 },
 "nbformat": 4,
 "nbformat_minor": 2
}
