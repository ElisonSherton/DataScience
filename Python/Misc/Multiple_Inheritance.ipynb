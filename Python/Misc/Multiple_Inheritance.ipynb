{
 "cells": [
  {
   "cell_type": "markdown",
   "metadata": {},
   "source": [
    "# Multiple Inheritance"
   ]
  },
  {
   "cell_type": "code",
   "execution_count": 1,
   "metadata": {},
   "outputs": [],
   "source": [
    "class BaseClass(object):\n",
    "    \n",
    "    def __init__(self, value):\n",
    "        self.value = value\n",
    "        \n",
    "class TimesTwo(object):\n",
    "\n",
    "    def __init__(self):\n",
    "        self.value *= 2\n",
    "\n",
    "class AddTwo(object):\n",
    "    \n",
    "    def __init__(self):\n",
    "        self.value += 2"
   ]
  },
  {
   "cell_type": "markdown",
   "metadata": {},
   "source": [
    "Classes with multiple inheritance can lead to some very bizarre  behaviour. Above I have defined some classes: `BaseClass`, `TimesTwo` and an `AddTwo` class. Below, I create another class which inherits from all of the above classes."
   ]
  },
  {
   "cell_type": "code",
   "execution_count": 2,
   "metadata": {},
   "outputs": [],
   "source": [
    "class InheritAll(BaseClass, TimesTwo, AddTwo):\n",
    "    \n",
    "    def __init__(self, value):\n",
    "        BaseClass.__init__(self, value)\n",
    "        TimesTwo.__init__(self)\n",
    "        AddTwo.__init__(self)"
   ]
  },
  {
   "cell_type": "markdown",
   "metadata": {},
   "source": [
    "Here the ordering of the parent classes are the same as in the constructor. Now if we call this class we should get a value of 12"
   ]
  },
  {
   "cell_type": "code",
   "execution_count": 3,
   "metadata": {},
   "outputs": [
    {
     "data": {
      "text/plain": [
       "12"
      ]
     },
     "execution_count": 3,
     "metadata": {},
     "output_type": "execute_result"
    }
   ],
   "source": [
    "foo = InheritAll(5)\n",
    "foo.value"
   ]
  },
  {
   "cell_type": "markdown",
   "metadata": {},
   "source": [
    "Awesome, we get a value of 12 as predicted. Now let's re-define the `InheritAll` class by changing the order of parent class, but keeping the order in the constructor the same:"
   ]
  },
  {
   "cell_type": "code",
   "execution_count": 4,
   "metadata": {},
   "outputs": [],
   "source": [
    "class InheritAll(BaseClass, AddTwo, TimesTwo):\n",
    "    \n",
    "    def __init__(self, value):\n",
    "        BaseClass.__init__(self, value)\n",
    "        TimesTwo.__init__(self)\n",
    "        AddTwo.__init__(self)"
   ]
  },
  {
   "cell_type": "code",
   "execution_count": 5,
   "metadata": {},
   "outputs": [
    {
     "data": {
      "text/plain": [
       "12"
      ]
     },
     "execution_count": 5,
     "metadata": {},
     "output_type": "execute_result"
    }
   ],
   "source": [
    "foo = InheritAll(5)\n",
    "foo.value"
   ]
  },
  {
   "cell_type": "markdown",
   "metadata": {},
   "source": [
    "We still get 12... this can cause some confusion, if the orders do not match. Another problem can occur with diamond inheritance where a class inherits two different parent classes, and those two parent classes inherit a common class somewhere in the heirarchy. Diamond inheritance will cause the `__init__` method of common super classes to run multiple times. Let's re-define `TimesTwo` and `AddTwo` to inherit from `BaseClass`:"
   ]
  },
  {
   "cell_type": "code",
   "execution_count": 6,
   "metadata": {},
   "outputs": [],
   "source": [
    "class TimesTwo(BaseClass):\n",
    "\n",
    "    def __init__(self, value):\n",
    "        BaseClass.__init__(self, value)\n",
    "        self.value *= 2\n",
    "\n",
    "class AddTwo(BaseClass):\n",
    "    \n",
    "    def __init__(self, value):\n",
    "        BaseClass.__init__(self, value)\n",
    "        self.value += 2"
   ]
  },
  {
   "cell_type": "markdown",
   "metadata": {},
   "source": [
    "I now define a `Diamond` class which inherits from both of these classes, therefore, `BaseClass` will be at the top of the diamond."
   ]
  },
  {
   "cell_type": "code",
   "execution_count": 7,
   "metadata": {},
   "outputs": [],
   "source": [
    "class Diamond(TimesTwo, AddTwo):\n",
    "    \n",
    "    def __init__(self, value):\n",
    "        TimesTwo.__init__(self, value)\n",
    "        AddTwo.__init__(self, value)"
   ]
  },
  {
   "cell_type": "code",
   "execution_count": 8,
   "metadata": {},
   "outputs": [
    {
     "data": {
      "text/plain": [
       "7"
      ]
     },
     "execution_count": 8,
     "metadata": {},
     "output_type": "execute_result"
    }
   ],
   "source": [
    "foo = Diamond(5)\n",
    "foo.value"
   ]
  },
  {
   "cell_type": "markdown",
   "metadata": {},
   "source": [
    "The output should be 12, what is going on here? The reason `foo.value` is 7 and not 12 is because the second parent's class constructor (`AddTwo.__init__`) actually resets the value back to 5 when `BaseClass.__init__` gets called the second time.\n",
    "\n",
    "To get around this python has a method resolution order (MRO). The MRO standardises the order in which super classes are initialised and ensure common super classes are only run once. I now re-create the diamond hierarchy, but this time using `super` to initialise the parent class:"
   ]
  },
  {
   "cell_type": "code",
   "execution_count": 9,
   "metadata": {},
   "outputs": [],
   "source": [
    "class TimesTwo(BaseClass):\n",
    "\n",
    "    def __init__(self, value):\n",
    "        super(TimesTwo, self).__init__(value)\n",
    "        self.value *= 2\n",
    "\n",
    "class AddTwo(BaseClass):\n",
    "    \n",
    "    def __init__(self, value):\n",
    "        super(AddTwo, self).__init__(value)\n",
    "        self.value += 2"
   ]
  },
  {
   "cell_type": "code",
   "execution_count": 10,
   "metadata": {},
   "outputs": [],
   "source": [
    "class Diamond(TimesTwo, AddTwo):\n",
    "    \n",
    "    def __init__(self, value):\n",
    "        super(Diamond, self).__init__(value)"
   ]
  },
  {
   "cell_type": "code",
   "execution_count": 11,
   "metadata": {},
   "outputs": [
    {
     "data": {
      "text/plain": [
       "14"
      ]
     },
     "execution_count": 11,
     "metadata": {},
     "output_type": "execute_result"
    }
   ],
   "source": [
    "foo = Diamond(5)\n",
    "foo.value"
   ]
  },
  {
   "cell_type": "markdown",
   "metadata": {},
   "source": [
    "Hang on, shouldn't the answer be 12 (5 * 2 + 2)? Becuase `TimesTwo.__init__` is called first? Well no, even though the MRO matches the order defined in the class. To get a better understanding of what's happening let's have a look at the MRO for the `Diamond` class:"
   ]
  },
  {
   "cell_type": "code",
   "execution_count": 12,
   "metadata": {},
   "outputs": [
    {
     "name": "stdout",
     "output_type": "stream",
     "text": [
      "[<class '__main__.Diamond'>,\n",
      " <class '__main__.TimesTwo'>,\n",
      " <class '__main__.AddTwo'>,\n",
      " <class '__main__.BaseClass'>,\n",
      " <class 'object'>]\n"
     ]
    }
   ],
   "source": [
    "from pprint import pprint\n",
    "pprint(Diamond.mro())"
   ]
  },
  {
   "cell_type": "markdown",
   "metadata": {},
   "source": [
    "When the `Diamond` class is called it in turn calls `TimesTwo.__init__` and then `AddTwo.__init__` followed by `BaseClass.__init__`. Once the top of the diamond is reached, the initialisations happen is reverse order to what is present in the MRO. So, `BaseClass.__init__` assigns value to 5, then  `AddTwo.__init__` adds two (value is now 7). Finally, `TimesTwo.__init__` is called and the value is now 14."
   ]
  },
  {
   "cell_type": "markdown",
   "metadata": {},
   "source": [
    "The `super` built in function works well but the syntax is very verbose. The class you're in has to be specified along with the method name and all the arguments. If the class name is ever changed then the all the calls to `super` will also have to be updated.\n",
    "\n",
    "Luckily, python 3 fixes these issues by making a call to `super` with no arguments: "
   ]
  },
  {
   "cell_type": "code",
   "execution_count": 13,
   "metadata": {},
   "outputs": [],
   "source": [
    "class TimesTwo(BaseClass):\n",
    "\n",
    "    def __init__(self, value):\n",
    "        super(__class__, self).__init__(value * 2)\n",
    "        \n",
    "# This also works\n",
    "class AddTwo(BaseClass):\n",
    "    \n",
    "    def __init__(self, value):\n",
    "        super().__init__(value + 2)"
   ]
  },
  {
   "cell_type": "code",
   "execution_count": 14,
   "metadata": {},
   "outputs": [
    {
     "data": {
      "text/plain": [
       "10"
      ]
     },
     "execution_count": 14,
     "metadata": {},
     "output_type": "execute_result"
    }
   ],
   "source": [
    "TimesTwo(5).value"
   ]
  },
  {
   "cell_type": "code",
   "execution_count": 15,
   "metadata": {},
   "outputs": [
    {
     "data": {
      "text/plain": [
       "7"
      ]
     },
     "execution_count": 15,
     "metadata": {},
     "output_type": "execute_result"
    }
   ],
   "source": [
    "AddTwo(5).value"
   ]
  }
 ],
 "metadata": {
  "kernelspec": {
   "display_name": "Python 3",
   "language": "python",
   "name": "python3"
  },
  "language_info": {
   "codemirror_mode": {
    "name": "ipython",
    "version": 3
   },
   "file_extension": ".py",
   "mimetype": "text/x-python",
   "name": "python",
   "nbconvert_exporter": "python",
   "pygments_lexer": "ipython3",
   "version": "3.6.2"
  }
 },
 "nbformat": 4,
 "nbformat_minor": 2
}
