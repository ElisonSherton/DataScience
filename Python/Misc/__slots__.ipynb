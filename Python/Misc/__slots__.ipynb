{
 "cells": [
  {
   "cell_type": "markdown",
   "metadata": {},
   "source": [
    "# __slots__\n",
    "\n",
    "Python uses a `dict` to store object attributes. In some cases these might be a bottleneck. The `dict` uses a lot of RAM. Python cannot statically allocate memory at object creation to store all attributes. As a result a lot of RAM is used if a lot of objects are created (in tens of thousands). There is a way of getting round this by using `__slots__`. This tells Python not to use a `dict` and only allocate space for a fixed set of attributes."
   ]
  },
  {
   "cell_type": "code",
   "execution_count": 2,
   "metadata": {},
   "outputs": [],
   "source": [
    "class WithoutSlots:\n",
    "    \n",
    "    def __init__(self, name, id):\n",
    "        self.name = name\n",
    "        self.id = id"
   ]
  },
  {
   "cell_type": "code",
   "execution_count": 3,
   "metadata": {},
   "outputs": [],
   "source": [
    "class WithSlots:\n",
    "    \n",
    "    __slots__ = ['name', 'id']\n",
    "    \n",
    "    def __init__(self, name, id):\n",
    "        self.name = name\n",
    "        self.id = id"
   ]
  },
  {
   "cell_type": "markdown",
   "metadata": {},
   "source": [
    "The class with slots implemented will reduce the amount of RAM used. This has been seen to reduce RAM usage by upto 50%!"
   ]
  }
 ],
 "metadata": {
  "kernelspec": {
   "display_name": "Python 3",
   "language": "python",
   "name": "python3"
  },
  "language_info": {
   "codemirror_mode": {
    "name": "ipython",
    "version": 3
   },
   "file_extension": ".py",
   "mimetype": "text/x-python",
   "name": "python",
   "nbconvert_exporter": "python",
   "pygments_lexer": "ipython3",
   "version": "3.6.2"
  }
 },
 "nbformat": 4,
 "nbformat_minor": 2
}
