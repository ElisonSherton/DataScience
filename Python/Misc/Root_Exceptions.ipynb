{
 "cells": [
  {
   "attachments": {},
   "cell_type": "markdown",
   "metadata": {},
   "source": [
    "# Root Exceptions\n",
    "\n",
    "When building a module’s API it’s also very important to consider the `exceptions` the module will throw. Python comes with built in exceptions but there are drawbacks to using the built-in exception types. Consider the example below where a `ValueError` is raised when an invalid parameter is passed to a function:"
   ]
  },
  {
   "cell_type": "code",
   "execution_count": 1,
   "metadata": {
    "collapsed": true
   },
   "outputs": [],
   "source": [
    "def convert_to_celsius(kelvin: int) -> float:\n",
    "    if kelvin < 0:\n",
    "        raise ValueError('Kelvin must be >= 0')"
   ]
  },
  {
   "attachments": {},
   "cell_type": "markdown",
   "metadata": {},
   "source": [
    "In some cases, `ValueError` is the most appropriate error, but when building an API it’s much more powerful to build your own hierarchy of exceptions. This can be achieved by providing a root `Exception` in your module. Once this is defined, have all your other exceptions inherit from the root exception:"
   ]
  },
  {
   "cell_type": "code",
   "execution_count": 2,
   "metadata": {
    "collapsed": true
   },
   "outputs": [],
   "source": [
    "class RootError(Exception):\n",
    "    'Base class for all exceptions'\n",
    "    \n",
    "class InvalidKelvinError(RootError):\n",
    "    'The value of kelvin is invalid'"
   ]
  },
  {
   "attachments": {},
   "cell_type": "markdown",
   "metadata": {},
   "source": [
    "Having a root exception makes it easier for consumers of your API to catch errors thrown intentionally. This also helps callers understand when there’s a problem with their usage of the API. \n",
    "\n",
    "When this is used in a `try/except` block it prevents your API’s exceptions propagating too far upward and breaking the calling program. Hence, insulating the calling code from your API:"
   ]
  },
  {
   "cell_type": "code",
   "execution_count": null,
   "metadata": {
    "collapsed": true
   },
   "outputs": [],
   "source": [
    "try:\n",
    "    celsius = some_module.convert_to_celsius(-50)\n",
    "except some_module.InvalidKelvinError:\n",
    "    celsius = some_module.convert_to_celsius(0)\n",
    "except some_module.RootError as e:\n",
    "    print(f'Potential bug in calling code: {e}') # should really be using logger!"
   ]
  },
  {
   "attachments": {},
   "cell_type": "markdown",
   "metadata": {},
   "source": [
    "If your code deliberately raises exceptions as defined by your module, then all other exceptions raised by your module must ones not intended to be raised.  These are potential bugs in your API’s code.\n",
    "\n",
    "The above `try/except` will not insulate API consumers from bugs in your APIs module’s code. To do this, the caller will need to add another `except` block that will catch Python’s base `Exception` class. This allows the consumer of the API to detect bugs in the API’s module:"
   ]
  },
  {
   "cell_type": "code",
   "execution_count": null,
   "metadata": {
    "collapsed": true
   },
   "outputs": [],
   "source": [
    "try:\n",
    "    celsius = some_module.convert_to_celsius(-50)\n",
    "except some_module.InvalidKelvinError:\n",
    "    celsius = some_module.convert_to_celsius(0)\n",
    "except some_module.RootError as e:\n",
    "    print(f'Potential bug in calling code: {e}') # should really be using logger!\n",
    "except Exception as e:\n",
    "    print(f'Potential bug in API code: {e}') # Again, should be using logger!\n",
    "    raise"
   ]
  }
 ],
 "metadata": {
  "kernelspec": {
   "display_name": "Python 3",
   "language": "python",
   "name": "python3"
  },
  "language_info": {
   "codemirror_mode": {
    "name": "ipython",
    "version": 3
   },
   "file_extension": ".py",
   "mimetype": "text/x-python",
   "name": "python",
   "nbconvert_exporter": "python",
   "pygments_lexer": "ipython3",
   "version": "3.6.1"
  }
 },
 "nbformat": 4,
 "nbformat_minor": 2
}
