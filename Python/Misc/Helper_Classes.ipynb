{
 "cells": [
  {
   "cell_type": "markdown",
   "metadata": {},
   "source": [
    "# Helper Classes\n",
    "Adapted from `Effective Python - Brett Slatkin`"
   ]
  },
  {
   "cell_type": "markdown",
   "metadata": {},
   "source": [
    "Always try to use helper classes when the book keeping of values is becoming complex. Below illustrates an example of keeping the examination grades of students. This done over three class `Subject`, `Student` and `Gradebook`. The `Gradebook` class holds the grades for the students, the `Student` class holds the grades for a student and the `Subject` class holds the grads of a subject. I could of easily just stored the results of a student in a Dict like so `{student_name: {subject: []}}`. This seems simple enough, but will get more complex if you need to add other items to it later. Breaking it over 3 classes allows for far more flexibility and will make the development of future features far easier."
   ]
  },
  {
   "cell_type": "code",
   "execution_count": 1,
   "metadata": {},
   "outputs": [],
   "source": [
    "class Subject:\n",
    "    def __init__(self):\n",
    "        self._grades = []\n",
    "    \n",
    "    def __repr__(self):\n",
    "        return f'<Subject grades={self._grades}>'\n",
    "    \n",
    "    @property\n",
    "    def grades(self):\n",
    "        return self._grades\n",
    "    \n",
    "    def report_grades(self, score):\n",
    "        self._grades.append(score)\n",
    "    \n",
    "class Student:\n",
    "    def __init__(self):\n",
    "        self._subjects = {}\n",
    "    \n",
    "    def __repr__(self):\n",
    "        return f'<Student Alan={self._subjects}>'\n",
    "    \n",
    "    @property\n",
    "    def subjects(self):\n",
    "        return self._subjects\n",
    "    \n",
    "    def subject(self, name):\n",
    "        if name not in self._subjects:\n",
    "            self._subjects[name] = Subject()\n",
    "        return self._subjects[name]\n",
    "\n",
    "class Gradebook:\n",
    "    def __init__(self):\n",
    "        self._students = {}\n",
    "    \n",
    "    def __repr__(self):\n",
    "        return f'<GradeBook students={self._students}>'\n",
    "        \n",
    "    @property\n",
    "    def students(self):\n",
    "        return self._students\n",
    "    \n",
    "    def student(self, name):\n",
    "        if name not in self._students:\n",
    "            self._students[name] = Student()\n",
    "        return self._students[name]"
   ]
  },
  {
   "cell_type": "code",
   "execution_count": 2,
   "metadata": {},
   "outputs": [],
   "source": [
    "book = Gradebook()"
   ]
  },
  {
   "cell_type": "code",
   "execution_count": 3,
   "metadata": {},
   "outputs": [
    {
     "name": "stdout",
     "output_type": "stream",
     "text": [
      "<Student Alan={}>\n"
     ]
    }
   ],
   "source": [
    "alan = book.student('Alan Turing')\n",
    "print(alan)"
   ]
  },
  {
   "cell_type": "code",
   "execution_count": 4,
   "metadata": {},
   "outputs": [
    {
     "data": {
      "text/plain": [
       "[90]"
      ]
     },
     "execution_count": 4,
     "metadata": {},
     "output_type": "execute_result"
    }
   ],
   "source": [
    "science = alan.subject('Science')\n",
    "science.report_grades(90)\n",
    "science.grades\n"
   ]
  },
  {
   "cell_type": "code",
   "execution_count": 5,
   "metadata": {},
   "outputs": [
    {
     "data": {
      "text/plain": [
       "{'Science': <Subject grades=[90]>}"
      ]
     },
     "execution_count": 5,
     "metadata": {},
     "output_type": "execute_result"
    }
   ],
   "source": [
    "alan.subjects"
   ]
  },
  {
   "cell_type": "code",
   "execution_count": 6,
   "metadata": {},
   "outputs": [
    {
     "data": {
      "text/plain": [
       "{'Math': <Subject grades=[]>, 'Science': <Subject grades=[90]>}"
      ]
     },
     "execution_count": 6,
     "metadata": {},
     "output_type": "execute_result"
    }
   ],
   "source": [
    "math = alan.subject('Math')\n",
    "alan.subjects"
   ]
  },
  {
   "cell_type": "code",
   "execution_count": 7,
   "metadata": {},
   "outputs": [
    {
     "name": "stdout",
     "output_type": "stream",
     "text": [
      "<Student Alan={'Science': <Subject grades=[90]>, 'Math': <Subject grades=[]>}>\n"
     ]
    }
   ],
   "source": [
    "print(alan)"
   ]
  },
  {
   "cell_type": "code",
   "execution_count": 8,
   "metadata": {},
   "outputs": [
    {
     "data": {
      "text/plain": [
       "{'Alan Turing': <Student Alan={'Science': <Subject grades=[90]>, 'Math': <Subject grades=[]>}>}"
      ]
     },
     "execution_count": 8,
     "metadata": {},
     "output_type": "execute_result"
    }
   ],
   "source": [
    "book.students"
   ]
  }
 ],
 "metadata": {
  "kernelspec": {
   "display_name": "Python 3",
   "language": "python",
   "name": "python3"
  },
  "language_info": {
   "codemirror_mode": {
    "name": "ipython",
    "version": 3
   },
   "file_extension": ".py",
   "mimetype": "text/x-python",
   "name": "python",
   "nbconvert_exporter": "python",
   "pygments_lexer": "ipython3",
   "version": "3.6.2"
  }
 },
 "nbformat": 4,
 "nbformat_minor": 2
}
