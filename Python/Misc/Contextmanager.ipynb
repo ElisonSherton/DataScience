{
 "cells": [
  {
   "cell_type": "markdown",
   "metadata": {},
   "source": [
    "# Contextmanager\n",
    "\n",
    "When using the `with` statement in Python it indicates the code is running in special context. Say for example you have a logger setup and there are certain portions of your code you want to run at a different logging level. This can be achieved with the `@contextmanager`"
   ]
  },
  {
   "cell_type": "markdown",
   "metadata": {},
   "source": [
    "Below I have a function called `change_log_level` which takes two parameters: the new log level and the name of the logger you wish to change the context for. This function is also decorated by the `@contextmanger` which allows the function to be used with a `with` statement."
   ]
  },
  {
   "cell_type": "code",
   "execution_count": 1,
   "metadata": {},
   "outputs": [
    {
     "name": "stderr",
     "output_type": "stream",
     "text": [
      "I am a warning\n"
     ]
    }
   ],
   "source": [
    "from contextlib import contextmanager\n",
    "import logging\n",
    "\n",
    "logger = logging.getLogger('my_app')\n",
    "logger.setLevel(logging.WARNING)\n",
    "logger.warning('I am a warning')\n",
    "\n",
    "\n",
    "@contextmanager\n",
    "def change_log_level(new_level, logger_name):\n",
    "    current_logger = logging.getLogger(logger_name)\n",
    "    old_logger_level = current_logger.getEffectiveLevel()\n",
    "    current_logger.setLevel(new_level)\n",
    "    try:\n",
    "        yield current_logger\n",
    "    finally:\n",
    "        current_logger.setLevel(old_logger_level)"
   ]
  },
  {
   "cell_type": "markdown",
   "metadata": {},
   "source": [
    "The `change_log_level` function above yields the logger with the log level changed and when the function is outside of the scope of the with statement the `finally` portion of the code executes and returns the log level to its original value.\n",
    "\n",
    "When using the `with` statement it may return an object which can be assigned to a local variable, in this case the `context_logger` variable. This gives the code block the ability to interact with its context. Here, I successfully print a debug message inside the scope of the `with` statement and when I attempt to print another debug statement outside of the `with` statement's scope; it does not print."
   ]
  },
  {
   "cell_type": "code",
   "execution_count": 2,
   "metadata": {},
   "outputs": [],
   "source": [
    "logger.debug('I should not print')\n",
    "\n",
    "with change_log_level('DEBUG', 'my_app') as context_logger:\n",
    "    context_logger.debug('I am a debug message')\n",
    "    # Do stuff here with the logger level set to debug\n",
    "# Outside of the with statment context, return log level to original value\n",
    "\n",
    "logger.debug('I will not print')"
   ]
  },
  {
   "cell_type": "markdown",
   "metadata": {},
   "source": [
    "I successfully managed to change the log level of my logger for only a short piece ofcode and return it to its original level."
   ]
  }
 ],
 "metadata": {
  "kernelspec": {
   "display_name": "Python 3",
   "language": "python",
   "name": "python3"
  },
  "language_info": {
   "codemirror_mode": {
    "name": "ipython",
    "version": 3
   },
   "file_extension": ".py",
   "mimetype": "text/x-python",
   "name": "python",
   "nbconvert_exporter": "python",
   "pygments_lexer": "ipython3",
   "version": "3.6.2"
  }
 },
 "nbformat": 4,
 "nbformat_minor": 2
}
