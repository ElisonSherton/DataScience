{
 "cells": [
  {
   "cell_type": "markdown",
   "metadata": {},
   "source": [
    "# Custom Context Managers\n",
    "\n",
    "A context manager is simple protocol that your object needs to follow in order to support the `with` statement. The `with` statement is commonly used with a context manager and helps common resource management patterns.\n",
    "\n",
    "Context managers are most commonly used to manage the safe acquisition and release of system resources. The resources are required when entering the `with` statement and released when the execution leaves the code block. A common example is when opening a file:"
   ]
  },
  {
   "cell_type": "code",
   "execution_count": 1,
   "metadata": {},
   "outputs": [
    {
     "name": "stdout",
     "output_type": "stream",
     "text": [
      "Data file line 1\n",
      "\n",
      "Data file line 2\n",
      "\n",
      "Data file line 3\n",
      "\n",
      "Data file line 4\n",
      "\n",
      "Data file line 5\n",
      "\n",
      "Data file line 6\n",
      "\n",
      "Data file line 7\n",
      "\n",
      "Data file line 8\n",
      "\n",
      "Data file line 9\n",
      "\n",
      "Data file line 10\n"
     ]
    }
   ],
   "source": [
    "with open('./example.txt', 'r') as in_file:\n",
    "    for line in in_file:\n",
    "        print(line)"
   ]
  },
  {
   "cell_type": "markdown",
   "metadata": {},
   "source": [
    "Using the `with` statement is recommended because it ensures the file is closed automatically after the program execution leaves the code block."
   ]
  },
  {
   "cell_type": "markdown",
   "metadata": {},
   "source": [
    "The traditional way of doing this would be:"
   ]
  },
  {
   "cell_type": "code",
   "execution_count": 2,
   "metadata": {},
   "outputs": [
    {
     "name": "stdout",
     "output_type": "stream",
     "text": [
      "Data file line 1\n",
      "\n",
      "Data file line 2\n",
      "\n",
      "Data file line 3\n",
      "\n",
      "Data file line 4\n",
      "\n",
      "Data file line 5\n",
      "\n",
      "Data file line 6\n",
      "\n",
      "Data file line 7\n",
      "\n",
      "Data file line 8\n",
      "\n",
      "Data file line 9\n",
      "\n",
      "Data file line 10\n"
     ]
    }
   ],
   "source": [
    "f = open('./example.txt', 'r')\n",
    "for line in f:\n",
    "    print(line)\n",
    "f.close()"
   ]
  },
  {
   "cell_type": "markdown",
   "metadata": {},
   "source": [
    "Opening the file this way won't guarantee the file is closed if there is an exception during the `print` statement. This is why `with` statements are useful because it makes properly acquiring and releasing the resources painless."
   ]
  },
  {
   "cell_type": "markdown",
   "metadata": {},
   "source": [
    "When writing your own context managers all you really need is a class with the dunder methods `__enter__` and `__exit__` and python will call these when required in the lifecycle of the object. Let's make an example where we open and read a file like above:"
   ]
  },
  {
   "cell_type": "code",
   "execution_count": 3,
   "metadata": {},
   "outputs": [],
   "source": [
    "class PrintFile:\n",
    "    def __init__(self, file_name):\n",
    "        self.file_name = file_name\n",
    "    \n",
    "    def __enter__(self):\n",
    "        self.opened_file = open(self.file_name, 'r')\n",
    "        return self.opened_file\n",
    "    \n",
    "    def __exit__(self, exc_type, exc_val, exc_tb):\n",
    "        if self.opened_file:\n",
    "            self.opened_file.close()"
   ]
  },
  {
   "cell_type": "markdown",
   "metadata": {},
   "source": [
    "The `PrintFile` class now follows the context manager protocol and now supports the `with` statement. We can use it like so:"
   ]
  },
  {
   "cell_type": "code",
   "execution_count": 4,
   "metadata": {},
   "outputs": [
    {
     "name": "stdout",
     "output_type": "stream",
     "text": [
      "Data file line 1\n",
      "\n",
      "Data file line 2\n",
      "\n",
      "Data file line 3\n",
      "\n",
      "Data file line 4\n",
      "\n",
      "Data file line 5\n",
      "\n",
      "Data file line 6\n",
      "\n",
      "Data file line 7\n",
      "\n",
      "Data file line 8\n",
      "\n",
      "Data file line 9\n",
      "\n",
      "Data file line 10\n"
     ]
    }
   ],
   "source": [
    "with PrintFile('./example.txt') as p_file:\n",
    "    for line in p_file:\n",
    "        print(line)"
   ]
  },
  {
   "cell_type": "markdown",
   "metadata": {},
   "source": [
    "Python calls the `__enter__` method when the executions enters the context of the `with` statement therefore acquiring the resource. This resources is then freed when the execution leaves the context of the `with` statues by calling `__exit__`.\n",
    "\n",
    "This isn't the only way to support the with statement, see this [notebook](https://github.com/harpalsahota/DataScience/blob/master/Python/Misc/Contextmanager.ipynb)"
   ]
  }
 ],
 "metadata": {
  "kernelspec": {
   "display_name": "Python 3",
   "language": "python",
   "name": "python3"
  },
  "language_info": {
   "codemirror_mode": {
    "name": "ipython",
    "version": 3
   },
   "file_extension": ".py",
   "mimetype": "text/x-python",
   "name": "python",
   "nbconvert_exporter": "python",
   "pygments_lexer": "ipython3",
   "version": "3.6.2"
  }
 },
 "nbformat": 4,
 "nbformat_minor": 2
}
