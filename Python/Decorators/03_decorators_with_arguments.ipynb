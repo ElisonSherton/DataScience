{
 "cells": [
  {
   "cell_type": "markdown",
   "metadata": {},
   "source": [
    "# Decorators with Arguments"
   ]
  },
  {
   "cell_type": "markdown",
   "metadata": {},
   "source": [
    "So far all the decorators we have looked at take no arguments. In reality most of the functions which are decorated will take arguments. The issue is how do we make a decorators that can take an arbitrary amount of arguments? The answer is with `*args` and `**kwargs`\n",
    "\n",
    "Below we have a `weight` function that takes a weight and the unit of the weight and prints it. The decorators takes that weight and converts it to kilograms and also prints it"
   ]
  },
  {
   "cell_type": "code",
   "execution_count": 1,
   "metadata": {},
   "outputs": [],
   "source": [
    "def to_kg(func):\n",
    "    def wrapper(*args, **kwargs):\n",
    "        if kwargs['unit'] == 'lb':\n",
    "            kg = args[0] / 2.2\n",
    "            return '\\n'.join([func(*args, **kwargs), f'Weight: {kg}kg'])\n",
    "        else:\n",
    "            return func(*args, **kwargs)\n",
    "    return wrapper"
   ]
  },
  {
   "cell_type": "code",
   "execution_count": 2,
   "metadata": {},
   "outputs": [],
   "source": [
    "@to_kg\n",
    "def weight(weight, unit='kg'):\n",
    "    return f'Weight: {weight}{unit}'"
   ]
  },
  {
   "cell_type": "code",
   "execution_count": 3,
   "metadata": {},
   "outputs": [
    {
     "name": "stdout",
     "output_type": "stream",
     "text": [
      "Weight: 200lb\n",
      "Weight: 90.9090909090909kg\n"
     ]
    }
   ],
   "source": [
    "print(weight(200, unit='lb'))"
   ]
  }
 ],
 "metadata": {
  "kernelspec": {
   "display_name": "Python 3",
   "language": "python",
   "name": "python3"
  },
  "language_info": {
   "codemirror_mode": {
    "name": "ipython",
    "version": 3
   },
   "file_extension": ".py",
   "mimetype": "text/x-python",
   "name": "python",
   "nbconvert_exporter": "python",
   "pygments_lexer": "ipython3",
   "version": "3.6.2"
  }
 },
 "nbformat": 4,
 "nbformat_minor": 2
}
