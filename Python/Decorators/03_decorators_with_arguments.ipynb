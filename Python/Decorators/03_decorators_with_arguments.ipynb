{
 "cells": [
  {
   "cell_type": "markdown",
   "metadata": {},
   "source": [
    "# Decorators with Arguments"
   ]
  },
  {
   "cell_type": "markdown",
   "metadata": {},
   "source": [
    "So far all the decorators we have looked at take no arguments. In reality most of the functions which are decorated will take arguments. The issue is how do we make a decorators that can take an arbitrary amount of arguments? The answer is with `*args` and `**kwargs`\n",
    "\n",
    "Below we have a `weight` function that takes a weight and the unit of the weight and prints it. The decorators takes that weight and converts it to kilograms and also prints it"
   ]
  },
  {
   "cell_type": "code",
   "execution_count": 1,
   "metadata": {},
   "outputs": [],
   "source": [
    "def to_kg(func):\n",
    "    def wrapper(*args, **kwargs):\n",
    "        if kwargs['unit'] == 'lb':\n",
    "            kg = args[0] / 2.2\n",
    "            return '\\n'.join([func(*args, **kwargs), f'Weight: {kg}kg'])\n",
    "        else:\n",
    "            return func(*args, **kwargs)\n",
    "    return wrapper"
   ]
  },
  {
   "cell_type": "code",
   "execution_count": 2,
   "metadata": {},
   "outputs": [],
   "source": [
    "@to_kg\n",
    "def weight(weight, unit='kg'):\n",
    "    return f'Weight: {weight}{unit}'"
   ]
  },
  {
   "cell_type": "code",
   "execution_count": 3,
   "metadata": {},
   "outputs": [
    {
     "name": "stdout",
     "output_type": "stream",
     "text": [
      "Weight: 200lb\n",
      "Weight: 90.9090909090909kg\n"
     ]
    }
   ],
   "source": [
    "print(weight(200, unit='lb'))"
   ]
  },
  {
   "cell_type": "markdown",
   "metadata": {},
   "source": [
    "Can a decorator itself take arguments? Of course it can, take the following example where the decorator adds a number to the return value.\n",
    "\n",
    "**This is the cumbersome way to do it**"
   ]
  },
  {
   "cell_type": "code",
   "execution_count": 4,
   "metadata": {},
   "outputs": [],
   "source": [
    "def add2(func):\n",
    "    def wrapper(n):\n",
    "        return func(n) + 2\n",
    "    return wrapper\n",
    "\n",
    "def add4(func):\n",
    "    def wrapper(n):\n",
    "        return func(n) + 4\n",
    "    return wrapper\n",
    "\n",
    "@add2\n",
    "def foo(x):\n",
    "    return x + 10\n",
    "\n",
    "@add4\n",
    "def bar(x):\n",
    "    return x + 6"
   ]
  },
  {
   "cell_type": "code",
   "execution_count": 5,
   "metadata": {},
   "outputs": [
    {
     "data": {
      "text/plain": [
       "17"
      ]
     },
     "execution_count": 5,
     "metadata": {},
     "output_type": "execute_result"
    }
   ],
   "source": [
    "foo(5)"
   ]
  },
  {
   "cell_type": "code",
   "execution_count": 6,
   "metadata": {},
   "outputs": [
    {
     "data": {
      "text/plain": [
       "15"
      ]
     },
     "execution_count": 6,
     "metadata": {},
     "output_type": "execute_result"
    }
   ],
   "source": [
    "bar(5)"
   ]
  },
  {
   "cell_type": "markdown",
   "metadata": {},
   "source": [
    "There is literally one character difference between `add2` and `add4`. It's very repetitive and poorly maintainable. If would be much better it would make a decorator that takes an argument e.g. `add(n)`"
   ]
  },
  {
   "cell_type": "code",
   "execution_count": 7,
   "metadata": {},
   "outputs": [],
   "source": [
    "def add(increment):\n",
    "    def decorator(func):\n",
    "        def wrapper(n):\n",
    "            return func(n) + increment\n",
    "        return wrapper\n",
    "    return decorator"
   ]
  },
  {
   "cell_type": "markdown",
   "metadata": {},
   "source": [
    "The thing to remember here is that `add` is not a decorator it is a function that returns a decorator."
   ]
  },
  {
   "cell_type": "code",
   "execution_count": 8,
   "metadata": {},
   "outputs": [],
   "source": [
    "@add(50)\n",
    "def foo(x):\n",
    "    return x + 10"
   ]
  },
  {
   "cell_type": "code",
   "execution_count": 9,
   "metadata": {},
   "outputs": [
    {
     "data": {
      "text/plain": [
       "110"
      ]
     },
     "execution_count": 9,
     "metadata": {},
     "output_type": "execute_result"
    }
   ],
   "source": [
    "foo(50)"
   ]
  }
 ],
 "metadata": {
  "kernelspec": {
   "display_name": "Python 3",
   "language": "python",
   "name": "python3"
  },
  "language_info": {
   "codemirror_mode": {
    "name": "ipython",
    "version": 3
   },
   "file_extension": ".py",
   "mimetype": "text/x-python",
   "name": "python",
   "nbconvert_exporter": "python",
   "pygments_lexer": "ipython3",
   "version": "3.7.0"
  }
 },
 "nbformat": 4,
 "nbformat_minor": 2
}
