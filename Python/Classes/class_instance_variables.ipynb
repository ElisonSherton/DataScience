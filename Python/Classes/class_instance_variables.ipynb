{
 "cells": [
  {
   "cell_type": "markdown",
   "metadata": {},
   "source": [
    "# Class Vs. Instance Variables\n",
    "\n",
    "Python objects allow for the distinction between class and instance variables, which can cause many headaches.\n",
    "\n",
    "The important distinction is that:\n",
    "- `Class` variables are attached to the class\n",
    "- `Instance` variables are associated with the instance of the class\n",
    "\n",
    "Lets take a deeper look:"
   ]
  },
  {
   "cell_type": "code",
   "execution_count": 1,
   "metadata": {},
   "outputs": [],
   "source": [
    "class Car:\n",
    "    \n",
    "    colour = 'red' # class variable\n",
    "    \n",
    "    def __init__(self, make):\n",
    "        self.make = make # instance variable"
   ]
  },
  {
   "cell_type": "code",
   "execution_count": 2,
   "metadata": {},
   "outputs": [],
   "source": [
    "car_1 = Car('Ford')\n",
    "car_2 = Car('Aston Martin')"
   ]
  },
  {
   "cell_type": "code",
   "execution_count": 3,
   "metadata": {},
   "outputs": [
    {
     "name": "stdout",
     "output_type": "stream",
     "text": [
      "red\n",
      "red Ford\n",
      "red Aston Martin\n"
     ]
    }
   ],
   "source": [
    "print(Car.colour)\n",
    "print(car_1.colour, car_1.make)\n",
    "print(car_2.colour, car_2.make)"
   ]
  },
  {
   "cell_type": "markdown",
   "metadata": {},
   "source": [
    "Everything as it should be. Now imagine we want to change the `car_2` instance colour to blue we could change it on the class:"
   ]
  },
  {
   "cell_type": "code",
   "execution_count": 4,
   "metadata": {},
   "outputs": [],
   "source": [
    "Car.colour = 'blue'"
   ]
  },
  {
   "cell_type": "code",
   "execution_count": 5,
   "metadata": {},
   "outputs": [
    {
     "name": "stdout",
     "output_type": "stream",
     "text": [
      "blue\n",
      "blue Ford\n",
      "blue Aston Martin\n"
     ]
    }
   ],
   "source": [
    "print(Car.colour)\n",
    "print(car_1.colour, car_1.make)\n",
    "print(car_2.colour, car_2.make)"
   ]
  },
  {
   "cell_type": "markdown",
   "metadata": {},
   "source": [
    "It worked, but now we also changed the `class` and `car_1` instance. Another idea is directly create a `colour` attribute in the instance of `car_2`:"
   ]
  },
  {
   "cell_type": "code",
   "execution_count": 6,
   "metadata": {},
   "outputs": [],
   "source": [
    "Car.colour = 'red'\n",
    "car_2.colour = 'blue'"
   ]
  },
  {
   "cell_type": "markdown",
   "metadata": {},
   "source": [
    "Now only the car_1 instance and the Car class should be red: "
   ]
  },
  {
   "cell_type": "code",
   "execution_count": 7,
   "metadata": {},
   "outputs": [
    {
     "name": "stdout",
     "output_type": "stream",
     "text": [
      "red\n",
      "red\n",
      "blue\n"
     ]
    }
   ],
   "source": [
    "print(Car.colour)\n",
    "print(car_1.colour)\n",
    "print(car_2.colour)"
   ]
  },
  {
   "cell_type": "markdown",
   "metadata": {},
   "source": [
    "Okay so everything seems good, what's the issue here?"
   ]
  },
  {
   "cell_type": "code",
   "execution_count": 8,
   "metadata": {},
   "outputs": [
    {
     "name": "stdout",
     "output_type": "stream",
     "text": [
      "blue red\n"
     ]
    }
   ],
   "source": [
    "print(car_2.colour, car_2.__class__.colour)"
   ]
  },
  {
   "cell_type": "markdown",
   "metadata": {},
   "source": [
    "There’s the issue, the class instance is now out of sync. This is because we created and instance variable with the same name. This may not seem bad, but it's important to understand what has happened here and can save you a lot of headache in the future"
   ]
  }
 ],
 "metadata": {
  "kernelspec": {
   "display_name": "Python 3",
   "language": "python",
   "name": "python3"
  },
  "language_info": {
   "codemirror_mode": {
    "name": "ipython",
    "version": 3
   },
   "file_extension": ".py",
   "mimetype": "text/x-python",
   "name": "python",
   "nbconvert_exporter": "python",
   "pygments_lexer": "ipython3",
   "version": "3.6.2"
  }
 },
 "nbformat": 4,
 "nbformat_minor": 2
}
