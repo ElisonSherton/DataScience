{
 "cells": [
  {
   "cell_type": "markdown",
   "metadata": {},
   "source": [
    "# Finding Smallest N or Largest N Items\n",
    "\n",
    "Give a list of integers or floats you want to find the largest or smallest N items.\n",
    "\n",
    "A solution would be to use the `heapq` module. This module has two functions `nlargest()` and `nsmallest()` that can achieve what we want:"
   ]
  },
  {
   "cell_type": "code",
   "execution_count": 1,
   "metadata": {},
   "outputs": [],
   "source": [
    "import heapq\n",
    "\n",
    "numbers = [1, 3, 5, -10, 4, 32, 5453, 0, -34]"
   ]
  },
  {
   "cell_type": "markdown",
   "metadata": {},
   "source": [
    "Let's find the 3 largest numbers in `numbers`:"
   ]
  },
  {
   "cell_type": "code",
   "execution_count": 2,
   "metadata": {},
   "outputs": [
    {
     "name": "stdout",
     "output_type": "stream",
     "text": [
      "[5453, 32, 5]\n"
     ]
    }
   ],
   "source": [
    "print(heapq.nlargest(3, numbers))"
   ]
  },
  {
   "cell_type": "markdown",
   "metadata": {},
   "source": [
    "and the 3 smallest:"
   ]
  },
  {
   "cell_type": "code",
   "execution_count": 3,
   "metadata": {},
   "outputs": [
    {
     "name": "stdout",
     "output_type": "stream",
     "text": [
      "[-34, -10, 0]\n"
     ]
    }
   ],
   "source": [
    "print(heapq.nsmallest(3, numbers))"
   ]
  },
  {
   "cell_type": "markdown",
   "metadata": {},
   "source": [
    "This can be extended to other containers by passing in a `key` parameter:"
   ]
  },
  {
   "cell_type": "code",
   "execution_count": 4,
   "metadata": {},
   "outputs": [],
   "source": [
    "prices = [\n",
    "    {'item': 'pencils', 'price': 3.00},\n",
    "    {'item': 'paper', 'price': 0.50},\n",
    "    {'item': 'pens', 'price': 5.38},\n",
    "    {'item': 'rubber', 'price': 0.3},\n",
    "    {'item': 'binder', 'price': 12.99},\n",
    "]"
   ]
  },
  {
   "cell_type": "markdown",
   "metadata": {},
   "source": [
    "Top 3 cheapest items:"
   ]
  },
  {
   "cell_type": "code",
   "execution_count": 7,
   "metadata": {},
   "outputs": [
    {
     "name": "stdout",
     "output_type": "stream",
     "text": [
      "[{'item': 'rubber', 'price': 0.3}, {'item': 'paper', 'price': 0.5}, {'item': 'pencils', 'price': 3.0}]\n"
     ]
    }
   ],
   "source": [
    "print(heapq.nsmallest(3, prices, key=lambda item: item['price']))"
   ]
  },
  {
   "cell_type": "markdown",
   "metadata": {},
   "source": [
    "Top 3 expensive items:"
   ]
  },
  {
   "cell_type": "code",
   "execution_count": 8,
   "metadata": {},
   "outputs": [
    {
     "name": "stdout",
     "output_type": "stream",
     "text": [
      "[{'item': 'binder', 'price': 12.99}, {'item': 'pens', 'price': 5.38}, {'item': 'pencils', 'price': 3.0}]\n"
     ]
    }
   ],
   "source": [
    "print(heapq.nlargest(3, prices, key=lambda item: item['price']))"
   ]
  },
  {
   "cell_type": "markdown",
   "metadata": {},
   "source": [
    "For largers lists it may be a better approach to sort the list and then splice as both these functions sort the list first."
   ]
  }
 ],
 "metadata": {
  "kernelspec": {
   "display_name": "Python 3",
   "language": "python",
   "name": "python3"
  },
  "language_info": {
   "codemirror_mode": {
    "name": "ipython",
    "version": 3
   },
   "file_extension": ".py",
   "mimetype": "text/x-python",
   "name": "python",
   "nbconvert_exporter": "python",
   "pygments_lexer": "ipython3",
   "version": "3.6.2"
  }
 },
 "nbformat": 4,
 "nbformat_minor": 2
}
