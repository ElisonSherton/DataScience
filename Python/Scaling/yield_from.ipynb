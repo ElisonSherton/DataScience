{
 "cells": [
  {
   "cell_type": "markdown",
   "metadata": {},
   "source": [
    "# Yeild From\n",
    "\n",
    "With generators there can be a lot of boiler plate code:\n",
    "```\n",
    "for i in something:\n",
    "    yield something\n",
    "```\n",
    "\n",
    "This can be reduced with the `yield from` statement and is used then you are \"yielding\" \"from\" a generator object.\n",
    "\n",
    "Let's first create an function which returns a string of a list:"
   ]
  },
  {
   "cell_type": "code",
   "execution_count": 1,
   "metadata": {},
   "outputs": [],
   "source": [
    "def list_of_lines():\n",
    "    lines = ['This is line 1', 'This is line 2', 'This is line 3', 'This is line 4', 'This is line 5', 'This is line 6']\n",
    "    for line in lines:\n",
    "        yield line"
   ]
  },
  {
   "cell_type": "code",
   "execution_count": 2,
   "metadata": {},
   "outputs": [
    {
     "data": {
      "text/plain": [
       "<generator object list_of_lines at 0x05067990>"
      ]
     },
     "execution_count": 2,
     "metadata": {},
     "output_type": "execute_result"
    }
   ],
   "source": [
    "list_of_lines()"
   ]
  },
  {
   "cell_type": "code",
   "execution_count": 3,
   "metadata": {},
   "outputs": [
    {
     "data": {
      "text/plain": [
       "['This is line 1',\n",
       " 'This is line 2',\n",
       " 'This is line 3',\n",
       " 'This is line 4',\n",
       " 'This is line 5',\n",
       " 'This is line 6']"
      ]
     },
     "execution_count": 3,
     "metadata": {},
     "output_type": "execute_result"
    }
   ],
   "source": [
    "list(list_of_lines())"
   ]
  },
  {
   "cell_type": "markdown",
   "metadata": {},
   "source": [
    "As you can see `list_of_lines()` returns a generator object.\n",
    "\n",
    "Let's create another function which splits each line into words and also make that into a generator:"
   ]
  },
  {
   "cell_type": "code",
   "execution_count": 4,
   "metadata": {},
   "outputs": [],
   "source": [
    "def words_in_line():\n",
    "    lines = list_of_lines()\n",
    "    for line in lines:\n",
    "        yield line.split()"
   ]
  },
  {
   "cell_type": "code",
   "execution_count": 5,
   "metadata": {},
   "outputs": [
    {
     "data": {
      "text/plain": [
       "<generator object words_in_line at 0x05067E70>"
      ]
     },
     "execution_count": 5,
     "metadata": {},
     "output_type": "execute_result"
    }
   ],
   "source": [
    "words_in_line()"
   ]
  },
  {
   "cell_type": "code",
   "execution_count": 6,
   "metadata": {},
   "outputs": [
    {
     "data": {
      "text/plain": [
       "[['This', 'is', 'line', '1'],\n",
       " ['This', 'is', 'line', '2'],\n",
       " ['This', 'is', 'line', '3'],\n",
       " ['This', 'is', 'line', '4'],\n",
       " ['This', 'is', 'line', '5'],\n",
       " ['This', 'is', 'line', '6']]"
      ]
     },
     "execution_count": 6,
     "metadata": {},
     "output_type": "execute_result"
    }
   ],
   "source": [
    "list(words_in_line())"
   ]
  },
  {
   "cell_type": "markdown",
   "metadata": {},
   "source": [
    "Nice! Common in both functions are the `for` loop statements followed by a yield statement, this can be reduced down to a single line with the `yield from` statment:"
   ]
  },
  {
   "cell_type": "code",
   "execution_count": 7,
   "metadata": {},
   "outputs": [],
   "source": [
    "def process_lines():\n",
    "    yield from words_in_line()"
   ]
  },
  {
   "cell_type": "code",
   "execution_count": 8,
   "metadata": {},
   "outputs": [
    {
     "data": {
      "text/plain": [
       "<generator object process_lines at 0x052B1900>"
      ]
     },
     "execution_count": 8,
     "metadata": {},
     "output_type": "execute_result"
    }
   ],
   "source": [
    "process_lines()"
   ]
  },
  {
   "cell_type": "code",
   "execution_count": 9,
   "metadata": {},
   "outputs": [
    {
     "data": {
      "text/plain": [
       "[['This', 'is', 'line', '1'],\n",
       " ['This', 'is', 'line', '2'],\n",
       " ['This', 'is', 'line', '3'],\n",
       " ['This', 'is', 'line', '4'],\n",
       " ['This', 'is', 'line', '5'],\n",
       " ['This', 'is', 'line', '6']]"
      ]
     },
     "execution_count": 9,
     "metadata": {},
     "output_type": "execute_result"
    }
   ],
   "source": [
    "list(process_lines())"
   ]
  },
  {
   "cell_type": "markdown",
   "metadata": {},
   "source": [
    "`process_lines()` is itself a generator and yields from a generator. The `yield from` statement is used specifically in generator functions, when they yield values directly from another generator object."
   ]
  }
 ],
 "metadata": {
  "kernelspec": {
   "display_name": "Python 3",
   "language": "python",
   "name": "python3"
  },
  "language_info": {
   "codemirror_mode": {
    "name": "ipython",
    "version": 3
   },
   "file_extension": ".py",
   "mimetype": "text/x-python",
   "name": "python",
   "nbconvert_exporter": "python",
   "pygments_lexer": "ipython3",
   "version": "3.6.2"
  }
 },
 "nbformat": 4,
 "nbformat_minor": 2
}
