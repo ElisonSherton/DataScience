{
 "cells": [
  {
   "cell_type": "markdown",
   "metadata": {},
   "source": [
    "# Reinforcment Learning\n",
    "\n",
    "Parts of this notebook has been reproduced from the [Hands-On Machine Learning with Scikit-Learn and TensorFlow](https://www.amazon.co.uk/Hands-Machine-Learning-Scikit-Learn-TensorFlow/dp/1491962291) book.\n",
    "\n",
    "The animation in this notebook only works with jupyter notebook and not with jupyter lab"
   ]
  },
  {
   "cell_type": "code",
   "execution_count": 30,
   "metadata": {},
   "outputs": [],
   "source": [
    "import gym\n",
    "import matplotlib\n",
    "import matplotlib.animation as animation\n",
    "import matplotlib.pyplot as plt\n",
    "import numpy as np\n",
    "from IPython import display\n",
    "import torch\n",
    "from torch import nn"
   ]
  },
  {
   "cell_type": "code",
   "execution_count": 24,
   "metadata": {},
   "outputs": [
    {
     "name": "stdout",
     "output_type": "stream",
     "text": [
      "Warning: Cannot change to a different GUI toolkit: notebook. Using nbagg instead.\n",
      "Warning: Cannot change to a different GUI toolkit: notebook. Using nbagg instead.\n"
     ]
    }
   ],
   "source": [
    "%matplotlib notebook\n",
    "%matplotlib notebook # Doing this twice is important..."
   ]
  },
  {
   "cell_type": "code",
   "execution_count": 3,
   "metadata": {},
   "outputs": [],
   "source": [
    "def set_seed(seed):\n",
    "    np.random.seed(seed)"
   ]
  },
  {
   "cell_type": "code",
   "execution_count": 4,
   "metadata": {},
   "outputs": [],
   "source": [
    "# Functions for the fancy videos\n",
    "def update_scene(num, frames, patch):\n",
    "    patch.set_data(frames[num])\n",
    "    return patch,\n",
    "\n",
    "def plot_animation(frames, repeat=False, interval=40):\n",
    "    plt.close()  # or else nbagg sometimes plots in the previous cell\n",
    "    fig = plt.figure()\n",
    "    patch = plt.imshow(frames[0])\n",
    "    plt.axis('off')\n",
    "    return animation.FuncAnimation(fig, update_scene, fargs=(frames, patch), frames=len(frames), repeat=repeat, interval=interval)"
   ]
  },
  {
   "cell_type": "markdown",
   "metadata": {},
   "source": [
    "## Quick Intro:\n",
    "\n",
    "In reinforcment learning (RL) an agent makes observations of an enviroment and takes actions based on these observations. In return the agent receives rewards. The agent acts in the environment and learns by trial and error to maximise the reward.\n",
    "\n",
    "Examples:\n",
    "- **Walking robot**: real worl environment the, agent sees the world through sensors. Action is sending signals to activate motors. Rewards could be whenever it approaches a destination, negative rewards when it wastes time, falls down or goes in the wrong direction.\n",
    "- **PacMan**: Environment is simulation of the game. Action = joystick direction. Obserbations are screen shots and rewards are game points.\n",
    "- **Stock Market**: Agent can observe stock market prices and observe how much to buy or sell. Rewards are monetary gains and losses\n",
    "\n",
    "In some cases there may not be a positive reward. For exmaple, an agent may move around a maze getting a negative reward at every timestep. So it is better to find the exit quickly.\n",
    "\n",
    "### Policy Search\n",
    "\n",
    "- Algorithm used by software agent to determine its actions is called its Policy\n",
    "- Policy can be an algorithm and it does not have to deterministic. e.g. There could be a probability in choosing an action. This introduces randomness and is a stochastic policy\n",
    "\n",
    "What parameters should be used for a policy? We can use policy search to find them:\n",
    "- Brute force and search everything\n",
    "- Use genetic algorithms. Generate 100 random policies, try them, kill 80 of the worst policies mane the 20 survivors produce 4 offspring each. Offspring is a copy of the parent + random variation. Continue iterating like this until you find a good policy.\n",
    "- Policy Gradients. Evaluate the gradients of the rewards with regards to the policy parameters. Tweak these parameters by following the gradient toward higher rewards (gradient ascent)\n",
    "\n",
    "### OpenAI Gym\n",
    "\n",
    "One of the challenges in RL is that you need a working environment. Training is slow and hard in the real world so you generally need a simulated environment at least to bootstrap training. OpenAI gym provides a wide variety of simulated environments e.g. Atari games, board games, 2D and 3D physical simulations.\n",
    "\n",
    "CartPole is a 2D simulation in which a cart is accelerated right or left in order to balance the pole. Lets play around with is example in OpenAI Gym"
   ]
  },
  {
   "cell_type": "code",
   "execution_count": 5,
   "metadata": {},
   "outputs": [],
   "source": [
    "env = gym.make('CartPole-v0') # Create CartPole game environment\n",
    "obs = env.reset() # Initialize the environment by reseting it"
   ]
  },
  {
   "cell_type": "markdown",
   "metadata": {},
   "source": [
    "Each observation in the game is a 1D numpy array made up of 4 floats which represent:\n",
    "- cart's horizontal position: 0.0 = centre\n",
    "- velocity\n",
    "- Angle of pole: 0.0 = vertical\n",
    "- Angular velocity"
   ]
  },
  {
   "cell_type": "code",
   "execution_count": 6,
   "metadata": {},
   "outputs": [
    {
     "data": {
      "text/plain": [
       "array([-0.03884452,  0.00342849, -0.03834506,  0.00415401])"
      ]
     },
     "execution_count": 6,
     "metadata": {},
     "output_type": "execute_result"
    }
   ],
   "source": [
    "obs"
   ]
  },
  {
   "cell_type": "code",
   "execution_count": 7,
   "metadata": {},
   "outputs": [
    {
     "data": {
      "text/plain": [
       "<matplotlib.image.AxesImage at 0x153f0345688>"
      ]
     },
     "execution_count": 7,
     "metadata": {},
     "output_type": "execute_result"
    },
    {
     "data": {
      "image/png": "[encoded data removed]",
      "text/plain": [
       "<Figure size 432x288 with 1 Axes>"
      ]
     },
     "metadata": {
      "needs_background": "light"
     },
     "output_type": "display_data"
    }
   ],
   "source": [
    "plt.imshow(env.render(mode='rgb_array')) # Render the image and plot. Will also annoyingly create a pop-up window"
   ]
  },
  {
   "cell_type": "markdown",
   "metadata": {},
   "source": [
    "To view what actions are possible call `env.action_space`"
   ]
  },
  {
   "cell_type": "code",
   "execution_count": 8,
   "metadata": {},
   "outputs": [
    {
     "data": {
      "text/plain": [
       "Discrete(2)"
      ]
     },
     "execution_count": 8,
     "metadata": {},
     "output_type": "execute_result"
    }
   ],
   "source": [
    "env.action_space"
   ]
  },
  {
   "cell_type": "markdown",
   "metadata": {},
   "source": [
    "This means that possible actions are 0 and 1. Which are accelerate left (0) or accelerate right (1). Other environments have many more actions and of different type e.g. continuous.\n",
    "\n",
    "From the observation it looks like the pole in leaning slightly towards the left, let's take an action to move the cart left. The `env.step` method executes the action and returns 4 values:\n",
    "- obs: the new observations.\n",
    "- reward: In this environment you get a reward of 1 for every step. No matter what you do. So the goal is to keep running as long as possible.\n",
    "- done: This will return `true` when the episode is over. Happens when the pole tilts too much. After which the environment must be reset.\n",
    "- info: `Dict` that provides extra debug information. This should not be used for training!"
   ]
  },
  {
   "cell_type": "code",
   "execution_count": 9,
   "metadata": {},
   "outputs": [],
   "source": [
    "obs, reward, done, info = env.step(0)"
   ]
  },
  {
   "cell_type": "code",
   "execution_count": 10,
   "metadata": {},
   "outputs": [
    {
     "data": {
      "text/plain": [
       "array([-0.03877595, -0.19112316, -0.03826198,  0.28449628])"
      ]
     },
     "execution_count": 10,
     "metadata": {},
     "output_type": "execute_result"
    }
   ],
   "source": [
    "obs"
   ]
  },
  {
   "cell_type": "code",
   "execution_count": 11,
   "metadata": {},
   "outputs": [
    {
     "data": {
      "text/plain": [
       "<matplotlib.image.AxesImage at 0x153f03e9948>"
      ]
     },
     "execution_count": 11,
     "metadata": {},
     "output_type": "execute_result"
    },
    {
     "data": {
      "image/png": "[encoded data removed]",
      "text/plain": [
       "<Figure size 432x288 with 1 Axes>"
      ]
     },
     "metadata": {
      "needs_background": "light"
     },
     "output_type": "display_data"
    }
   ],
   "source": [
    "plt.imshow(env.render(mode='rgb_array'))"
   ]
  },
  {
   "cell_type": "code",
   "execution_count": 12,
   "metadata": {},
   "outputs": [
    {
     "data": {
      "text/plain": [
       "1.0"
      ]
     },
     "execution_count": 12,
     "metadata": {},
     "output_type": "execute_result"
    }
   ],
   "source": [
    "reward"
   ]
  },
  {
   "cell_type": "code",
   "execution_count": 13,
   "metadata": {},
   "outputs": [
    {
     "data": {
      "text/plain": [
       "False"
      ]
     },
     "execution_count": 13,
     "metadata": {},
     "output_type": "execute_result"
    }
   ],
   "source": [
    "done"
   ]
  },
  {
   "cell_type": "code",
   "execution_count": 14,
   "metadata": {},
   "outputs": [
    {
     "data": {
      "text/plain": [
       "{}"
      ]
     },
     "execution_count": 14,
     "metadata": {},
     "output_type": "execute_result"
    }
   ],
   "source": [
    "info"
   ]
  },
  {
   "cell_type": "markdown",
   "metadata": {},
   "source": [
    "Let's create a simple policy that accelerates left when the pole is leaning left and move right when the pole is leaning right. We will run this for over 500 episodes"
   ]
  },
  {
   "cell_type": "code",
   "execution_count": 15,
   "metadata": {},
   "outputs": [],
   "source": [
    "def basic_policy(obs):\n",
    "    angle = obs[2]\n",
    "    return 0 if angle < 0 else 1"
   ]
  },
  {
   "cell_type": "code",
   "execution_count": 16,
   "metadata": {},
   "outputs": [],
   "source": [
    "totals = []\n",
    "for episode in range(500):\n",
    "    episode_rewards = 0\n",
    "    obs = env.reset()\n",
    "    for step in range(1000): # max 1000 steps, we eventually want to stop since there is no explicit end-game\n",
    "        action = basic_policy(obs)\n",
    "        obs, reward, done, info = env.step(action)\n",
    "        episode_rewards += reward\n",
    "        if done:\n",
    "            break\n",
    "    totals.append(episode_rewards)"
   ]
  },
  {
   "cell_type": "code",
   "execution_count": 17,
   "metadata": {},
   "outputs": [
    {
     "data": {
      "text/plain": [
       "(41.694, 9.25269495876742, 24.0, 72.0)"
      ]
     },
     "execution_count": 17,
     "metadata": {},
     "output_type": "execute_result"
    }
   ],
   "source": [
    "np.mean(totals), np.std(totals), np.min(totals), np.max(totals)"
   ]
  },
  {
   "cell_type": "markdown",
   "metadata": {},
   "source": [
    "With 500 attempts, this policy never manages to keep the pole upright for more than 68 steps!"
   ]
  },
  {
   "cell_type": "code",
   "execution_count": 76,
   "metadata": {},
   "outputs": [],
   "source": [
    "frames = []\n",
    "env = gym.make('CartPole-v0')\n",
    "obs = env.reset()\n",
    "for step in range(1000):\n",
    "    img = env.render(mode='rgb_array')\n",
    "    frames.append(img)\n",
    "    # hard-coded policy\n",
    "    action = basic_policy(obs)\n",
    "    obs, reward, done, info = env.step(action)\n",
    "    if done:\n",
    "        break\n",
    "env.close()"
   ]
  },
  {
   "cell_type": "code",
   "execution_count": 77,
   "metadata": {},
   "outputs": [
    {
     "data": {
      "application/javascript": [
       "/* Put everything inside the global mpl namespace */\n",
       "window.mpl = {};\n",
       "\n",
       "\n",
       "mpl.get_websocket_type = function() {\n",
       "    if (typeof(WebSocket) !== 'undefined') {\n",
       "        return WebSocket;\n",
       "    } else if (typeof(MozWebSocket) !== 'undefined') {\n",
       "        return MozWebSocket;\n",
       "    } else {\n",
       "        alert('Your browser does not have WebSocket support. ' +\n",
       "              'Please try Chrome, Safari or Firefox ≥ 6. ' +\n",
       "              'Firefox 4 and 5 are also supported but you ' +\n",
       "              'have to enable WebSockets in about:config.');\n",
       "    };\n",
       "}\n",
       "\n",
       "mpl.figure = function(figure_id, websocket, ondownload, parent_element) {\n",
       "    this.id = figure_id;\n",
       "\n",
       "    this.ws = websocket;\n",
       "\n",
       "    this.supports_binary = (this.ws.binaryType != undefined);\n",
       "\n",
       "    if (!this.supports_binary) {\n",
       "        var warnings = document.getElementById(\"mpl-warnings\");\n",
       "        if (warnings) {\n",
       "            warnings.style.display = 'block';\n",
       "            warnings.textContent = (\n",
       "                \"This browser does not support binary websocket messages. \" +\n",
       "                    \"Performance may be slow.\");\n",
       "        }\n",
       "    }\n",
       "\n",
       "    this.imageObj = new Image();\n",
       "\n",
       "    this.context = undefined;\n",
       "    this.message = undefined;\n",
       "    this.canvas = undefined;\n",
       "    this.rubberband_canvas = undefined;\n",
       "    this.rubberband_context = undefined;\n",
       "    this.format_dropdown = undefined;\n",
       "\n",
       "    this.image_mode = 'full';\n",
       "\n",
       "    this.root = $('<div/>');\n",
       "    this._root_extra_style(this.root)\n",
       "    this.root.attr('style', 'display: inline-block');\n",
       "\n",
       "    $(parent_element).append(this.root);\n",
       "\n",
       "    this._init_header(this);\n",
       "    this._init_canvas(this);\n",
       "    this._init_toolbar(this);\n",
       "\n",
       "    var fig = this;\n",
       "\n",
       "    this.waiting = false;\n",
       "\n",
       "    this.ws.onopen =  function () {\n",
       "            fig.send_message(\"supports_binary\", {value: fig.supports_binary});\n",
       "            fig.send_message(\"send_image_mode\", {});\n",
       "            if (mpl.ratio != 1) {\n",
       "                fig.send_message(\"set_dpi_ratio\", {'dpi_ratio': mpl.ratio});\n",
       "            }\n",
       "            fig.send_message(\"refresh\", {});\n",
       "        }\n",
       "\n",
       "    this.imageObj.onload = function() {\n",
       "            if (fig.image_mode == 'full') {\n",
       "                // Full images could contain transparency (where diff images\n",
       "                // almost always do), so we need to clear the canvas so that\n",
       "                // there is no ghosting.\n",
       "                fig.context.clearRect(0, 0, fig.canvas.width, fig.canvas.height);\n",
       "            }\n",
       "            fig.context.drawImage(fig.imageObj, 0, 0);\n",
       "        };\n",
       "\n",
       "    this.imageObj.onunload = function() {\n",
       "        fig.ws.close();\n",
       "    }\n",
       "\n",
       "    this.ws.onmessage = this._make_on_message_function(this);\n",
       "\n",
       "    this.ondownload = ondownload;\n",
       "}\n",
       "\n",
       "mpl.figure.prototype._init_header = function() {\n",
       "    var titlebar = $(\n",
       "        '<div class=\"ui-dialog-titlebar ui-widget-header ui-corner-all ' +\n",
       "        'ui-helper-clearfix\"/>');\n",
       "    var titletext = $(\n",
       "        '<div class=\"ui-dialog-title\" style=\"width: 100%; ' +\n",
       "        'text-align: center; padding: 3px;\"/>');\n",
       "    titlebar.append(titletext)\n",
       "    this.root.append(titlebar);\n",
       "    this.header = titletext[0];\n",
       "}\n",
       "\n",
       "\n",
       "\n",
       "mpl.figure.prototype._canvas_extra_style = function(canvas_div) {\n",
       "\n",
       "}\n",
       "\n",
       "\n",
       "mpl.figure.prototype._root_extra_style = function(canvas_div) {\n",
       "\n",
       "}\n",
       "\n",
       "mpl.figure.prototype._init_canvas = function() {\n",
       "    var fig = this;\n",
       "\n",
       "    var canvas_div = $('<div/>');\n",
       "\n",
       "    canvas_div.attr('style', 'position: relative; clear: both; outline: 0');\n",
       "\n",
       "    function canvas_keyboard_event(event) {\n",
       "        return fig.key_event(event, event['data']);\n",
       "    }\n",
       "\n",
       "    canvas_div.keydown('key_press', canvas_keyboard_event);\n",
       "    canvas_div.keyup('key_release', canvas_keyboard_event);\n",
       "    this.canvas_div = canvas_div\n",
       "    this._canvas_extra_style(canvas_div)\n",
       "    this.root.append(canvas_div);\n",
       "\n",
       "    var canvas = $('<canvas/>');\n",
       "    canvas.addClass('mpl-canvas');\n",
       "    canvas.attr('style', \"left: 0; top: 0; z-index: 0; outline: 0\")\n",
       "\n",
       "    this.canvas = canvas[0];\n",
       "    this.context = canvas[0].getContext(\"2d\");\n",
       "\n",
       "    var backingStore = this.context.backingStorePixelRatio ||\n",
       "\tthis.context.webkitBackingStorePixelRatio ||\n",
       "\tthis.context.mozBackingStorePixelRatio ||\n",
       "\tthis.context.msBackingStorePixelRatio ||\n",
       "\tthis.context.oBackingStorePixelRatio ||\n",
       "\tthis.context.backingStorePixelRatio || 1;\n",
       "\n",
       "    mpl.ratio = (window.devicePixelRatio || 1) / backingStore;\n",
       "\n",
       "    var rubberband = $('<canvas/>');\n",
       "    rubberband.attr('style', \"position: absolute; left: 0; top: 0; z-index: 1;\")\n",
       "\n",
       "    var pass_mouse_events = true;\n",
       "\n",
       "    canvas_div.resizable({\n",
       "        start: function(event, ui) {\n",
       "            pass_mouse_events = false;\n",
       "        },\n",
       "        resize: function(event, ui) {\n",
       "            fig.request_resize(ui.size.width, ui.size.height);\n",
       "        },\n",
       "        stop: function(event, ui) {\n",
       "            pass_mouse_events = true;\n",
       "            fig.request_resize(ui.size.width, ui.size.height);\n",
       "        },\n",
       "    });\n",
       "\n",
       "    function mouse_event_fn(event) {\n",
       "        if (pass_mouse_events)\n",
       "            return fig.mouse_event(event, event['data']);\n",
       "    }\n",
       "\n",
       "    rubberband.mousedown('button_press', mouse_event_fn);\n",
       "    rubberband.mouseup('button_release', mouse_event_fn);\n",
       "    // Throttle sequential mouse events to 1 every 20ms.\n",
       "    rubberband.mousemove('motion_notify', mouse_event_fn);\n",
       "\n",
       "    rubberband.mouseenter('figure_enter', mouse_event_fn);\n",
       "    rubberband.mouseleave('figure_leave', mouse_event_fn);\n",
       "\n",
       "    canvas_div.on(\"wheel\", function (event) {\n",
       "        event = event.originalEvent;\n",
       "        event['data'] = 'scroll'\n",
       "        if (event.deltaY < 0) {\n",
       "            event.step = 1;\n",
       "        } else {\n",
       "            event.step = -1;\n",
       "        }\n",
       "        mouse_event_fn(event);\n",
       "    });\n",
       "\n",
       "    canvas_div.append(canvas);\n",
       "    canvas_div.append(rubberband);\n",
       "\n",
       "    this.rubberband = rubberband;\n",
       "    this.rubberband_canvas = rubberband[0];\n",
       "    this.rubberband_context = rubberband[0].getContext(\"2d\");\n",
       "    this.rubberband_context.strokeStyle = \"#000000\";\n",
       "\n",
       "    this._resize_canvas = function(width, height) {\n",
       "        // Keep the size of the canvas, canvas container, and rubber band\n",
       "        // canvas in synch.\n",
       "        canvas_div.css('width', width)\n",
       "        canvas_div.css('height', height)\n",
       "\n",
       "        canvas.attr('width', width * mpl.ratio);\n",
       "        canvas.attr('height', height * mpl.ratio);\n",
       "        canvas.attr('style', 'width: ' + width + 'px; height: ' + height + 'px;');\n",
       "\n",
       "        rubberband.attr('width', width);\n",
       "        rubberband.attr('height', height);\n",
       "    }\n",
       "\n",
       "    // Set the figure to an initial 600x600px, this will subsequently be updated\n",
       "    // upon first draw.\n",
       "    this._resize_canvas(600, 600);\n",
       "\n",
       "    // Disable right mouse context menu.\n",
       "    $(this.rubberband_canvas).bind(\"contextmenu\",function(e){\n",
       "        return false;\n",
       "    });\n",
       "\n",
       "    function set_focus () {\n",
       "        canvas.focus();\n",
       "        canvas_div.focus();\n",
       "    }\n",
       "\n",
       "    window.setTimeout(set_focus, 100);\n",
       "}\n",
       "\n",
       "mpl.figure.prototype._init_toolbar = function() {\n",
       "    var fig = this;\n",
       "\n",
       "    var nav_element = $('<div/>');\n",
       "    nav_element.attr('style', 'width: 100%');\n",
       "    this.root.append(nav_element);\n",
       "\n",
       "    // Define a callback function for later on.\n",
       "    function toolbar_event(event) {\n",
       "        return fig.toolbar_button_onclick(event['data']);\n",
       "    }\n",
       "    function toolbar_mouse_event(event) {\n",
       "        return fig.toolbar_button_onmouseover(event['data']);\n",
       "    }\n",
       "\n",
       "    for(var toolbar_ind in mpl.toolbar_items) {\n",
       "        var name = mpl.toolbar_items[toolbar_ind][0];\n",
       "        var tooltip = mpl.toolbar_items[toolbar_ind][1];\n",
       "        var image = mpl.toolbar_items[toolbar_ind][2];\n",
       "        var method_name = mpl.toolbar_items[toolbar_ind][3];\n",
       "\n",
       "        if (!name) {\n",
       "            // put a spacer in here.\n",
       "            continue;\n",
       "        }\n",
       "        var button = $('<button/>');\n",
       "        button.addClass('ui-button ui-widget ui-state-default ui-corner-all ' +\n",
       "                        'ui-button-icon-only');\n",
       "        button.attr('role', 'button');\n",
       "        button.attr('aria-disabled', 'false');\n",
       "        button.click(method_name, toolbar_event);\n",
       "        button.mouseover(tooltip, toolbar_mouse_event);\n",
       "\n",
       "        var icon_img = $('<span/>');\n",
       "        icon_img.addClass('ui-button-icon-primary ui-icon');\n",
       "        icon_img.addClass(image);\n",
       "        icon_img.addClass('ui-corner-all');\n",
       "\n",
       "        var tooltip_span = $('<span/>');\n",
       "        tooltip_span.addClass('ui-button-text');\n",
       "        tooltip_span.html(tooltip);\n",
       "\n",
       "        button.append(icon_img);\n",
       "        button.append(tooltip_span);\n",
       "\n",
       "        nav_element.append(button);\n",
       "    }\n",
       "\n",
       "    var fmt_picker_span = $('<span/>');\n",
       "\n",
       "    var fmt_picker = $('<select/>');\n",
       "    fmt_picker.addClass('mpl-toolbar-option ui-widget ui-widget-content');\n",
       "    fmt_picker_span.append(fmt_picker);\n",
       "    nav_element.append(fmt_picker_span);\n",
       "    this.format_dropdown = fmt_picker[0];\n",
       "\n",
       "    for (var ind in mpl.extensions) {\n",
       "        var fmt = mpl.extensions[ind];\n",
       "        var option = $(\n",
       "            '<option/>', {selected: fmt === mpl.default_extension}).html(fmt);\n",
       "        fmt_picker.append(option);\n",
       "    }\n",
       "\n",
       "    // Add hover states to the ui-buttons\n",
       "    $( \".ui-button\" ).hover(\n",
       "        function() { $(this).addClass(\"ui-state-hover\");},\n",
       "        function() { $(this).removeClass(\"ui-state-hover\");}\n",
       "    );\n",
       "\n",
       "    var status_bar = $('<span class=\"mpl-message\"/>');\n",
       "    nav_element.append(status_bar);\n",
       "    this.message = status_bar[0];\n",
       "}\n",
       "\n",
       "mpl.figure.prototype.request_resize = function(x_pixels, y_pixels) {\n",
       "    // Request matplotlib to resize the figure. Matplotlib will then trigger a resize in the client,\n",
       "    // which will in turn request a refresh of the image.\n",
       "    this.send_message('resize', {'width': x_pixels, 'height': y_pixels});\n",
       "}\n",
       "\n",
       "mpl.figure.prototype.send_message = function(type, properties) {\n",
       "    properties['type'] = type;\n",
       "    properties['figure_id'] = this.id;\n",
       "    this.ws.send(JSON.stringify(properties));\n",
       "}\n",
       "\n",
       "mpl.figure.prototype.send_draw_message = function() {\n",
       "    if (!this.waiting) {\n",
       "        this.waiting = true;\n",
       "        this.ws.send(JSON.stringify({type: \"draw\", figure_id: this.id}));\n",
       "    }\n",
       "}\n",
       "\n",
       "\n",
       "mpl.figure.prototype.handle_save = function(fig, msg) {\n",
       "    var format_dropdown = fig.format_dropdown;\n",
       "    var format = format_dropdown.options[format_dropdown.selectedIndex].value;\n",
       "    fig.ondownload(fig, format);\n",
       "}\n",
       "\n",
       "\n",
       "mpl.figure.prototype.handle_resize = function(fig, msg) {\n",
       "    var size = msg['size'];\n",
       "    if (size[0] != fig.canvas.width || size[1] != fig.canvas.height) {\n",
       "        fig._resize_canvas(size[0], size[1]);\n",
       "        fig.send_message(\"refresh\", {});\n",
       "    };\n",
       "}\n",
       "\n",
       "mpl.figure.prototype.handle_rubberband = function(fig, msg) {\n",
       "    var x0 = msg['x0'] / mpl.ratio;\n",
       "    var y0 = (fig.canvas.height - msg['y0']) / mpl.ratio;\n",
       "    var x1 = msg['x1'] / mpl.ratio;\n",
       "    var y1 = (fig.canvas.height - msg['y1']) / mpl.ratio;\n",
       "    x0 = Math.floor(x0) + 0.5;\n",
       "    y0 = Math.floor(y0) + 0.5;\n",
       "    x1 = Math.floor(x1) + 0.5;\n",
       "    y1 = Math.floor(y1) + 0.5;\n",
       "    var min_x = Math.min(x0, x1);\n",
       "    var min_y = Math.min(y0, y1);\n",
       "    var width = Math.abs(x1 - x0);\n",
       "    var height = Math.abs(y1 - y0);\n",
       "\n",
       "    fig.rubberband_context.clearRect(\n",
       "        0, 0, fig.canvas.width / mpl.ratio, fig.canvas.height / mpl.ratio);\n",
       "\n",
       "    fig.rubberband_context.strokeRect(min_x, min_y, width, height);\n",
       "}\n",
       "\n",
       "mpl.figure.prototype.handle_figure_label = function(fig, msg) {\n",
       "    // Updates the figure title.\n",
       "    fig.header.textContent = msg['label'];\n",
       "}\n",
       "\n",
       "mpl.figure.prototype.handle_cursor = function(fig, msg) {\n",
       "    var cursor = msg['cursor'];\n",
       "    switch(cursor)\n",
       "    {\n",
       "    case 0:\n",
       "        cursor = 'pointer';\n",
       "        break;\n",
       "    case 1:\n",
       "        cursor = 'default';\n",
       "        break;\n",
       "    case 2:\n",
       "        cursor = 'crosshair';\n",
       "        break;\n",
       "    case 3:\n",
       "        cursor = 'move';\n",
       "        break;\n",
       "    }\n",
       "    fig.rubberband_canvas.style.cursor = cursor;\n",
       "}\n",
       "\n",
       "mpl.figure.prototype.handle_message = function(fig, msg) {\n",
       "    fig.message.textContent = msg['message'];\n",
       "}\n",
       "\n",
       "mpl.figure.prototype.handle_draw = function(fig, msg) {\n",
       "    // Request the server to send over a new figure.\n",
       "    fig.send_draw_message();\n",
       "}\n",
       "\n",
       "mpl.figure.prototype.handle_image_mode = function(fig, msg) {\n",
       "    fig.image_mode = msg['mode'];\n",
       "}\n",
       "\n",
       "mpl.figure.prototype.updated_canvas_event = function() {\n",
       "    // Called whenever the canvas gets updated.\n",
       "    this.send_message(\"ack\", {});\n",
       "}\n",
       "\n",
       "// A function to construct a web socket function for onmessage handling.\n",
       "// Called in the figure constructor.\n",
       "mpl.figure.prototype._make_on_message_function = function(fig) {\n",
       "    return function socket_on_message(evt) {\n",
       "        if (evt.data instanceof Blob) {\n",
       "            /* FIXME: We get \"Resource interpreted as Image but\n",
       "             * transferred with MIME type text/plain:\" errors on\n",
       "             * Chrome.  But how to set the MIME type?  It doesn't seem\n",
       "             * to be part of the websocket stream */\n",
       "            evt.data.type = \"image/png\";\n",
       "\n",
       "            /* Free the memory for the previous frames */\n",
       "            if (fig.imageObj.src) {\n",
       "                (window.URL || window.webkitURL).revokeObjectURL(\n",
       "                    fig.imageObj.src);\n",
       "            }\n",
       "\n",
       "            fig.imageObj.src = (window.URL || window.webkitURL).createObjectURL(\n",
       "                evt.data);\n",
       "            fig.updated_canvas_event();\n",
       "            fig.waiting = false;\n",
       "            return;\n",
       "        }\n",
       "        else if (typeof evt.data === 'string' && evt.data.slice(0, 21) == \"data:image/png;base64\") {\n",
       "            fig.imageObj.src = evt.data;\n",
       "            fig.updated_canvas_event();\n",
       "            fig.waiting = false;\n",
       "            return;\n",
       "        }\n",
       "\n",
       "        var msg = JSON.parse(evt.data);\n",
       "        var msg_type = msg['type'];\n",
       "\n",
       "        // Call the  \"handle_{type}\" callback, which takes\n",
       "        // the figure and JSON message as its only arguments.\n",
       "        try {\n",
       "            var callback = fig[\"handle_\" + msg_type];\n",
       "        } catch (e) {\n",
       "            console.log(\"No handler for the '\" + msg_type + \"' message type: \", msg);\n",
       "            return;\n",
       "        }\n",
       "\n",
       "        if (callback) {\n",
       "            try {\n",
       "                // console.log(\"Handling '\" + msg_type + \"' message: \", msg);\n",
       "                callback(fig, msg);\n",
       "            } catch (e) {\n",
       "                console.log(\"Exception inside the 'handler_\" + msg_type + \"' callback:\", e, e.stack, msg);\n",
       "            }\n",
       "        }\n",
       "    };\n",
       "}\n",
       "\n",
       "// from http://stackoverflow.com/questions/1114465/getting-mouse-location-in-canvas\n",
       "mpl.findpos = function(e) {\n",
       "    //this section is from http://www.quirksmode.org/js/events_properties.html\n",
       "    var targ;\n",
       "    if (!e)\n",
       "        e = window.event;\n",
       "    if (e.target)\n",
       "        targ = e.target;\n",
       "    else if (e.srcElement)\n",
       "        targ = e.srcElement;\n",
       "    if (targ.nodeType == 3) // defeat Safari bug\n",
       "        targ = targ.parentNode;\n",
       "\n",
       "    // jQuery normalizes the pageX and pageY\n",
       "    // pageX,Y are the mouse positions relative to the document\n",
       "    // offset() returns the position of the element relative to the document\n",
       "    var x = e.pageX - $(targ).offset().left;\n",
       "    var y = e.pageY - $(targ).offset().top;\n",
       "\n",
       "    return {\"x\": x, \"y\": y};\n",
       "};\n",
       "\n",
       "/*\n",
       " * return a copy of an object with only non-object keys\n",
       " * we need this to avoid circular references\n",
       " * http://stackoverflow.com/a/24161582/3208463\n",
       " */\n",
       "function simpleKeys (original) {\n",
       "  return Object.keys(original).reduce(function (obj, key) {\n",
       "    if (typeof original[key] !== 'object')\n",
       "        obj[key] = original[key]\n",
       "    return obj;\n",
       "  }, {});\n",
       "}\n",
       "\n",
       "mpl.figure.prototype.mouse_event = function(event, name) {\n",
       "    var canvas_pos = mpl.findpos(event)\n",
       "\n",
       "    if (name === 'button_press')\n",
       "    {\n",
       "        this.canvas.focus();\n",
       "        this.canvas_div.focus();\n",
       "    }\n",
       "\n",
       "    var x = canvas_pos.x * mpl.ratio;\n",
       "    var y = canvas_pos.y * mpl.ratio;\n",
       "\n",
       "    this.send_message(name, {x: x, y: y, button: event.button,\n",
       "                             step: event.step,\n",
       "                             guiEvent: simpleKeys(event)});\n",
       "\n",
       "    /* This prevents the web browser from automatically changing to\n",
       "     * the text insertion cursor when the button is pressed.  We want\n",
       "     * to control all of the cursor setting manually through the\n",
       "     * 'cursor' event from matplotlib */\n",
       "    event.preventDefault();\n",
       "    return false;\n",
       "}\n",
       "\n",
       "mpl.figure.prototype._key_event_extra = function(event, name) {\n",
       "    // Handle any extra behaviour associated with a key event\n",
       "}\n",
       "\n",
       "mpl.figure.prototype.key_event = function(event, name) {\n",
       "\n",
       "    // Prevent repeat events\n",
       "    if (name == 'key_press')\n",
       "    {\n",
       "        if (event.which === this._key)\n",
       "            return;\n",
       "        else\n",
       "            this._key = event.which;\n",
       "    }\n",
       "    if (name == 'key_release')\n",
       "        this._key = null;\n",
       "\n",
       "    var value = '';\n",
       "    if (event.ctrlKey && event.which != 17)\n",
       "        value += \"ctrl+\";\n",
       "    if (event.altKey && event.which != 18)\n",
       "        value += \"alt+\";\n",
       "    if (event.shiftKey && event.which != 16)\n",
       "        value += \"shift+\";\n",
       "\n",
       "    value += 'k';\n",
       "    value += event.which.toString();\n",
       "\n",
       "    this._key_event_extra(event, name);\n",
       "\n",
       "    this.send_message(name, {key: value,\n",
       "                             guiEvent: simpleKeys(event)});\n",
       "    return false;\n",
       "}\n",
       "\n",
       "mpl.figure.prototype.toolbar_button_onclick = function(name) {\n",
       "    if (name == 'download') {\n",
       "        this.handle_save(this, null);\n",
       "    } else {\n",
       "        this.send_message(\"toolbar_button\", {name: name});\n",
       "    }\n",
       "};\n",
       "\n",
       "mpl.figure.prototype.toolbar_button_onmouseover = function(tooltip) {\n",
       "    this.message.textContent = tooltip;\n",
       "};\n",
       "mpl.toolbar_items = [[\"Home\", \"Reset original view\", \"fa fa-home icon-home\", \"home\"], [\"Back\", \"Back to previous view\", \"fa fa-arrow-left icon-arrow-left\", \"back\"], [\"Forward\", \"Forward to next view\", \"fa fa-arrow-right icon-arrow-right\", \"forward\"], [\"\", \"\", \"\", \"\"], [\"Pan\", \"Pan axes with left mouse, zoom with right\", \"fa fa-arrows icon-move\", \"pan\"], [\"Zoom\", \"Zoom to rectangle\", \"fa fa-square-o icon-check-empty\", \"zoom\"], [\"\", \"\", \"\", \"\"], [\"Download\", \"Download plot\", \"fa fa-floppy-o icon-save\", \"download\"]];\n",
       "\n",
       "mpl.extensions = [\"eps\", \"pdf\", \"png\", \"ps\", \"raw\", \"svg\"];\n",
       "\n",
       "mpl.default_extension = \"png\";var comm_websocket_adapter = function(comm) {\n",
       "    // Create a \"websocket\"-like object which calls the given IPython comm\n",
       "    // object with the appropriate methods. Currently this is a non binary\n",
       "    // socket, so there is still some room for performance tuning.\n",
       "    var ws = {};\n",
       "\n",
       "    ws.close = function() {\n",
       "        comm.close()\n",
       "    };\n",
       "    ws.send = function(m) {\n",
       "        //console.log('sending', m);\n",
       "        comm.send(m);\n",
       "    };\n",
       "    // Register the callback with on_msg.\n",
       "    comm.on_msg(function(msg) {\n",
       "        //console.log('receiving', msg['content']['data'], msg);\n",
       "        // Pass the mpl event to the overridden (by mpl) onmessage function.\n",
       "        ws.onmessage(msg['content']['data'])\n",
       "    });\n",
       "    return ws;\n",
       "}\n",
       "\n",
       "mpl.mpl_figure_comm = function(comm, msg) {\n",
       "    // This is the function which gets called when the mpl process\n",
       "    // starts-up an IPython Comm through the \"matplotlib\" channel.\n",
       "\n",
       "    var id = msg.content.data.id;\n",
       "    // Get hold of the div created by the display call when the Comm\n",
       "    // socket was opened in Python.\n",
       "    var element = $(\"#\" + id);\n",
       "    var ws_proxy = comm_websocket_adapter(comm)\n",
       "\n",
       "    function ondownload(figure, format) {\n",
       "        window.open(figure.imageObj.src);\n",
       "    }\n",
       "\n",
       "    var fig = new mpl.figure(id, ws_proxy,\n",
       "                           ondownload,\n",
       "                           element.get(0));\n",
       "\n",
       "    // Call onopen now - mpl needs it, as it is assuming we've passed it a real\n",
       "    // web socket which is closed, not our websocket->open comm proxy.\n",
       "    ws_proxy.onopen();\n",
       "\n",
       "    fig.parent_element = element.get(0);\n",
       "    fig.cell_info = mpl.find_output_cell(\"<div id='\" + id + \"'></div>\");\n",
       "    if (!fig.cell_info) {\n",
       "        console.error(\"Failed to find cell for figure\", id, fig);\n",
       "        return;\n",
       "    }\n",
       "\n",
       "    var output_index = fig.cell_info[2]\n",
       "    var cell = fig.cell_info[0];\n",
       "\n",
       "};\n",
       "\n",
       "mpl.figure.prototype.handle_close = function(fig, msg) {\n",
       "    var width = fig.canvas.width/mpl.ratio\n",
       "    fig.root.unbind('remove')\n",
       "\n",
       "    // Update the output cell to use the data from the current canvas.\n",
       "    fig.push_to_output();\n",
       "    var dataURL = fig.canvas.toDataURL();\n",
       "    // Re-enable the keyboard manager in IPython - without this line, in FF,\n",
       "    // the notebook keyboard shortcuts fail.\n",
       "    IPython.keyboard_manager.enable()\n",
       "    $(fig.parent_element).html('<img src=\"' + dataURL + '\" width=\"' + width + '\">');\n",
       "    fig.close_ws(fig, msg);\n",
       "}\n",
       "\n",
       "mpl.figure.prototype.close_ws = function(fig, msg){\n",
       "    fig.send_message('closing', msg);\n",
       "    // fig.ws.close()\n",
       "}\n",
       "\n",
       "mpl.figure.prototype.push_to_output = function(remove_interactive) {\n",
       "    // Turn the data on the canvas into data in the output cell.\n",
       "    var width = this.canvas.width/mpl.ratio\n",
       "    var dataURL = this.canvas.toDataURL();\n",
       "    this.cell_info[1]['text/html'] = '<img src=\"' + dataURL + '\" width=\"' + width + '\">';\n",
       "}\n",
       "\n",
       "mpl.figure.prototype.updated_canvas_event = function() {\n",
       "    // Tell IPython that the notebook contents must change.\n",
       "    IPython.notebook.set_dirty(true);\n",
       "    this.send_message(\"ack\", {});\n",
       "    var fig = this;\n",
       "    // Wait a second, then push the new image to the DOM so\n",
       "    // that it is saved nicely (might be nice to debounce this).\n",
       "    setTimeout(function () { fig.push_to_output() }, 1000);\n",
       "}\n",
       "\n",
       "mpl.figure.prototype._init_toolbar = function() {\n",
       "    var fig = this;\n",
       "\n",
       "    var nav_element = $('<div/>');\n",
       "    nav_element.attr('style', 'width: 100%');\n",
       "    this.root.append(nav_element);\n",
       "\n",
       "    // Define a callback function for later on.\n",
       "    function toolbar_event(event) {\n",
       "        return fig.toolbar_button_onclick(event['data']);\n",
       "    }\n",
       "    function toolbar_mouse_event(event) {\n",
       "        return fig.toolbar_button_onmouseover(event['data']);\n",
       "    }\n",
       "\n",
       "    for(var toolbar_ind in mpl.toolbar_items){\n",
       "        var name = mpl.toolbar_items[toolbar_ind][0];\n",
       "        var tooltip = mpl.toolbar_items[toolbar_ind][1];\n",
       "        var image = mpl.toolbar_items[toolbar_ind][2];\n",
       "        var method_name = mpl.toolbar_items[toolbar_ind][3];\n",
       "\n",
       "        if (!name) { continue; };\n",
       "\n",
       "        var button = $('<button class=\"btn btn-default\" href=\"#\" title=\"' + name + '\"><i class=\"fa ' + image + ' fa-lg\"></i></button>');\n",
       "        button.click(method_name, toolbar_event);\n",
       "        button.mouseover(tooltip, toolbar_mouse_event);\n",
       "        nav_element.append(button);\n",
       "    }\n",
       "\n",
       "    // Add the status bar.\n",
       "    var status_bar = $('<span class=\"mpl-message\" style=\"text-align:right; float: right;\"/>');\n",
       "    nav_element.append(status_bar);\n",
       "    this.message = status_bar[0];\n",
       "\n",
       "    // Add the close button to the window.\n",
       "    var buttongrp = $('<div class=\"btn-group inline pull-right\"></div>');\n",
       "    var button = $('<button class=\"btn btn-mini btn-primary\" href=\"#\" title=\"Stop Interaction\"><i class=\"fa fa-power-off icon-remove icon-large\"></i></button>');\n",
       "    button.click(function (evt) { fig.handle_close(fig, {}); } );\n",
       "    button.mouseover('Stop Interaction', toolbar_mouse_event);\n",
       "    buttongrp.append(button);\n",
       "    var titlebar = this.root.find($('.ui-dialog-titlebar'));\n",
       "    titlebar.prepend(buttongrp);\n",
       "}\n",
       "\n",
       "mpl.figure.prototype._root_extra_style = function(el){\n",
       "    var fig = this\n",
       "    el.on(\"remove\", function(){\n",
       "\tfig.close_ws(fig, {});\n",
       "    });\n",
       "}\n",
       "\n",
       "mpl.figure.prototype._canvas_extra_style = function(el){\n",
       "    // this is important to make the div 'focusable\n",
       "    el.attr('tabindex', 0)\n",
       "    // reach out to IPython and tell the keyboard manager to turn it's self\n",
       "    // off when our div gets focus\n",
       "\n",
       "    // location in version 3\n",
       "    if (IPython.notebook.keyboard_manager) {\n",
       "        IPython.notebook.keyboard_manager.register_events(el);\n",
       "    }\n",
       "    else {\n",
       "        // location in version 2\n",
       "        IPython.keyboard_manager.register_events(el);\n",
       "    }\n",
       "\n",
       "}\n",
       "\n",
       "mpl.figure.prototype._key_event_extra = function(event, name) {\n",
       "    var manager = IPython.notebook.keyboard_manager;\n",
       "    if (!manager)\n",
       "        manager = IPython.keyboard_manager;\n",
       "\n",
       "    // Check for shift+enter\n",
       "    if (event.shiftKey && event.which == 13) {\n",
       "        this.canvas_div.blur();\n",
       "        // select the cell after this one\n",
       "        var index = IPython.notebook.find_cell_index(this.cell_info[0]);\n",
       "        IPython.notebook.select(index + 1);\n",
       "    }\n",
       "}\n",
       "\n",
       "mpl.figure.prototype.handle_save = function(fig, msg) {\n",
       "    fig.ondownload(fig, null);\n",
       "}\n",
       "\n",
       "\n",
       "mpl.find_output_cell = function(html_output) {\n",
       "    // Return the cell and output element which can be found *uniquely* in the notebook.\n",
       "    // Note - this is a bit hacky, but it is done because the \"notebook_saving.Notebook\"\n",
       "    // IPython event is triggered only after the cells have been serialised, which for\n",
       "    // our purposes (turning an active figure into a static one), is too late.\n",
       "    var cells = IPython.notebook.get_cells();\n",
       "    var ncells = cells.length;\n",
       "    for (var i=0; i<ncells; i++) {\n",
       "        var cell = cells[i];\n",
       "        if (cell.cell_type === 'code'){\n",
       "            for (var j=0; j<cell.output_area.outputs.length; j++) {\n",
       "                var data = cell.output_area.outputs[j];\n",
       "                if (data.data) {\n",
       "                    // IPython >= 3 moved mimebundle to data attribute of output\n",
       "                    data = data.data;\n",
       "                }\n",
       "                if (data['text/html'] == html_output) {\n",
       "                    return [cell, data, j];\n",
       "                }\n",
       "            }\n",
       "        }\n",
       "    }\n",
       "}\n",
       "\n",
       "// Register the function which deals with the matplotlib target/channel.\n",
       "// The kernel may be null if the page has been refreshed.\n",
       "if (IPython.notebook.kernel != null) {\n",
       "    IPython.notebook.kernel.comm_manager.register_target('matplotlib', mpl.mpl_figure_comm);\n",
       "}\n"
      ],
      "text/plain": [
       "<IPython.core.display.Javascript object>"
      ]
     },
     "metadata": {},
     "output_type": "display_data"
    },
    {
     "data": {
      "text/html": [
       "<img src=\"data:image/png;base64,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\" width=\"432\">"
      ],
      "text/plain": [
       "<IPython.core.display.HTML object>"
      ]
     },
     "metadata": {},
     "output_type": "display_data"
    }
   ],
   "source": [
    "video = plot_animation(frames)\n",
    "plt.show()"
   ]
  },
  {
   "cell_type": "code",
   "execution_count": 75,
   "metadata": {},
   "outputs": [
    {
     "data": {
      "text/plain": [
       "32"
      ]
     },
     "execution_count": 75,
     "metadata": {},
     "output_type": "execute_result"
    }
   ],
   "source": [
    "len(frames)"
   ]
  },
  {
   "cell_type": "markdown",
   "metadata": {},
   "source": [
    "## Neural Nework Policies"
   ]
  },
  {
   "cell_type": "markdown",
   "metadata": {},
   "source": [
    "- Take an observation as an input\n",
    "- Output is an action\n",
    "- Will estimate the probability for each action, then select the action randomly according to the estimated probabilities\n",
    "\n",
    "Why not just pick the highest probable action?\n",
    "This lets the agent find the right balance between exploring new actions and exploiting actions that are known to work well\n",
    "\n",
    "In this case past actions can be ignored, since each observation contains the environments full state. If there was a hidden state, you may need to consider past actions and observations.\n",
    "\n",
    "Below is a simple neural network model which takes the 4 cartpole inputs passes it through an activation to another linear layer with a single output and then finally a sigmoid to calculate the probability. \n",
    "$$\n",
    "Move\\ Left\\ Probability = Model(x) \\\\\n",
    "Move\\ Right\\ Probability = 1 - Model(x)\n",
    "$$"
   ]
  },
  {
   "cell_type": "code",
   "execution_count": 34,
   "metadata": {},
   "outputs": [],
   "source": [
    "model = nn.Sequential(\n",
    "    nn.Linear(4, 4),\n",
    "    nn.ELU(),\n",
    "    nn.Linear(4, 1),\n",
    "    nn.Sigmoid()\n",
    ")"
   ]
  },
  {
   "cell_type": "markdown",
   "metadata": {},
   "source": [
    "Example Model call:"
   ]
  },
  {
   "cell_type": "code",
   "execution_count": 37,
   "metadata": {},
   "outputs": [
    {
     "data": {
      "text/plain": [
       "tensor([0.1579], grad_fn=<SigmoidBackward>)"
      ]
     },
     "execution_count": 37,
     "metadata": {},
     "output_type": "execute_result"
    }
   ],
   "source": [
    "model(torch.tensor([1,2,3,4],dtype=torch.float))"
   ]
  },
  {
   "cell_type": "markdown",
   "metadata": {},
   "source": [
    "Prob left = ~15% <br>\n",
    "Prob right = ~85%\n",
    "\n",
    "Next we create a tensor of proabilities:"
   ]
  },
  {
   "cell_type": "code",
   "execution_count": 39,
   "metadata": {},
   "outputs": [],
   "source": [
    "output = model(torch.tensor([1,2,3,4], dtype=torch.float))"
   ]
  },
  {
   "cell_type": "code",
   "execution_count": 68,
   "metadata": {},
   "outputs": [],
   "source": [
    "probabilities = torch.tensor([output, 1-output], dtype=torch.float)"
   ]
  },
  {
   "cell_type": "code",
   "execution_count": 69,
   "metadata": {},
   "outputs": [
    {
     "data": {
      "text/plain": [
       "tensor([0.1579, 0.8421])"
      ]
     },
     "execution_count": 69,
     "metadata": {},
     "output_type": "execute_result"
    }
   ],
   "source": [
    "probabilities"
   ]
  },
  {
   "cell_type": "markdown",
   "metadata": {},
   "source": [
    "Pass it through a multinomial function to pick an action based on the probabilities. Note, the function returns the index of the selected probaility. Hence, why left is index 0 becuase action 0 is to move left in the environment."
   ]
  },
  {
   "cell_type": "code",
   "execution_count": 70,
   "metadata": {},
   "outputs": [
    {
     "data": {
      "text/plain": [
       "tensor([1])"
      ]
     },
     "execution_count": 70,
     "metadata": {},
     "output_type": "execute_result"
    }
   ],
   "source": [
    "torch.multinomial(probabilities, 1)"
   ]
  },
  {
   "cell_type": "markdown",
   "metadata": {},
   "source": [
    "Picked action 1.\n",
    "\n",
    "Now that we have a neural network policy that will take observations and output actions, how do we train it?\n",
    "\n",
    "## Evaluating Actions: Credit Assignment Problem\n",
    "\n",
    "If we knew the best action at each step we would simply train the neural network in a supervised manner via minimisation of the cross-entropy. In RL the only guidance the agent gets is through rewards and rewards are typically sparse and delayed. For example, if the agent balances the pole in the game above for 100 actions how does it know which steps are good and which are bad? All we know is the pole fell at the last action, but the last action is not entirely responsible. This is called the **Credit Assignment** problem. When an agent gets a reward it is hard to know which actions should get credited (or blamed) for it.\n",
    "\n",
    "One common strategy is to evaluate an action based on the sum of all rewards that come after it. This is usually done by applying a discount rate $r$ at each step.\n",
    "\n",
    "e.g. If an agent decided to go right three times in the cart pole game with a discount rate of 0.8 and has the following rewards at each step:\n",
    "- step 1: 10\n",
    "- step 2: 0\n",
    "- step 3: -50\n",
    "\n",
    "The final reward score would be -22 becuase we start from step 3 and work backwards:\n",
    "\n",
    "- step 3: -50 * 0.8 = -40\n",
    "- step 2: (0 + -40) * 0.8 = -32\n",
    "- step 1: 10 + -32 = -22 \n",
    "\n",
    "If the discount rate is close to 0 then future rewards won't count for much compared to immediate rewards. If the discount rate is close to 1, then future rewards will almost count as much as immediate rewards. Typical values for discount rates are 0.95 and 0.99. If a discount rate is set to 0.95 then 13 steps into the future count roughly for half as much as immediate rewards $0.95^{13} \\approx 0.5$. If the discount rate is 0.99, rewards 69 steps into the future count for half as much $0.99^{69} \\approx 0.5$\n",
    "\n",
    "In the cartpole environment actions have fairly short-term effects so choosing a discount rate of 0.95 seems reasonable.\n",
    "\n",
    "A good action may be followed by bad actions resulting in the good action getting a low score. If the game is played enought times on average good actions will get a better score than the bad ones. To get a fairly reliable action scores the game must be run over many episodes and normalise all the action scores (subtracting the mean and dividing by the standard deviation). After that we can assume actions with positive scores are good and negative are bad. We now have a way of evaluating each action, we can no train a policy gradient!"
   ]
  },
  {
   "cell_type": "code",
   "execution_count": null,
   "metadata": {},
   "outputs": [],
   "source": []
  }
 ],
 "metadata": {
  "kernelspec": {
   "display_name": "Python 3",
   "language": "python",
   "name": "python3"
  },
  "language_info": {
   "codemirror_mode": {
    "name": "ipython",
    "version": 3
   },
   "file_extension": ".py",
   "mimetype": "text/x-python",
   "name": "python",
   "nbconvert_exporter": "python",
   "pygments_lexer": "ipython3",
   "version": "3.7.6"
  }
 },
 "nbformat": 4,
 "nbformat_minor": 4
}
