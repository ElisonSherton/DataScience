{
 "cells": [
  {
   "cell_type": "markdown",
   "metadata": {},
   "source": [
    "# WIP: Isolation Forest\n",
    "Isolation forest is an unsupervised training algorithm to identify outliers / anomalies in data. The algorithm works in the following way:\n",
    "\n",
    "1. The data is randomly and recursively partitioned and represented as a trees (forest). At this stage the user defines the subsample and number of trees. From the paper is it suggested to used a subsample of 256 and 100 trees. Convergence is reached as the number of trees increases.\n",
    "\n",
    "2. The end of the tree is reached once the recursive partition of the data is finished. It is expected that the distance takes for reach outliers is much shorter than for inliers\n",
    "\n",
    "3. The distance of the path is averaged and normalised to calculate and anomaly score. A score of 1 is considered and outlier and value closed to 0 are considered inliers\n",
    "\n",
    "**subsamples:** The number of samples to draw from the data to train each tree. In sklearn these data sets can be bootstrapped for each tree"
   ]
  },
  {
   "cell_type": "code",
   "execution_count": null,
   "metadata": {},
   "outputs": [],
   "source": []
  }
 ],
 "metadata": {
  "kernelspec": {
   "display_name": "Python 3",
   "language": "python",
   "name": "python3"
  },
  "language_info": {
   "codemirror_mode": {
    "name": "ipython",
    "version": 3
   },
   "file_extension": ".py",
   "mimetype": "text/x-python",
   "name": "python",
   "nbconvert_exporter": "python",
   "pygments_lexer": "ipython3",
   "version": "3.6.1"
  }
 },
 "nbformat": 4,
 "nbformat_minor": 2
}
