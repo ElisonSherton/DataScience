{
 "cells": [
  {
   "cell_type": "markdown",
   "metadata": {},
   "source": [
    "# WIP: Learning Curve Plot"
   ]
  },
  {
   "cell_type": "markdown",
   "metadata": {},
   "source": [
    "_Paragraph here explaining the learning curve and its potential outcomes_"
   ]
  },
  {
   "cell_type": "code",
   "execution_count": 1,
   "metadata": {},
   "outputs": [],
   "source": [
    "import matplotlib.pyplot as plt\n",
    "import numpy as np\n",
    "\n",
    "def plot_learning_curve(training_sizes, train_scores, test_scores, **kwargs):\n",
    "    \n",
    "    plot_labels = {\n",
    "        'training_label': 'Training Score',\n",
    "        'test_label': 'Test Score',\n",
    "        'y_label': 'Score'\n",
    "    }\n",
    "    \n",
    "    for key in kwargs:\n",
    "        if key in plot_labels:\n",
    "            plot_labels[key] = kwargs[key]\n",
    "            \n",
    "    train_mean = np.mean(train_scores, axis=1)\n",
    "    train_std = np.std(train_scores, axis=1)\n",
    "    test_mean = np.mean(test_scores, axis=1)\n",
    "    test_std = np.std(test_scores, axis=1)\n",
    "    \n",
    "    plt.plot(\n",
    "    train_sizes,\n",
    "    train_mean,\n",
    "    color='blue',\n",
    "    marker='o',\n",
    "    markersize=5,\n",
    "    label=plot_labels['training_label'],\n",
    "    )\n",
    "    plt.fill_between(\n",
    "        train_sizes,\n",
    "        train_mean + train_std,\n",
    "        train_mean - train_std,\n",
    "        alpha=0.15,\n",
    "        color='blue',\n",
    "    )\n",
    "    plt.plot(\n",
    "        train_sizes,\n",
    "        test_mean,\n",
    "        color='green',\n",
    "        linestyle='--',\n",
    "        marker='s',\n",
    "        markersize=5,\n",
    "        label=plot_labels['test_label'],\n",
    "    )\n",
    "    plt.fill_between(\n",
    "        train_sizes,\n",
    "        test_mean + test_std,\n",
    "        test_mean - test_std,\n",
    "        alpha=0.15,\n",
    "        color='green',\n",
    "    )\n",
    "    plt.grid()\n",
    "    plt.xlabel('Number of Training Examples')\n",
    "    plt.ylabel(plot_labels['y_label'])\n",
    "    plt.legend(loc='lower right')\n",
    "    plt.show()"
   ]
  },
  {
   "cell_type": "code",
   "execution_count": 2,
   "metadata": {},
   "outputs": [],
   "source": [
    "from sklearn.datasets import load_iris\n",
    "from sklearn.ensemble import RandomForestClassifier\n",
    "from sklearn.model_selection import (\n",
    "    learning_curve,\n",
    "    StratifiedKFold\n",
    ")\n",
    "\n",
    "\n",
    "iris = load_iris()\n",
    "cv = StratifiedKFold(n_splits=5, random_state=42, shuffle=True)\n",
    "clf = RandomForestClassifier(max_depth=10, random_state=42)"
   ]
  },
  {
   "cell_type": "code",
   "execution_count": 3,
   "metadata": {},
   "outputs": [],
   "source": [
    "train_sizes, train_scores, test_scores = learning_curve(\n",
    "    estimator=clf,\n",
    "    X=iris.data,\n",
    "    y=iris.target,\n",
    "    cv=cv,\n",
    "    scoring='accuracy',\n",
    "    train_sizes=np.linspace(0.1, 1.0, 10),\n",
    ")"
   ]
  },
  {
   "cell_type": "code",
   "execution_count": 4,
   "metadata": {},
   "outputs": [
    {
     "data": {
      "image/png": "[encoded data removed]",
      "text/plain": [
       "<matplotlib.figure.Figure at 0x6f23950>"
      ]
     },
     "metadata": {},
     "output_type": "display_data"
    }
   ],
   "source": [
    "plot_learning_curve(train_sizes, train_scores, test_scores, y_label='Accuracy Score')"
   ]
  }
 ],
 "metadata": {
  "kernelspec": {
   "display_name": "Python 3",
   "language": "python",
   "name": "python3"
  },
  "language_info": {
   "codemirror_mode": {
    "name": "ipython",
    "version": 3
   },
   "file_extension": ".py",
   "mimetype": "text/x-python",
   "name": "python",
   "nbconvert_exporter": "python",
   "pygments_lexer": "ipython3",
   "version": "3.6.2"
  }
 },
 "nbformat": 4,
 "nbformat_minor": 2
}
