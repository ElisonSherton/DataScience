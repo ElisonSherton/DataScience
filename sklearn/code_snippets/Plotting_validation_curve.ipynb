{
 "cells": [
  {
   "cell_type": "markdown",
   "metadata": {},
   "source": [
    "# WIP: Validation Curve Plot\n",
    "\n",
    "_Paragraph here explaining the validation curve and its potential outcomes_"
   ]
  },
  {
   "cell_type": "code",
   "execution_count": 12,
   "metadata": {},
   "outputs": [],
   "source": [
    "import matplotlib.pyplot as plt\n",
    "import numpy as np\n",
    "\n",
    "def plot_validation_curve(param_range, train_scores, test_scores, **kwargs):\n",
    "    \n",
    "    plot_labels = {\n",
    "        'training_label': 'Training Score',\n",
    "        'test_label': 'Test Score',\n",
    "        'x_label': 'Paramter',\n",
    "        'y_label': 'Score',\n",
    "    }\n",
    "    \n",
    "    for key in kwargs:\n",
    "        if key in plot_labels:\n",
    "            plot_labels[key] = kwargs[key]\n",
    "            \n",
    "    train_mean = np.mean(train_scores, axis=1)\n",
    "    train_std = np.std(train_scores, axis=1)\n",
    "    test_mean = np.mean(test_scores, axis=1)\n",
    "    test_std = np.std(test_scores, axis=1)\n",
    "    \n",
    "    plt.plot(\n",
    "    param_range,\n",
    "    train_mean,\n",
    "    color='blue',\n",
    "    marker='o',\n",
    "    markersize=5,\n",
    "    label=plot_labels['training_label'],\n",
    "    )\n",
    "    plt.fill_between(\n",
    "        param_range,\n",
    "        train_mean + train_std,\n",
    "        train_mean - train_std,\n",
    "        alpha=0.15,\n",
    "        color='blue',\n",
    "    )\n",
    "    plt.plot(\n",
    "        param_range,\n",
    "        test_mean,\n",
    "        color='green',\n",
    "        linestyle='--',\n",
    "        marker='s',\n",
    "        markersize=5,\n",
    "        label=plot_labels['test_label'],\n",
    "    )\n",
    "    plt.fill_between(\n",
    "        param_range,\n",
    "        test_mean + test_std,\n",
    "        test_mean - test_std,\n",
    "        alpha=0.15,\n",
    "        color='green'\n",
    "    )\n",
    "    plt.grid()\n",
    "    plt.legend(loc='lower right')\n",
    "    plt.xlabel(plot_labels['x_label'])\n",
    "    plt.ylabel(plot_labels['y_label'])\n",
    "    plt.ylim([0.5, 1.0])\n",
    "    plt.show()"
   ]
  },
  {
   "cell_type": "code",
   "execution_count": 29,
   "metadata": {},
   "outputs": [],
   "source": [
    "from sklearn.datasets import load_iris\n",
    "from sklearn.ensemble import RandomForestClassifier\n",
    "from sklearn.model_selection import (\n",
    "    StratifiedKFold,\n",
    "    validation_curve,\n",
    ")\n",
    "\n",
    "\n",
    "iris = load_iris()\n",
    "cv = StratifiedKFold(n_splits=5, random_state=42, shuffle=True)\n",
    "clf = RandomForestClassifier(max_depth=10, random_state=42)"
   ]
  },
  {
   "cell_type": "code",
   "execution_count": 30,
   "metadata": {},
   "outputs": [],
   "source": [
    "param_range = np.linspace(1, 10, 10).astype(int)\n",
    "train_scores, test_scores = validation_curve(\n",
    "    estimator=clf,\n",
    "    X=iris.data,\n",
    "    y=iris.target,\n",
    "    param_range=param_range,\n",
    "    param_name='n_estimators',\n",
    "    cv=cv,\n",
    "    scoring='accuracy',\n",
    ")"
   ]
  },
  {
   "cell_type": "code",
   "execution_count": 33,
   "metadata": {},
   "outputs": [
    {
     "data": {
      "image/png": "[encoded data removed]",
      "text/plain": [
       "<matplotlib.figure.Figure at 0x19200510>"
      ]
     },
     "metadata": {},
     "output_type": "display_data"
    }
   ],
   "source": [
    "plot_validation_curve(train_scores, test_scores, y_label='Accuracy Score', x_label='Paramter: n_estimators')"
   ]
  },
  {
   "cell_type": "code",
   "execution_count": null,
   "metadata": {},
   "outputs": [],
   "source": []
  }
 ],
 "metadata": {
  "kernelspec": {
   "display_name": "Python 3",
   "language": "python",
   "name": "python3"
  },
  "language_info": {
   "codemirror_mode": {
    "name": "ipython",
    "version": 3
   },
   "file_extension": ".py",
   "mimetype": "text/x-python",
   "name": "python",
   "nbconvert_exporter": "python",
   "pygments_lexer": "ipython3",
   "version": "3.6.2"
  }
 },
 "nbformat": 4,
 "nbformat_minor": 2
}
