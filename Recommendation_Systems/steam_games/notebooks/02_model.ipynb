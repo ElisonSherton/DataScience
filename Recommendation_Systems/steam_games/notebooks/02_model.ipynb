{
 "cells": [
  {
   "cell_type": "code",
   "execution_count": 1,
   "metadata": {},
   "outputs": [],
   "source": [
    "import json\n",
    "import os\n",
    "import random\n",
    "\n",
    "import numpy as np"
   ]
  },
  {
   "cell_type": "code",
   "execution_count": 2,
   "metadata": {},
   "outputs": [],
   "source": [
    "os.chdir('..')"
   ]
  },
  {
   "cell_type": "code",
   "execution_count": 3,
   "metadata": {},
   "outputs": [],
   "source": [
    "random.seed(42)"
   ]
  },
  {
   "cell_type": "code",
   "execution_count": 5,
   "metadata": {},
   "outputs": [],
   "source": [
    "# with open('games_with_tags.json', 'r') as in_json:\n",
    "with open('games_with_tags_min_20_freq.json', 'r') as in_json:\n",
    "    games_with_tags = json.load(in_json)"
   ]
  },
  {
   "cell_type": "markdown",
   "metadata": {},
   "source": [
    "Generate mapping for games to indices and the same for tags:"
   ]
  },
  {
   "cell_type": "code",
   "execution_count": 6,
   "metadata": {},
   "outputs": [],
   "source": [
    "game_index = {game: idx for idx, game in enumerate(games_with_tags)}\n",
    "index_game = {idx: game for game, idx in game_index.items()}"
   ]
  },
  {
   "cell_type": "code",
   "execution_count": 8,
   "metadata": {},
   "outputs": [],
   "source": [
    "tag_count = 0\n",
    "tag_index = {}\n",
    "for game, tags in games_with_tags.items():\n",
    "    for tag in tags:\n",
    "        if tag not in tag_index:\n",
    "            tag_index[tag] = tag_count\n",
    "            tag_count += 1\n",
    "index_tag = {idx: tag for tag, idx in tag_index.items()}"
   ]
  },
  {
   "cell_type": "code",
   "execution_count": 9,
   "metadata": {},
   "outputs": [
    {
     "name": "stdout",
     "output_type": "stream",
     "text": [
      "n game: 32421\n",
      "n tags: 358\n"
     ]
    }
   ],
   "source": [
    "print(f'n game: {len(game_index)}')\n",
    "print(f'n tags: {len(tag_index)}')"
   ]
  },
  {
   "cell_type": "markdown",
   "metadata": {},
   "source": [
    "Creat true pairs"
   ]
  },
  {
   "cell_type": "code",
   "execution_count": 10,
   "metadata": {},
   "outputs": [],
   "source": [
    "pairs = []\n",
    "for game, tags in games_with_tags.items():\n",
    "    for tag in tags:\n",
    "        pairs.append(tuple((game_index[game], tag_index[tag])))"
   ]
  },
  {
   "cell_type": "code",
   "execution_count": 11,
   "metadata": {},
   "outputs": [
    {
     "data": {
      "text/plain": [
       "(0, 0)"
      ]
     },
     "execution_count": 11,
     "metadata": {},
     "output_type": "execute_result"
    }
   ],
   "source": [
    "pairs[0]"
   ]
  },
  {
   "cell_type": "code",
   "execution_count": 12,
   "metadata": {},
   "outputs": [
    {
     "data": {
      "text/plain": [
       "('Counter-Strike', '1980s')"
      ]
     },
     "execution_count": 12,
     "metadata": {},
     "output_type": "execute_result"
    }
   ],
   "source": [
    "index_game[pairs[0][0]], index_tag[pairs[0][1]]"
   ]
  },
  {
   "cell_type": "code",
   "execution_count": 13,
   "metadata": {},
   "outputs": [
    {
     "data": {
      "text/plain": [
       "('Spectrum', 'Adventure')"
      ]
     },
     "execution_count": 13,
     "metadata": {},
     "output_type": "execute_result"
    }
   ],
   "source": [
    "index_game[pairs[5000][0]], index_tag[pairs[5000][1]]"
   ]
  },
  {
   "cell_type": "code",
   "execution_count": 14,
   "metadata": {},
   "outputs": [
    {
     "data": {
      "text/plain": [
       "('Aberoth', 'Pixel_Graphics')"
      ]
     },
     "execution_count": 14,
     "metadata": {},
     "output_type": "execute_result"
    }
   ],
   "source": [
    "index_game[pairs[20000][0]], index_tag[pairs[20000][1]]"
   ]
  },
  {
   "cell_type": "code",
   "execution_count": 15,
   "metadata": {},
   "outputs": [],
   "source": [
    "pairs_set = set(pairs)"
   ]
  },
  {
   "cell_type": "code",
   "execution_count": 16,
   "metadata": {},
   "outputs": [
    {
     "data": {
      "text/plain": [
       "True"
      ]
     },
     "execution_count": 16,
     "metadata": {},
     "output_type": "execute_result"
    }
   ],
   "source": [
    "(0, 0) in pairs_set"
   ]
  },
  {
   "cell_type": "code",
   "execution_count": 18,
   "metadata": {},
   "outputs": [],
   "source": [
    "random.seed(100)\n",
    "\n",
    "def generate_batch(pairs, n_positive = 50, negative_ratio = 1.0, classification = False):\n",
    "    \"\"\"Generate batches of samples for training\"\"\"\n",
    "    batch_size = n_positive * (1 + negative_ratio)\n",
    "    batch = np.zeros((batch_size, 3))\n",
    "    \n",
    "    # Adjust label based on task\n",
    "    if classification:\n",
    "        neg_label = 0\n",
    "    else:\n",
    "        neg_label = -1\n",
    "    \n",
    "    # This creates a generator\n",
    "    while True:\n",
    "        # randomly choose positive examples\n",
    "        for idx, (game_id, tag_id) in enumerate(random.sample(pairs, n_positive)):\n",
    "            batch[idx, :] = (game_id, tag_id, 1)\n",
    "\n",
    "        # Increment idx by 1\n",
    "        idx += 1\n",
    "        \n",
    "        # Add negative examples until reach batch size\n",
    "        while idx < batch_size:\n",
    "            \n",
    "            # random selection\n",
    "            random_game = random.randrange(len(game_index))\n",
    "            random_tag = random.randrange(len(tag_index))\n",
    "            \n",
    "            # Check to make sure this is not a positive example\n",
    "            if (random_game, random_tag) not in pairs_set:\n",
    "                \n",
    "                # Add to batch and increment index\n",
    "                batch[idx, :] = (random_game, random_tag, neg_label)\n",
    "                idx += 1\n",
    "                \n",
    "        # Make sure to shuffle order\n",
    "        np.random.shuffle(batch)\n",
    "        yield {'game': batch[:, 0], 'tag': batch[:, 1]}, batch[:, 2]"
   ]
  },
  {
   "cell_type": "code",
   "execution_count": 19,
   "metadata": {},
   "outputs": [
    {
     "data": {
      "text/plain": [
       "({'game': array([23984., 23118., 14907.,  5196., 14205., 24564.]),\n",
       "  'tag': array([179., 201.,  89.,  48., 259.,  40.])},\n",
       " array([-1., -1., -1.,  1., -1.,  1.]))"
      ]
     },
     "execution_count": 19,
     "metadata": {},
     "output_type": "execute_result"
    }
   ],
   "source": [
    "next(generate_batch(pairs, n_positive = 2, negative_ratio = 2))"
   ]
  },
  {
   "cell_type": "code",
   "execution_count": 20,
   "metadata": {},
   "outputs": [
    {
     "data": {
      "text/plain": [
       "'GT Legends'"
      ]
     },
     "execution_count": 20,
     "metadata": {},
     "output_type": "execute_result"
    }
   ],
   "source": [
    "index_game[24504]"
   ]
  },
  {
   "cell_type": "code",
   "execution_count": 21,
   "metadata": {},
   "outputs": [
    {
     "data": {
      "text/plain": [
       "'Indie'"
      ]
     },
     "execution_count": 21,
     "metadata": {},
     "output_type": "execute_result"
    }
   ],
   "source": [
    "index_tag[30]"
   ]
  },
  {
   "cell_type": "code",
   "execution_count": 22,
   "metadata": {},
   "outputs": [
    {
     "data": {
      "text/plain": [
       "'Far Beyond: A space odyssey VR'"
      ]
     },
     "execution_count": 22,
     "metadata": {},
     "output_type": "execute_result"
    }
   ],
   "source": [
    "index_game[5726]"
   ]
  },
  {
   "cell_type": "code",
   "execution_count": 24,
   "metadata": {},
   "outputs": [
    {
     "data": {
      "text/plain": [
       "'Photo_Editing'"
      ]
     },
     "execution_count": 24,
     "metadata": {},
     "output_type": "execute_result"
    }
   ],
   "source": [
    "index_tag[350]"
   ]
  },
  {
   "cell_type": "code",
   "execution_count": 25,
   "metadata": {},
   "outputs": [
    {
     "name": "stdout",
     "output_type": "stream",
     "text": [
      "Game: Gal*Gun VR                     Tag: Anime                                    Label: 1.0\n",
      "Game: Ruin City Gasolina             Tag: Cats                                     Label: -1.0\n",
      "Game: INVESTMENT HERO                Tag: Atmospheric                              Label: 1.0\n",
      "Game: Lichtspeer                     Tag: 2D                                       Label: 1.0\n",
      "Game: Poly Mole                      Tag: Satire                                   Label: -1.0\n",
      "Game: End of Realms                  Tag: Hand-drawn                               Label: 1.0\n",
      "Game: It Stares Back                 Tag: Souls-like                               Label: 1.0\n",
      "Game: Ultimate General: Gettysburg   Tag: Chess                                    Label: -1.0\n",
      "Game: Cardinal Quest 2               Tag: Family_Friendly                          Label: -1.0\n",
      "Game: Zup! Zero 2                    Tag: Horses                                   Label: -1.0\n"
     ]
    }
   ],
   "source": [
    "x, y = next(generate_batch(pairs, n_positive = 5, negative_ratio = 1))\n",
    "\n",
    "# Show a few example training pairs\n",
    "for label, b_idx, l_idx in zip(y, x['game'], x['tag']):\n",
    "    print(f'Game: {index_game[b_idx]:30} Tag: {index_tag[l_idx]:40} Label: {label}')"
   ]
  },
  {
   "cell_type": "code",
   "execution_count": 26,
   "metadata": {},
   "outputs": [
    {
     "name": "stderr",
     "output_type": "stream",
     "text": [
      "Using TensorFlow backend.\n"
     ]
    }
   ],
   "source": [
    "from keras.layers import (\n",
    "    Input,\n",
    "    Embedding,\n",
    "    Dot,\n",
    "    Reshape,\n",
    "    Dense\n",
    ")\n",
    "from keras.models import Model"
   ]
  },
  {
   "cell_type": "code",
   "execution_count": 86,
   "metadata": {},
   "outputs": [],
   "source": [
    "def game_embedding_model(embedding_size = 200, classification = False):\n",
    "    \"\"\"Model to embed game and tags using the functional API.\n",
    "       Trained to discern if a tag is present for a game\"\"\"\n",
    "    \n",
    "    # Both inputs are 1-dimensional\n",
    "    game = Input(name = 'game', shape = [1])\n",
    "    tag = Input(name = 'tag', shape = [1])\n",
    "    \n",
    "    # Embedding the game (shape will be (None, 1, 50))\n",
    "    game_embedding = Embedding(name = 'game_embedding',\n",
    "                               input_dim = len(game_index),\n",
    "                               output_dim = embedding_size)(game)\n",
    "    \n",
    "    # Embedding the tag (shape will be (None, 1, 50))\n",
    "    tag_embedding = Embedding(name = 'tag_embedding',\n",
    "                               input_dim = len(tag_index),\n",
    "                               output_dim = embedding_size)(tag)\n",
    "    \n",
    "    # Merge the layers with a dot product along the second axis (shape will be (None, 1, 1))\n",
    "    merged = Dot(name = 'dot_product', normalize = True, axes = 2)([game_embedding, tag_embedding])\n",
    "    \n",
    "    # Reshape to be a single number (shape will be (None, 1))\n",
    "    merged = Reshape(target_shape = [1])(merged)\n",
    "    \n",
    "    # If classifcation, add extra layer and loss function is binary cross entropy\n",
    "    if classification:\n",
    "        merged = Dense(1, activation = 'sigmoid')(merged)\n",
    "        model = Model(inputs = [book, link], outputs = merged)\n",
    "        model.compile(optimizer = 'Adam', loss = 'binary_crossentropy', metrics = ['accuracy'])\n",
    "    \n",
    "    # Otherwise loss function is mean squared error\n",
    "    else:\n",
    "        model = Model(inputs = [game, tag], outputs = merged)\n",
    "        model.compile(optimizer = 'Adam', loss = 'mse')\n",
    "    \n",
    "    return model"
   ]
  },
  {
   "cell_type": "code",
   "execution_count": 87,
   "metadata": {},
   "outputs": [
    {
     "name": "stdout",
     "output_type": "stream",
     "text": [
      "Model: \"model_7\"\n",
      "__________________________________________________________________________________________________\n",
      "Layer (type)                    Output Shape         Param #     Connected to                     \n",
      "==================================================================================================\n",
      "game (InputLayer)               (None, 1)            0                                            \n",
      "__________________________________________________________________________________________________\n",
      "tag (InputLayer)                (None, 1)            0                                            \n",
      "__________________________________________________________________________________________________\n",
      "game_embedding (Embedding)      (None, 1, 200)       6484200     game[0][0]                       \n",
      "__________________________________________________________________________________________________\n",
      "tag_embedding (Embedding)       (None, 1, 200)       71600       tag[0][0]                        \n",
      "__________________________________________________________________________________________________\n",
      "dot_product (Dot)               (None, 1, 1)         0           game_embedding[0][0]             \n",
      "                                                                 tag_embedding[0][0]              \n",
      "__________________________________________________________________________________________________\n",
      "reshape_7 (Reshape)             (None, 1)            0           dot_product[0][0]                \n",
      "==================================================================================================\n",
      "Total params: 6,555,800\n",
      "Trainable params: 6,555,800\n",
      "Non-trainable params: 0\n",
      "__________________________________________________________________________________________________\n"
     ]
    }
   ],
   "source": [
    "model = game_embedding_model()\n",
    "model.summary()"
   ]
  },
  {
   "cell_type": "code",
   "execution_count": 107,
   "metadata": {},
   "outputs": [
    {
     "name": "stdout",
     "output_type": "stream",
     "text": [
      "Epoch 1/10\n",
      " - 19s - loss: 0.3906\n",
      "Epoch 2/10\n",
      " - 19s - loss: 0.3972\n",
      "Epoch 3/10\n",
      " - 19s - loss: 0.3793\n",
      "Epoch 4/10\n",
      " - 19s - loss: 0.3824\n",
      "Epoch 5/10\n",
      " - 19s - loss: 0.3824\n",
      "Epoch 6/10\n",
      " - 19s - loss: 0.4062\n",
      "Epoch 7/10\n",
      " - 19s - loss: 0.3930\n",
      "Epoch 8/10\n",
      " - 19s - loss: 0.3829\n",
      "Epoch 9/10\n",
      " - 19s - loss: 0.3754\n",
      "Epoch 10/10\n",
      " - 19s - loss: 0.3910\n"
     ]
    }
   ],
   "source": [
    "n_positive = 1024\n",
    "\n",
    "gen = generate_batch(pairs, n_positive, negative_ratio = 1)\n",
    "\n",
    "# Train\n",
    "h = model.fit_generator(\n",
    "    gen,\n",
    "    epochs = 10, \n",
    "    steps_per_epoch = len(pairs) // n_positive,\n",
    "    verbose = 2\n",
    ")"
   ]
  },
  {
   "cell_type": "code",
   "execution_count": 108,
   "metadata": {},
   "outputs": [],
   "source": [
    "model.save('./models/second_attempt_min_20_freq.h5')"
   ]
  },
  {
   "cell_type": "code",
   "execution_count": 109,
   "metadata": {},
   "outputs": [
    {
     "data": {
      "text/plain": [
       "(32421, 200)"
      ]
     },
     "execution_count": 109,
     "metadata": {},
     "output_type": "execute_result"
    }
   ],
   "source": [
    "# Extract embeddings\n",
    "game_layer = model.get_layer('game_embedding')\n",
    "game_weights = game_layer.get_weights()[0]\n",
    "game_weights.shape"
   ]
  },
  {
   "cell_type": "markdown",
   "metadata": {},
   "source": [
    "Each game is now represented as a 50-dimensional vector.\n",
    "\n",
    "We need to normalize the embeddings so that the dot product between two embeddings becomes the cosine similarity."
   ]
  },
  {
   "cell_type": "code",
   "execution_count": 110,
   "metadata": {},
   "outputs": [
    {
     "data": {
      "text/plain": [
       "1.0"
      ]
     },
     "execution_count": 110,
     "metadata": {},
     "output_type": "execute_result"
    }
   ],
   "source": [
    "game_weights = game_weights / np.linalg.norm(game_weights, axis = 1).reshape((-1, 1))\n",
    "game_weights[0][:10]\n",
    "np.sum(np.square(game_weights[0]))"
   ]
  },
  {
   "cell_type": "code",
   "execution_count": 111,
   "metadata": {},
   "outputs": [
    {
     "data": {
      "text/plain": [
       "array([-0.02028892, -0.04083905, -0.03770131, -0.06191832,  0.0363252 ,\n",
       "        0.10930686,  0.04621289,  0.16038361,  0.01269828, -0.04753675,\n",
       "        0.04659893, -0.02544025,  0.02250916,  0.1077145 , -0.01074699,\n",
       "       -0.04704662, -0.01812878,  0.14190973, -0.08162078,  0.00452935,\n",
       "       -0.07139829,  0.03305717,  0.00649044, -0.08766993,  0.07420082,\n",
       "       -0.00081735,  0.12735492,  0.02561213,  0.00573422, -0.00379396,\n",
       "        0.03417899, -0.04833051, -0.03268033,  0.10434254,  0.00289319,\n",
       "        0.05448822,  0.05231246, -0.03145514, -0.03707538,  0.12277426,\n",
       "        0.00377354,  0.11227879,  0.04453736,  0.10264253,  0.09225872,\n",
       "       -0.07955199,  0.09692035,  0.07006463,  0.12184901, -0.16252285,\n",
       "       -0.10421647, -0.04378475,  0.04611482, -0.02412887, -0.00918506,\n",
       "       -0.00749663, -0.00036915, -0.11830124,  0.03889192,  0.04704228,\n",
       "        0.024077  , -0.11215495,  0.00719643, -0.00635523,  0.05302636,\n",
       "        0.12598021, -0.10939269, -0.04585391,  0.02096593, -0.07312507,\n",
       "       -0.04560368, -0.04062399,  0.01767284,  0.04858932,  0.09457761,\n",
       "        0.06982982, -0.00953257,  0.08039836, -0.00802704, -0.01244668,\n",
       "       -0.02580637, -0.00054168, -0.1014467 ,  0.05803917, -0.00763061,\n",
       "        0.02778259,  0.055966  , -0.04435585,  0.05260403,  0.01859041,\n",
       "        0.00357922,  0.09157178, -0.0041233 ,  0.00984085, -0.03559566,\n",
       "       -0.00123362,  0.03794775, -0.11230299,  0.05565564,  0.08475894,\n",
       "       -0.03697157, -0.12313659,  0.09271173,  0.05792857, -0.03449548,\n",
       "       -0.02195925, -0.09203944, -0.00888918, -0.14281408,  0.11099924,\n",
       "       -0.0340122 ,  0.03365648,  0.05253846, -0.1821132 ,  0.11243843,\n",
       "       -0.03588101, -0.08219303, -0.03064364,  0.12537506,  0.02200588,\n",
       "       -0.02035115,  0.12981196,  0.02656312,  0.04069165,  0.06610974,\n",
       "        0.10842276, -0.03135227, -0.04034815, -0.04237414, -0.06583841,\n",
       "       -0.06871595,  0.0226674 , -0.0143519 , -0.01933059, -0.01986667,\n",
       "        0.01076144, -0.06937613, -0.02638501,  0.04850299, -0.11807748,\n",
       "       -0.03301751, -0.03761397,  0.09462415, -0.05824718, -0.01208604,\n",
       "        0.0858416 ,  0.01824731,  0.01993579,  0.06896396, -0.0190387 ,\n",
       "        0.05327159, -0.00743249, -0.00603468, -0.04945885,  0.12873802,\n",
       "       -0.01024781,  0.01295228, -0.02757537,  0.12051417,  0.10633174,\n",
       "        0.03812176,  0.09286738, -0.10340366, -0.04136498, -0.05136667,\n",
       "       -0.05495335,  0.14610098, -0.10583635, -0.07464714, -0.16638757,\n",
       "       -0.07008268, -0.12534338, -0.0109702 ,  0.14465138, -0.03895659,\n",
       "       -0.01368191,  0.04265647, -0.06485564, -0.07473586, -0.03628689,\n",
       "       -0.08153202, -0.05102916,  0.00505036, -0.05457611,  0.03222023,\n",
       "       -0.03520894, -0.03476761,  0.13683167, -0.03259035,  0.10718367,\n",
       "        0.06843646,  0.1284959 , -0.03871257, -0.07617144,  0.01344333,\n",
       "        0.03203671,  0.11971569, -0.06239587, -0.13608822, -0.06140414],\n",
       "      dtype=float32)"
      ]
     },
     "execution_count": 111,
     "metadata": {},
     "output_type": "execute_result"
    }
   ],
   "source": [
    "game_weights[game_index['Portal']]"
   ]
  },
  {
   "cell_type": "code",
   "execution_count": 126,
   "metadata": {},
   "outputs": [
    {
     "name": "stdout",
     "output_type": "stream",
     "text": [
      "GAME: Age of Empires II: Definitive Edition    Similarity: 1.0\n",
      "GAME: Rise of Nations: Extended Edition        Similarity: 0.97\n",
      "GAME: Age of Empires II (2013)                 Similarity: 0.97\n",
      "GAME: Stronghold Crusader HD                   Similarity: 0.96\n",
      "GAME: Age of Mythology: Extended Edition       Similarity: 0.95\n",
      "GAME: Medieval II: Total War Kingdoms          Similarity: 0.95\n"
     ]
    }
   ],
   "source": [
    "dists = np.dot(game_weights, game_weights[game_index['Age of Empires II: Definitive Edition']])\n",
    "sorted_dists = np.argsort(dists)\n",
    "closest = sorted_dists[-6:]\n",
    "for c in reversed(closest):\n",
    "    print(f'GAME: {index_game[c]:{40}} Similarity: {dists[c]:.{2}}')"
   ]
  },
  {
   "cell_type": "code",
   "execution_count": 127,
   "metadata": {},
   "outputs": [
    {
     "name": "stdout",
     "output_type": "stream",
     "text": [
      "Total War: MEDIEVAL II – Definitive Edition\n",
      "Total War: WARHAMMER\n",
      "Rome: Total War - Collection\n",
      "Total War: EMPIRE – Definitive Edition\n",
      "Total War: ROME II - Emperor Edition\n",
      "Total War: NAPOLEON – Definitive Edition\n",
      "Total War: THREE KINGDOMS\n",
      "Total War: WARHAMMER II\n",
      "Total War: ATTILA\n",
      "Total War Battles: KINGDOM\n",
      "Total War Saga: THRONES OF BRITANNIA\n",
      "SHOGUN: Total War - Collection\n",
      "Medieval: Total War - Collection\n",
      "Rome: Total War - Alexander\n",
      "Medieval II: Total War Kingdoms\n"
     ]
    }
   ],
   "source": [
    "for key in game_index:\n",
    "    if 'Total War' in key:\n",
    "        print(key)"
   ]
  },
  {
   "cell_type": "code",
   "execution_count": 128,
   "metadata": {},
   "outputs": [
    {
     "name": "stdout",
     "output_type": "stream",
     "text": [
      "GAME: Total War: WARHAMMER                     Similarity: 1.0\n",
      "GAME: Phantom Doctrine                         Similarity: 0.97\n",
      "GAME: Total War: THREE KINGDOMS                Similarity: 0.96\n",
      "GAME: Warhammer 40,000: Dawn of War II         Similarity: 0.96\n",
      "GAME: Total War: WARHAMMER II                  Similarity: 0.95\n",
      "GAME: Warhammer 40,000: Dawn of War II Chaos Rising Similarity: 0.94\n"
     ]
    }
   ],
   "source": [
    "dists = np.dot(game_weights, game_weights[game_index['Total War: WARHAMMER']])\n",
    "sorted_dists = np.argsort(dists)\n",
    "closest = sorted_dists[-6:]\n",
    "for c in reversed(closest):\n",
    "    print(f'GAME: {index_game[c]:{40}} Similarity: {dists[c]:.{2}}')"
   ]
  },
  {
   "cell_type": "code",
   "execution_count": 129,
   "metadata": {},
   "outputs": [],
   "source": [
    "def extract_weights(name, model):\n",
    "    \"\"\"Extract weights from a neural network model\"\"\"\n",
    "    \n",
    "    # Extract weights\n",
    "    weight_layer = model.get_layer(name)\n",
    "    weights = weight_layer.get_weights()[0]\n",
    "    \n",
    "    # Normalize\n",
    "    weights = weights / np.linalg.norm(weights, axis = 1).reshape((-1, 1))\n",
    "    return weights"
   ]
  },
  {
   "cell_type": "code",
   "execution_count": 130,
   "metadata": {},
   "outputs": [],
   "source": [
    "tag_weights = extract_weights('tag_embedding', model)"
   ]
  },
  {
   "cell_type": "code",
   "execution_count": 138,
   "metadata": {},
   "outputs": [
    {
     "name": "stdout",
     "output_type": "stream",
     "text": [
      "GAME: RTS                                      Similarity: 1.0\n",
      "GAME: War                                      Similarity: 0.86\n",
      "GAME: Historical                               Similarity: 0.86\n",
      "GAME: Tactical                                 Similarity: 0.86\n",
      "GAME: Grand_Strategy                           Similarity: 0.82\n",
      "GAME: 4X                                       Similarity: 0.82\n"
     ]
    }
   ],
   "source": [
    "dists = np.dot(tag_weights, tag_weights[tag_index['RTS']])\n",
    "sorted_dists = np.argsort(dists)\n",
    "closest = sorted_dists[-6:]\n",
    "for c in reversed(closest):\n",
    "    print(f'GAME: {index_tag[c]:{40}} Similarity: {dists[c]:.{2}}')"
   ]
  },
  {
   "cell_type": "code",
   "execution_count": 139,
   "metadata": {},
   "outputs": [
    {
     "name": "stdout",
     "output_type": "stream",
     "text": [
      "GAME: Fantasy                                  Similarity: 1.0\n",
      "GAME: Story_Rich                               Similarity: 0.78\n",
      "GAME: Great_Soundtrack                         Similarity: 0.73\n",
      "GAME: Atmospheric                              Similarity: 0.71\n",
      "GAME: Funny                                    Similarity: 0.71\n",
      "GAME: Comedy                                   Similarity: 0.71\n"
     ]
    }
   ],
   "source": [
    "dists = np.dot(tag_weights, tag_weights[tag_index['Fantasy']])\n",
    "sorted_dists = np.argsort(dists)\n",
    "closest = sorted_dists[-6:]\n",
    "for c in reversed(closest):\n",
    "    print(f'GAME: {index_tag[c]:{40}} Similarity: {dists[c]:.{2}}')"
   ]
  },
  {
   "cell_type": "code",
   "execution_count": null,
   "metadata": {},
   "outputs": [],
   "source": []
  }
 ],
 "metadata": {
  "kernelspec": {
   "display_name": "Python 3",
   "language": "python",
   "name": "python3"
  },
  "language_info": {
   "codemirror_mode": {
    "name": "ipython",
    "version": 3
   },
   "file_extension": ".py",
   "mimetype": "text/x-python",
   "name": "python",
   "nbconvert_exporter": "python",
   "pygments_lexer": "ipython3",
   "version": "3.7.1"
  }
 },
 "nbformat": 4,
 "nbformat_minor": 2
}
