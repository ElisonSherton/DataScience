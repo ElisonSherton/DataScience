{
 "cells": [
  {
   "cell_type": "markdown",
   "metadata": {},
   "source": [
    "# Model\n",
    "\n",
    "Here, the model will be trained and inspected."
   ]
  },
  {
   "cell_type": "code",
   "execution_count": 1,
   "metadata": {},
   "outputs": [],
   "source": [
    "import json\n",
    "import os\n",
    "import random\n",
    "\n",
    "import numpy as np"
   ]
  },
  {
   "cell_type": "code",
   "execution_count": 2,
   "metadata": {},
   "outputs": [],
   "source": [
    "os.chdir('..')"
   ]
  },
  {
   "cell_type": "code",
   "execution_count": 3,
   "metadata": {},
   "outputs": [],
   "source": [
    "random.seed(42)\n",
    "np.random.seed(42)"
   ]
  },
  {
   "cell_type": "markdown",
   "metadata": {},
   "source": [
    "Only going to used tags where the frequency is at least 20, this should help reduce noise in the data"
   ]
  },
  {
   "cell_type": "code",
   "execution_count": 4,
   "metadata": {},
   "outputs": [],
   "source": [
    "# with open('games_with_tags.json', 'r') as in_json:\n",
    "# with open('games_with_tags_min_20_freq.json', 'r') as in_json:\n",
    "# with open('games_with_tags_min_50_freq.json', 'r') as in_json:\n",
    "with open('games_with_tags_double_filter.json', 'r') as in_json:\n",
    "    games_with_tags = json.load(in_json)"
   ]
  },
  {
   "cell_type": "code",
   "execution_count": 105,
   "metadata": {},
   "outputs": [
    {
     "data": {
      "text/plain": [
       "['Strategy',\n",
       " 'Masterpiece',\n",
       " 'RTS',\n",
       " 'Classic',\n",
       " 'Multiplayer',\n",
       " 'Great Soundtrack',\n",
       " 'Singleplayer',\n",
       " 'Fantasy',\n",
       " 'Simulation',\n",
       " 'Historical',\n",
       " 'Atmospheric',\n",
       " 'Adventure',\n",
       " 'Tactical',\n",
       " 'Real-Time',\n",
       " 'Story Rich',\n",
       " 'Co-op',\n",
       " 'Remake']"
      ]
     },
     "execution_count": 105,
     "metadata": {},
     "output_type": "execute_result"
    }
   ],
   "source": [
    "games_with_tags['Age of Mythology: Extended Edition']"
   ]
  },
  {
   "cell_type": "code",
   "execution_count": 107,
   "metadata": {},
   "outputs": [
    {
     "data": {
      "text/plain": [
       "['Colony Sim',\n",
       " 'City Builder',\n",
       " 'Strategy',\n",
       " 'Survival',\n",
       " 'Space',\n",
       " 'Base-Building',\n",
       " 'Simulation',\n",
       " 'Sci-fi',\n",
       " 'Resource Management',\n",
       " 'Singleplayer',\n",
       " 'Building',\n",
       " 'Management',\n",
       " 'Space Sim',\n",
       " 'Futuristic',\n",
       " 'Sandbox']"
      ]
     },
     "execution_count": 107,
     "metadata": {},
     "output_type": "execute_result"
    }
   ],
   "source": [
    "games_with_tags['Surviving Mars']"
   ]
  },
  {
   "cell_type": "markdown",
   "metadata": {},
   "source": [
    "Generate mapping for games to indices and the same for tags:"
   ]
  },
  {
   "cell_type": "code",
   "execution_count": 5,
   "metadata": {},
   "outputs": [],
   "source": [
    "game_index = {game: idx for idx, game in enumerate(games_with_tags)}\n",
    "index_game = {idx: game for game, idx in game_index.items()}"
   ]
  },
  {
   "cell_type": "code",
   "execution_count": 6,
   "metadata": {},
   "outputs": [],
   "source": [
    "tag_count = 0\n",
    "tag_index = {}\n",
    "for game, tags in games_with_tags.items():\n",
    "    for tag in tags:\n",
    "        if tag not in tag_index:\n",
    "            tag_index[tag] = tag_count\n",
    "            tag_count += 1\n",
    "index_tag = {idx: tag for tag, idx in tag_index.items()}"
   ]
  },
  {
   "cell_type": "code",
   "execution_count": 7,
   "metadata": {},
   "outputs": [
    {
     "name": "stdout",
     "output_type": "stream",
     "text": [
      "n game: 3070\n",
      "n tags: 230\n"
     ]
    }
   ],
   "source": [
    "print(f'n game: {len(game_index)}')\n",
    "print(f'n tags: {len(tag_index)}')"
   ]
  },
  {
   "cell_type": "markdown",
   "metadata": {},
   "source": [
    "Creating a set of true pairs where a game actually has a given tag. Note the game index and the tag index are what is stored in the `pairs` list"
   ]
  },
  {
   "cell_type": "code",
   "execution_count": 8,
   "metadata": {},
   "outputs": [],
   "source": [
    "pairs = []\n",
    "for game, tags in games_with_tags.items():\n",
    "    for tag in tags:\n",
    "        pairs.append(tuple((game_index[game], tag_index[tag])))"
   ]
  },
  {
   "cell_type": "markdown",
   "metadata": {},
   "source": [
    "Taking a look at the first pair:"
   ]
  },
  {
   "cell_type": "code",
   "execution_count": 9,
   "metadata": {},
   "outputs": [
    {
     "data": {
      "text/plain": [
       "(0, 0)"
      ]
     },
     "execution_count": 9,
     "metadata": {},
     "output_type": "execute_result"
    }
   ],
   "source": [
    "pairs[0]"
   ]
  },
  {
   "cell_type": "markdown",
   "metadata": {},
   "source": [
    "Now, relate those indices back to a game name and tag name"
   ]
  },
  {
   "cell_type": "code",
   "execution_count": 10,
   "metadata": {},
   "outputs": [
    {
     "data": {
      "text/plain": [
       "('Counter-Strike', 'Action')"
      ]
     },
     "execution_count": 10,
     "metadata": {},
     "output_type": "execute_result"
    }
   ],
   "source": [
    "index_game[pairs[0][0]], index_tag[pairs[0][1]]"
   ]
  },
  {
   "cell_type": "code",
   "execution_count": 11,
   "metadata": {},
   "outputs": [
    {
     "data": {
      "text/plain": [
       "('Spelunky', 'Singleplayer')"
      ]
     },
     "execution_count": 11,
     "metadata": {},
     "output_type": "execute_result"
    }
   ],
   "source": [
    "index_game[pairs[5000][0]], index_tag[pairs[5000][1]]"
   ]
  },
  {
   "cell_type": "code",
   "execution_count": 12,
   "metadata": {},
   "outputs": [
    {
     "data": {
      "text/plain": [
       "('Kingdom Rush Origins', 'Tower Defense')"
      ]
     },
     "execution_count": 12,
     "metadata": {},
     "output_type": "execute_result"
    }
   ],
   "source": [
    "index_game[pairs[20000][0]], index_tag[pairs[20000][1]]"
   ]
  },
  {
   "cell_type": "markdown",
   "metadata": {},
   "source": [
    "Creating a set object of the pairs. This set will be used to identify if a game - tag relationship ship exists and will be used to create a negative training data set. Using a set should speed things up a bit at the items in the set will be hashed and should be faster than `pair in pairs` as this is a linear search "
   ]
  },
  {
   "cell_type": "code",
   "execution_count": 13,
   "metadata": {},
   "outputs": [],
   "source": [
    "pairs_set = set(pairs)"
   ]
  },
  {
   "cell_type": "code",
   "execution_count": 14,
   "metadata": {},
   "outputs": [
    {
     "data": {
      "text/plain": [
       "True"
      ]
     },
     "execution_count": 14,
     "metadata": {},
     "output_type": "execute_result"
    }
   ],
   "source": [
    "(0, 0) in pairs_set"
   ]
  },
  {
   "cell_type": "markdown",
   "metadata": {},
   "source": [
    "Create a generator method to yield data as required:"
   ]
  },
  {
   "cell_type": "code",
   "execution_count": 15,
   "metadata": {},
   "outputs": [],
   "source": [
    "random.seed(100)\n",
    "\n",
    "def generate_batch(pairs, n_positive = 50, negative_ratio = 1.0, classification = False):\n",
    "    \"\"\"Generate batches of samples for training\"\"\"\n",
    "    batch_size = n_positive * (1 + negative_ratio)\n",
    "    batch = np.zeros((batch_size, 3))\n",
    "    \n",
    "    # Adjust label based on task\n",
    "    if classification:\n",
    "        neg_label = 0\n",
    "    else:\n",
    "        neg_label = -1\n",
    "    \n",
    "    # This creates a generator\n",
    "    while True:\n",
    "        # randomly choose positive examples\n",
    "        for idx, (game_id, tag_id) in enumerate(random.sample(pairs, n_positive)):\n",
    "            batch[idx, :] = (game_id, tag_id, 1)\n",
    "\n",
    "        # Increment idx by 1\n",
    "        idx += 1\n",
    "        \n",
    "        # Add negative examples until reach batch size\n",
    "        while idx < batch_size:\n",
    "            \n",
    "            # random selection\n",
    "            random_game = random.randrange(len(game_index))\n",
    "            random_tag = random.randrange(len(tag_index))\n",
    "            \n",
    "            # Check to make sure this is not a positive example\n",
    "            if (random_game, random_tag) not in pairs_set:\n",
    "                \n",
    "                # Add to batch and increment index\n",
    "                batch[idx, :] = (random_game, random_tag, neg_label)\n",
    "                idx += 1\n",
    "                \n",
    "        # Make sure to shuffle order\n",
    "        np.random.shuffle(batch)\n",
    "        yield {'game': batch[:, 0], 'tag': batch[:, 1]}, batch[:, 2]"
   ]
  },
  {
   "cell_type": "code",
   "execution_count": 16,
   "metadata": {},
   "outputs": [
    {
     "data": {
      "text/plain": [
       "({'game': array([ 619., 2049., 1432., 1863., 1609.,  715.]),\n",
       "  'tag': array([ 31.,  19., 110., 197., 187., 180.])},\n",
       " array([ 1.,  1., -1., -1., -1., -1.]))"
      ]
     },
     "execution_count": 16,
     "metadata": {},
     "output_type": "execute_result"
    }
   ],
   "source": [
    "next(generate_batch(pairs, n_positive = 2, negative_ratio = 2))"
   ]
  },
  {
   "cell_type": "code",
   "execution_count": 18,
   "metadata": {},
   "outputs": [
    {
     "data": {
      "text/plain": [
       "'Sniper Elite 3'"
      ]
     },
     "execution_count": 18,
     "metadata": {},
     "output_type": "execute_result"
    }
   ],
   "source": [
    "index_game[619]"
   ]
  },
  {
   "cell_type": "code",
   "execution_count": 19,
   "metadata": {},
   "outputs": [
    {
     "data": {
      "text/plain": [
       "'Online Co-Op'"
      ]
     },
     "execution_count": 19,
     "metadata": {},
     "output_type": "execute_result"
    }
   ],
   "source": [
    "index_tag[31]"
   ]
  },
  {
   "cell_type": "code",
   "execution_count": 20,
   "metadata": {},
   "outputs": [
    {
     "data": {
      "text/plain": [
       "'Bayonetta'"
      ]
     },
     "execution_count": 20,
     "metadata": {},
     "output_type": "execute_result"
    }
   ],
   "source": [
    "index_game[2049]"
   ]
  },
  {
   "cell_type": "code",
   "execution_count": 21,
   "metadata": {},
   "outputs": [
    {
     "data": {
      "text/plain": [
       "'Mature'"
      ]
     },
     "execution_count": 21,
     "metadata": {},
     "output_type": "execute_result"
    }
   ],
   "source": [
    "index_tag[19]"
   ]
  },
  {
   "cell_type": "markdown",
   "metadata": {},
   "source": [
    "Have a look at a training batch:"
   ]
  },
  {
   "cell_type": "code",
   "execution_count": 22,
   "metadata": {},
   "outputs": [
    {
     "name": "stdout",
     "output_type": "stream",
     "text": [
      "Game: XCOM 2                         Tag: Real Time Tactics                        Label: -1.0\n",
      "Game: Kingdom Two Crowns             Tag: Dystopian                                Label: -1.0\n",
      "Game: Sundered: Eldritch Edition     Tag: Indie                                    Label: 1.0\n",
      "Game: La-Mulana                      Tag: Metroidvania                             Label: 1.0\n",
      "Game: Jamestown                      Tag: Lore-Rich                                Label: -1.0\n",
      "Game: Loren The Amazon Princess      Tag: Sandbox                                  Label: -1.0\n",
      "Game: OKAMI HD / 大神 絶景版              Tag: Adventure                                Label: 1.0\n",
      "Game: Shadow Warrior Classic Redux   Tag: Classic                                  Label: 1.0\n",
      "Game: Resident Evil Revelations 2 / Biohazard Revelations 2 Tag: Military                                 Label: -1.0\n",
      "Game: Guacamelee! Gold Edition       Tag: Beat 'em up                              Label: 1.0\n"
     ]
    }
   ],
   "source": [
    "x, y = next(generate_batch(pairs, n_positive = 5, negative_ratio = 1))\n",
    "\n",
    "# Show a few example training pairs\n",
    "for label, b_idx, l_idx in zip(y, x['game'], x['tag']):\n",
    "    print(f'Game: {index_game[b_idx]:30} Tag: {index_tag[l_idx]:40} Label: {label}')"
   ]
  },
  {
   "cell_type": "code",
   "execution_count": 23,
   "metadata": {},
   "outputs": [
    {
     "name": "stderr",
     "output_type": "stream",
     "text": [
      "Using TensorFlow backend.\n"
     ]
    }
   ],
   "source": [
    "from keras.layers import (\n",
    "    Input,\n",
    "    Embedding,\n",
    "    Dot,\n",
    "    Reshape,\n",
    "    Dense\n",
    ")\n",
    "from keras.models import Model\n",
    "import tensorflow as tf"
   ]
  },
  {
   "cell_type": "code",
   "execution_count": 24,
   "metadata": {},
   "outputs": [],
   "source": [
    "tf.random.set_seed(42)"
   ]
  },
  {
   "cell_type": "markdown",
   "metadata": {},
   "source": [
    "A function to build the embedding model"
   ]
  },
  {
   "cell_type": "code",
   "execution_count": 112,
   "metadata": {},
   "outputs": [],
   "source": [
    "def game_embedding_model(embedding_size = 100, classification = False):\n",
    "    \"\"\"Model to embed game and tags using the functional API.\n",
    "       Trained to discern if a tag is present for a game\"\"\"\n",
    "    \n",
    "    # Both inputs are 1-dimensional\n",
    "    game = Input(name = 'game', shape = [1])\n",
    "    tag = Input(name = 'tag', shape = [1])\n",
    "    \n",
    "    # Embedding the game (shape will be (None, 1, 50))\n",
    "    game_embedding = Embedding(name = 'game_embedding',\n",
    "                               input_dim = len(game_index),\n",
    "                               output_dim = embedding_size)(game)\n",
    "    \n",
    "    # Embedding the tag (shape will be (None, 1, 50))\n",
    "    tag_embedding = Embedding(name = 'tag_embedding',\n",
    "                               input_dim = len(tag_index),\n",
    "                               output_dim = embedding_size)(tag)\n",
    "    \n",
    "    # Merge the layers with a dot product along the second axis (shape will be (None, 1, 1))\n",
    "    merged = Dot(name = 'dot_product', normalize = True, axes = 2)([game_embedding, tag_embedding])\n",
    "    \n",
    "    # Reshape to be a single number (shape will be (None, 1))\n",
    "    merged = Reshape(target_shape = [1])(merged)\n",
    "    \n",
    "    # If classifcation, add extra layer and loss function is binary cross entropy\n",
    "    if classification:\n",
    "        merged = Dense(1, activation = 'sigmoid')(merged)\n",
    "        model = Model(inputs = [book, link], outputs = merged)\n",
    "        model.compile(optimizer = 'Adam', loss = 'binary_crossentropy', metrics = ['accuracy'])\n",
    "    \n",
    "    # Otherwise loss function is mean squared error\n",
    "    else:\n",
    "        model = Model(inputs = [game, tag], outputs = merged)\n",
    "        model.compile(optimizer = 'Adam', loss = 'mse')\n",
    "    \n",
    "    return model"
   ]
  },
  {
   "cell_type": "code",
   "execution_count": 167,
   "metadata": {},
   "outputs": [
    {
     "name": "stdout",
     "output_type": "stream",
     "text": [
      "Model: \"model_11\"\n",
      "__________________________________________________________________________________________________\n",
      "Layer (type)                    Output Shape         Param #     Connected to                     \n",
      "==================================================================================================\n",
      "game (InputLayer)               (None, 1)            0                                            \n",
      "__________________________________________________________________________________________________\n",
      "tag (InputLayer)                (None, 1)            0                                            \n",
      "__________________________________________________________________________________________________\n",
      "game_embedding (Embedding)      (None, 1, 200)       614000      game[0][0]                       \n",
      "__________________________________________________________________________________________________\n",
      "tag_embedding (Embedding)       (None, 1, 200)       46000       tag[0][0]                        \n",
      "__________________________________________________________________________________________________\n",
      "dot_product (Dot)               (None, 1, 1)         0           game_embedding[0][0]             \n",
      "                                                                 tag_embedding[0][0]              \n",
      "__________________________________________________________________________________________________\n",
      "reshape_11 (Reshape)            (None, 1)            0           dot_product[0][0]                \n",
      "==================================================================================================\n",
      "Total params: 660,000\n",
      "Trainable params: 660,000\n",
      "Non-trainable params: 0\n",
      "__________________________________________________________________________________________________\n"
     ]
    }
   ],
   "source": [
    "model = game_embedding_model(embedding_size=200)\n",
    "model.summary()"
   ]
  },
  {
   "cell_type": "code",
   "execution_count": 168,
   "metadata": {},
   "outputs": [
    {
     "name": "stderr",
     "output_type": "stream",
     "text": [
      "c:\\users\\harpal\\envs\\steam_recommendation\\lib\\site-packages\\tensorflow_core\\python\\framework\\indexed_slices.py:424: UserWarning: Converting sparse IndexedSlices to a dense Tensor of unknown shape. This may consume a large amount of memory.\n",
      "  \"Converting sparse IndexedSlices to a dense Tensor of unknown shape. \"\n"
     ]
    },
    {
     "name": "stdout",
     "output_type": "stream",
     "text": [
      "Epoch 1/20\n",
      " - 1s - loss: 0.9946\n",
      "Epoch 2/20\n",
      " - 0s - loss: 0.9679\n",
      "Epoch 3/20\n",
      " - 0s - loss: 0.9287\n",
      "Epoch 4/20\n",
      " - 0s - loss: 0.8730\n",
      "Epoch 5/20\n",
      " - 0s - loss: 0.7779\n",
      "Epoch 6/20\n",
      " - 0s - loss: 0.6723\n",
      "Epoch 7/20\n",
      " - 0s - loss: 0.5791\n",
      "Epoch 8/20\n",
      " - 0s - loss: 0.5196\n",
      "Epoch 9/20\n",
      " - 0s - loss: 0.4832\n",
      "Epoch 10/20\n",
      " - 0s - loss: 0.4663\n",
      "Epoch 11/20\n",
      " - 0s - loss: 0.4479\n",
      "Epoch 12/20\n",
      " - 0s - loss: 0.4390\n",
      "Epoch 13/20\n",
      " - 0s - loss: 0.4307\n",
      "Epoch 14/20\n",
      " - 0s - loss: 0.4205\n",
      "Epoch 15/20\n",
      " - 0s - loss: 0.4182\n",
      "Epoch 16/20\n",
      " - 0s - loss: 0.4166\n",
      "Epoch 17/20\n",
      " - 0s - loss: 0.4154\n",
      "Epoch 18/20\n",
      " - 0s - loss: 0.4066\n",
      "Epoch 19/20\n",
      " - 0s - loss: 0.4040\n",
      "Epoch 20/20\n",
      " - 0s - loss: 0.4025\n"
     ]
    }
   ],
   "source": [
    "n_positive = 1024\n",
    "\n",
    "gen = generate_batch(pairs, n_positive, negative_ratio = 2)\n",
    "\n",
    "# Train\n",
    "h = model.fit_generator(\n",
    "    gen,\n",
    "    epochs = 20, \n",
    "    steps_per_epoch = len(pairs) // n_positive,\n",
    "    verbose = 2\n",
    ")"
   ]
  },
  {
   "cell_type": "markdown",
   "metadata": {},
   "source": [
    "The loss was reduced over successive epochs which means the network was learning something!"
   ]
  },
  {
   "cell_type": "code",
   "execution_count": 169,
   "metadata": {},
   "outputs": [],
   "source": [
    "model.save('./models/double_filter_emb_200.h5')"
   ]
  },
  {
   "cell_type": "code",
   "execution_count": 170,
   "metadata": {},
   "outputs": [
    {
     "data": {
      "text/plain": [
       "(3070, 200)"
      ]
     },
     "execution_count": 170,
     "metadata": {},
     "output_type": "execute_result"
    }
   ],
   "source": [
    "# Extract embeddings\n",
    "game_layer = model.get_layer('game_embedding')\n",
    "game_weights = game_layer.get_weights()[0]\n",
    "game_weights.shape"
   ]
  },
  {
   "cell_type": "markdown",
   "metadata": {},
   "source": [
    "Each game is now represented as a 50-dimensional vector.\n",
    "\n",
    "We need to normalize the embeddings so that the dot product between two embeddings becomes the cosine similarity."
   ]
  },
  {
   "cell_type": "code",
   "execution_count": 171,
   "metadata": {},
   "outputs": [
    {
     "data": {
      "text/plain": [
       "1.0"
      ]
     },
     "execution_count": 171,
     "metadata": {},
     "output_type": "execute_result"
    }
   ],
   "source": [
    "game_weights = game_weights / np.linalg.norm(game_weights, axis = 1).reshape((-1, 1))\n",
    "game_weights[0][:10]\n",
    "np.sum(np.square(game_weights[0]))"
   ]
  },
  {
   "cell_type": "code",
   "execution_count": 172,
   "metadata": {},
   "outputs": [
    {
     "data": {
      "text/plain": [
       "array([-0.00109073, -0.01724519,  0.06001356, -0.02607019,  0.02891507,\n",
       "       -0.01699745,  0.09929603, -0.02611912,  0.00795362, -0.1755628 ,\n",
       "       -0.01310005,  0.11739302,  0.05751131,  0.01500415,  0.06135628,\n",
       "        0.01482367, -0.06131312, -0.03841453,  0.1068726 ,  0.10221927,\n",
       "        0.13364178,  0.03754778,  0.07873269,  0.02576359,  0.03266801,\n",
       "        0.10079321, -0.00823136,  0.01456807,  0.0077336 ,  0.10560231,\n",
       "        0.00041216, -0.12101679,  0.05460078, -0.06164695, -0.03260313,\n",
       "        0.04724703,  0.00618768,  0.14591552,  0.00061356,  0.07496168,\n",
       "        0.02256386, -0.08729154, -0.02515487, -0.02831933,  0.09597023,\n",
       "        0.02227032, -0.03774486, -0.0313034 , -0.01692515, -0.08252463,\n",
       "        0.12335243,  0.0608047 , -0.0518028 , -0.07511599,  0.03980004,\n",
       "       -0.02810827, -0.1307546 , -0.07446088,  0.05529015, -0.10727797,\n",
       "       -0.10108518,  0.06855935, -0.11287209,  0.01309502, -0.07384143,\n",
       "        0.03019584,  0.08735685, -0.00470799, -0.08862843,  0.09501211,\n",
       "        0.11533499,  0.09426881, -0.0487998 , -0.1626607 , -0.05265542,\n",
       "        0.00448746,  0.14073527, -0.00232163, -0.06435188, -0.05078211,\n",
       "       -0.00133022, -0.10639151,  0.08568733, -0.12497485, -0.10197156,\n",
       "        0.09027205,  0.05773266, -0.08106984,  0.03563514, -0.07730699,\n",
       "        0.04384407,  0.06354696, -0.05217971, -0.03086243, -0.12034193,\n",
       "       -0.01579955,  0.10347422, -0.13336141,  0.17822379, -0.07659441,\n",
       "        0.03427003,  0.02083563,  0.12294332,  0.05809433,  0.12625012,\n",
       "       -0.02950572, -0.05797281,  0.06570228,  0.00895075,  0.00887184,\n",
       "       -0.04939205,  0.03662816,  0.03814645,  0.0035579 , -0.0249581 ,\n",
       "        0.031323  , -0.05253869, -0.10250781,  0.05498893,  0.05306529,\n",
       "       -0.01730403, -0.01150035, -0.07639785, -0.00305695, -0.07699275,\n",
       "       -0.11373873,  0.02371329,  0.01532641,  0.0330796 ,  0.06140021,\n",
       "        0.0260911 , -0.04292095,  0.02212893,  0.06879601, -0.08299429,\n",
       "        0.03338247, -0.0851317 , -0.06083504,  0.01169487, -0.01075798,\n",
       "       -0.09275378, -0.08632022, -0.02255314,  0.08692886, -0.10184474,\n",
       "       -0.08492905,  0.05285471,  0.1007578 ,  0.04613063, -0.10468707,\n",
       "        0.0730288 ,  0.00143816,  0.00081694, -0.0197428 ,  0.01712808,\n",
       "       -0.05147108, -0.05789196, -0.03959892, -0.11120682,  0.07059191,\n",
       "        0.04533353, -0.03944476,  0.04092586,  0.06758343, -0.12452351,\n",
       "        0.07225908, -0.09297897,  0.05361829,  0.0707087 , -0.00472032,\n",
       "        0.11867807,  0.05159684,  0.07187334, -0.0843406 ,  0.02483715,\n",
       "       -0.03807172,  0.08955956,  0.05438142, -0.00131261, -0.02083197,\n",
       "        0.03062137, -0.08837261, -0.05164399, -0.00870772, -0.08014891,\n",
       "       -0.0321505 , -0.06962533, -0.00636153,  0.02431463,  0.07670192,\n",
       "       -0.10419493, -0.0194935 , -0.0148846 , -0.08907559,  0.12462357,\n",
       "        0.02099202,  0.05251894, -0.12689987,  0.02758098, -0.08102183],\n",
       "      dtype=float32)"
      ]
     },
     "execution_count": 172,
     "metadata": {},
     "output_type": "execute_result"
    }
   ],
   "source": [
    "game_weights[game_index['Portal']]"
   ]
  },
  {
   "cell_type": "code",
   "execution_count": 173,
   "metadata": {},
   "outputs": [
    {
     "name": "stdout",
     "output_type": "stream",
     "text": [
      "GAME: Age of Empires II: Definitive Edition    Similarity: 1.0\n",
      "GAME: Tooth and Tail                           Similarity: 0.96\n",
      "GAME: Kingdom Wars                             Similarity: 0.96\n",
      "GAME: Total Annihilation                       Similarity: 0.96\n",
      "GAME: Warhammer 40,000: Dawn of War II Chaos Rising Similarity: 0.95\n",
      "GAME: SpellForce 3                             Similarity: 0.95\n"
     ]
    }
   ],
   "source": [
    "dists = np.dot(game_weights, game_weights[game_index['Age of Empires II: Definitive Edition']])\n",
    "sorted_dists = np.argsort(dists)\n",
    "closest = sorted_dists[-6:]\n",
    "for c in reversed(closest):\n",
    "    print(f'GAME: {index_game[c]:{40}} Similarity: {dists[c]:.{2}}')"
   ]
  },
  {
   "cell_type": "code",
   "execution_count": 174,
   "metadata": {},
   "outputs": [
    {
     "name": "stdout",
     "output_type": "stream",
     "text": [
      "Age of Mythology: Extended Edition\n",
      "The Lost Mythologies\n"
     ]
    }
   ],
   "source": [
    "for key in game_index:\n",
    "    if 'Myth' in key:\n",
    "        print(key)"
   ]
  },
  {
   "cell_type": "code",
   "execution_count": 175,
   "metadata": {},
   "outputs": [
    {
     "name": "stdout",
     "output_type": "stream",
     "text": [
      "GAME: Total War: WARHAMMER                     Similarity: 1.0\n",
      "GAME: Total War: WARHAMMER II                  Similarity: 0.9\n",
      "GAME: Endless Space 2                          Similarity: 0.89\n",
      "GAME: Age of Mythology: Extended Edition       Similarity: 0.88\n",
      "GAME: Total War: THREE KINGDOMS                Similarity: 0.87\n",
      "GAME: Age of Wonders III                       Similarity: 0.86\n"
     ]
    }
   ],
   "source": [
    "dists = np.dot(game_weights, game_weights[game_index['Total War: WARHAMMER']])\n",
    "sorted_dists = np.argsort(dists)\n",
    "closest = sorted_dists[-6:]\n",
    "for c in reversed(closest):\n",
    "    print(f'GAME: {index_game[c]:{40}} Similarity: {dists[c]:.{2}}')"
   ]
  },
  {
   "cell_type": "code",
   "execution_count": 176,
   "metadata": {},
   "outputs": [],
   "source": [
    "def extract_weights(name, model):\n",
    "    \"\"\"Extract weights from a neural network model\"\"\"\n",
    "    \n",
    "    # Extract weights\n",
    "    weight_layer = model.get_layer(name)\n",
    "    weights = weight_layer.get_weights()[0]\n",
    "    \n",
    "    # Normalize\n",
    "    weights = weights / np.linalg.norm(weights, axis = 1).reshape((-1, 1))\n",
    "    return weights"
   ]
  },
  {
   "cell_type": "code",
   "execution_count": 177,
   "metadata": {},
   "outputs": [],
   "source": [
    "tag_weights = extract_weights('tag_embedding', model)"
   ]
  },
  {
   "cell_type": "code",
   "execution_count": 178,
   "metadata": {},
   "outputs": [
    {
     "name": "stdout",
     "output_type": "stream",
     "text": [
      "GAME: RTS                                      Similarity: 1.0\n",
      "GAME: Grand Strategy                           Similarity: 0.9\n",
      "GAME: Historical                               Similarity: 0.85\n",
      "GAME: Real-Time                                Similarity: 0.82\n",
      "GAME: Base-Building                            Similarity: 0.79\n",
      "GAME: Military                                 Similarity: 0.78\n"
     ]
    }
   ],
   "source": [
    "dists = np.dot(tag_weights, tag_weights[tag_index['RTS']])\n",
    "sorted_dists = np.argsort(dists)\n",
    "closest = sorted_dists[-6:]\n",
    "for c in reversed(closest):\n",
    "    print(f'GAME: {index_tag[c]:{40}} Similarity: {dists[c]:.{2}}')"
   ]
  },
  {
   "cell_type": "code",
   "execution_count": 179,
   "metadata": {},
   "outputs": [
    {
     "name": "stdout",
     "output_type": "stream",
     "text": [
      "GAME: Fantasy                                  Similarity: 1.0\n",
      "GAME: Action RPG                               Similarity: 0.8\n",
      "GAME: Character Customization                  Similarity: 0.78\n",
      "GAME: Third Person                             Similarity: 0.73\n",
      "GAME: Hack and Slash                           Similarity: 0.72\n",
      "GAME: Masterpiece                              Similarity: 0.7\n"
     ]
    }
   ],
   "source": [
    "dists = np.dot(tag_weights, tag_weights[tag_index['Fantasy']])\n",
    "sorted_dists = np.argsort(dists)\n",
    "closest = sorted_dists[-6:]\n",
    "for c in reversed(closest):\n",
    "    print(f'GAME: {index_tag[c]:{40}} Similarity: {dists[c]:.{2}}')"
   ]
  },
  {
   "cell_type": "code",
   "execution_count": null,
   "metadata": {},
   "outputs": [],
   "source": []
  },
  {
   "cell_type": "code",
   "execution_count": null,
   "metadata": {},
   "outputs": [],
   "source": []
  },
  {
   "cell_type": "code",
   "execution_count": 180,
   "metadata": {},
   "outputs": [],
   "source": [
    "def subtract_tag(tag: str, game: str) -> np.array:\n",
    "    new_game_weight = game_weights[game_index[game]] - tag_weights[tag_index[tag]]\n",
    "    return new_game_weight / np.linalg.norm(new_game_weight).reshape((-1, 1))[0]"
   ]
  },
  {
   "cell_type": "code",
   "execution_count": 181,
   "metadata": {},
   "outputs": [],
   "source": [
    "def add_tag(tag: str, game: str) -> np.array:\n",
    "    new_game_weight = game_weights[game_index[game]] + tag_weights[tag_index[tag]]\n",
    "    return new_game_weight / np.linalg.norm(new_game_weight).reshape((-1, 1))[0]"
   ]
  },
  {
   "cell_type": "code",
   "execution_count": 182,
   "metadata": {},
   "outputs": [],
   "source": [
    "def find_closest(game_embedding: np.array) -> None:\n",
    "    dists = np.dot(game_weights, game_embedding)\n",
    "    sorted_dists = np.argsort(dists)\n",
    "    closest = sorted_dists[-6:]\n",
    "    for c in reversed(closest):\n",
    "        print(f'GAME: {index_game[c]:{40}} Similarity: {dists[c]:.{2}}')"
   ]
  },
  {
   "cell_type": "code",
   "execution_count": 183,
   "metadata": {},
   "outputs": [
    {
     "name": "stdout",
     "output_type": "stream",
     "text": [
      "GAME: CryoFall                                 Similarity: 0.82\n",
      "GAME: My Lands: Black Gem Hunting              Similarity: 0.8\n",
      "GAME: Free Company VR                          Similarity: 0.8\n",
      "GAME: All Guns On Deck                         Similarity: 0.8\n",
      "GAME: INTERSTELLAR PRIME                       Similarity: 0.79\n",
      "GAME: 太吾绘卷 The Scroll Of Taiwu                 Similarity: 0.79\n"
     ]
    }
   ],
   "source": [
    "find_closest(subtract_tag('Classic', 'Age of Mythology: Extended Edition'))"
   ]
  },
  {
   "cell_type": "code",
   "execution_count": 184,
   "metadata": {},
   "outputs": [
    {
     "name": "stdout",
     "output_type": "stream",
     "text": [
      "GAME: Steel Division: Normandy 44              Similarity: 0.82\n",
      "GAME: Ashes of the Singularity: Escalation     Similarity: 0.82\n",
      "GAME: ARMA: Cold War Assault                   Similarity: 0.82\n",
      "GAME: Takedown: Red Sabre                      Similarity: 0.81\n",
      "GAME: War of Rights                            Similarity: 0.79\n",
      "GAME: Ultimate General: Civil War              Similarity: 0.79\n"
     ]
    }
   ],
   "source": [
    "find_closest(subtract_tag('Fantasy', 'Age of Mythology: Extended Edition'))"
   ]
  },
  {
   "cell_type": "code",
   "execution_count": 185,
   "metadata": {},
   "outputs": [
    {
     "name": "stdout",
     "output_type": "stream",
     "text": [
      "GAME: Rocket League                            Similarity: 1.0\n",
      "GAME: Stick Fight: The Game                    Similarity: 0.82\n",
      "GAME: Duck Game                                Similarity: 0.77\n",
      "GAME: SpeedRunners                             Similarity: 0.77\n",
      "GAME: Hot Shot Burn                            Similarity: 0.77\n",
      "GAME: Xenon Racer                              Similarity: 0.75\n"
     ]
    }
   ],
   "source": [
    "find_closest(game_weights[game_index['Rocket League']])"
   ]
  },
  {
   "cell_type": "code",
   "execution_count": 186,
   "metadata": {},
   "outputs": [
    {
     "name": "stdout",
     "output_type": "stream",
     "text": [
      "GAME: Mirador                                  Similarity: 0.87\n",
      "GAME: Magicka                                  Similarity: 0.87\n",
      "GAME: Overcooked! 2                            Similarity: 0.86\n",
      "GAME: Monaco: What's Yours Is Mine             Similarity: 0.84\n",
      "GAME: FORCED: Slightly Better Edition          Similarity: 0.84\n",
      "GAME: BattleBlock Theater                      Similarity: 0.84\n"
     ]
    }
   ],
   "source": [
    "find_closest(subtract_tag('Sports', 'Rocket League'))"
   ]
  },
  {
   "cell_type": "code",
   "execution_count": 187,
   "metadata": {},
   "outputs": [
    {
     "name": "stdout",
     "output_type": "stream",
     "text": [
      "GAME: Far Cry 2: Fortune's Edition             Similarity: 0.92\n",
      "GAME: E.Y.E: Divine Cybermancy                 Similarity: 0.9\n",
      "GAME: Outward                                  Similarity: 0.9\n",
      "GAME: Far Cry New Dawn                         Similarity: 0.89\n",
      "GAME: American Fugitive                        Similarity: 0.89\n",
      "GAME: Dead Rising 2                            Similarity: 0.89\n"
     ]
    }
   ],
   "source": [
    "find_closest(subtract_tag('Sports', 'GRID 2'))"
   ]
  },
  {
   "cell_type": "code",
   "execution_count": 188,
   "metadata": {},
   "outputs": [
    {
     "name": "stdout",
     "output_type": "stream",
     "text": [
      "GAME: GRID 2                                   Similarity: 1.0\n",
      "GAME: RaceRoom Racing Experience               Similarity: 0.92\n",
      "GAME: Need For Speed: Hot Pursuit              Similarity: 0.9\n",
      "GAME: The Crew 2                               Similarity: 0.88\n",
      "GAME: Wreckfest                                Similarity: 0.88\n",
      "GAME: Project CARS                             Similarity: 0.85\n"
     ]
    }
   ],
   "source": [
    "find_closest(game_weights[game_index['GRID 2']])"
   ]
  },
  {
   "cell_type": "code",
   "execution_count": 189,
   "metadata": {},
   "outputs": [
    {
     "name": "stdout",
     "output_type": "stream",
     "text": [
      "GAME: Galactic Civilizations III               Similarity: 0.75\n",
      "GAME: Stellaris                                Similarity: 0.74\n",
      "GAME: Banished                                 Similarity: 0.7\n",
      "GAME: Craft The World                          Similarity: 0.7\n",
      "GAME: Oxygen Not Included                      Similarity: 0.69\n",
      "GAME: Sid Meier's Civilization: Beyond Earth   Similarity: 0.69\n"
     ]
    }
   ],
   "source": [
    "find_closest(add_tag('Fantasy', 'Surviving Mars'))"
   ]
  },
  {
   "cell_type": "code",
   "execution_count": 190,
   "metadata": {},
   "outputs": [
    {
     "name": "stdout",
     "output_type": "stream",
     "text": [
      "GAME: Endless Sky                              Similarity: 0.95\n",
      "GAME: X4: Foundations                          Similarity: 0.93\n",
      "GAME: X Rebirth                                Similarity: 0.91\n",
      "GAME: Starpoint Gemini 2                       Similarity: 0.91\n",
      "GAME: Ashes of the Singularity: Escalation     Similarity: 0.9\n",
      "GAME: Wenjia                                   Similarity: 0.89\n"
     ]
    }
   ],
   "source": [
    "find_closest(subtract_tag('Colony Sim', 'Surviving Mars'))"
   ]
  },
  {
   "cell_type": "code",
   "execution_count": null,
   "metadata": {},
   "outputs": [],
   "source": []
  },
  {
   "cell_type": "code",
   "execution_count": null,
   "metadata": {},
   "outputs": [],
   "source": []
  }
 ],
 "metadata": {
  "kernelspec": {
   "display_name": "Python 3",
   "language": "python",
   "name": "python3"
  },
  "language_info": {
   "codemirror_mode": {
    "name": "ipython",
    "version": 3
   },
   "file_extension": ".py",
   "mimetype": "text/x-python",
   "name": "python",
   "nbconvert_exporter": "python",
   "pygments_lexer": "ipython3",
   "version": "3.7.1"
  }
 },
 "nbformat": 4,
 "nbformat_minor": 2
}
