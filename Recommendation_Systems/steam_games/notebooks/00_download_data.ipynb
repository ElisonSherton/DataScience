{
 "cells": [
  {
   "cell_type": "markdown",
   "metadata": {},
   "source": [
    "# Steam Game Recommendation\n",
    "\n",
    "This is the first notebook in the series to build a steam game recommendation engine based on game tags. This notebook focuses on obtaining the data.\n",
    "\n",
    "## Downloading Data"
   ]
  },
  {
   "cell_type": "code",
   "execution_count": 1,
   "metadata": {},
   "outputs": [],
   "source": [
    "import json\n",
    "import os\n",
    "import time"
   ]
  },
  {
   "cell_type": "code",
   "execution_count": 2,
   "metadata": {},
   "outputs": [],
   "source": [
    "os.chdir('..')"
   ]
  },
  {
   "cell_type": "code",
   "execution_count": 3,
   "metadata": {},
   "outputs": [],
   "source": [
    "import download"
   ]
  },
  {
   "cell_type": "markdown",
   "metadata": {},
   "source": [
    "Becuse the API call to obtain all the data does not return game tags, we make an additional call for each game in the dataset to obtain the tags. Note, that steamspy will throttle us to 4 calls per second."
   ]
  },
  {
   "cell_type": "code",
   "execution_count": 4,
   "metadata": {},
   "outputs": [],
   "source": [
    "tag_games = os.listdir('./data')"
   ]
  },
  {
   "cell_type": "code",
   "execution_count": 12,
   "metadata": {},
   "outputs": [
    {
     "name": "stdout",
     "output_type": "stream",
     "text": [
      "300\n",
      "400\n"
     ]
    }
   ],
   "source": [
    "with open('game_tags.txt', 'r') as tags_in:\n",
    "    for i, tag in enumerate(tags_in):\n",
    "        tag_filename = tag.strip().replace(' ', '_')\n",
    "        file_out = f'{tag_filename}_games.json'\n",
    "        if file_out in tag_games:\n",
    "            with open(f'./data/{file_out}', 'r') as json_in:\n",
    "                tag_data = json.load(json_in)\n",
    "                if tag_data:\n",
    "                    continue\n",
    "        tag_data = download.get_games_with_tag(tag.strip())\n",
    "        tag = tag.strip().replace(' ', '_')\n",
    "        with open(f'./data/{tag}_games.json', 'w') as json_out:\n",
    "            json.dump(tag_data, json_out)\n",
    "        if i % 100 == 0:\n",
    "            print(i)\n",
    "        time.sleep(0.250) # Throttled to 4 requests a second"
   ]
  },
  {
   "cell_type": "markdown",
   "metadata": {},
   "source": [
    "Finally, write the data set to a json file"
   ]
  }
 ],
 "metadata": {
  "kernelspec": {
   "display_name": "Python 3",
   "language": "python",
   "name": "python3"
  },
  "language_info": {
   "codemirror_mode": {
    "name": "ipython",
    "version": 3
   },
   "file_extension": ".py",
   "mimetype": "text/x-python",
   "name": "python",
   "nbconvert_exporter": "python",
   "pygments_lexer": "ipython3",
   "version": "3.7.1"
  }
 },
 "nbformat": 4,
 "nbformat_minor": 2
}
