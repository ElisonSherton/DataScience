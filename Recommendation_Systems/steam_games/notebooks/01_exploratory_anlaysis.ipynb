{
 "cells": [
  {
   "cell_type": "markdown",
   "metadata": {},
   "source": [
    "# Exploratory Analysis"
   ]
  },
  {
   "cell_type": "code",
   "execution_count": 67,
   "metadata": {},
   "outputs": [],
   "source": [
    "from collections import Counter\n",
    "import json\n",
    "import os\n",
    "\n",
    "import matplotlib.pyplot as plt\n",
    "import numpy as np\n",
    "import pandas as pd\n",
    "\n",
    "import seaborn as sns"
   ]
  },
  {
   "cell_type": "code",
   "execution_count": 3,
   "metadata": {},
   "outputs": [],
   "source": [
    "sns.set(rc={'figure.figsize':(15,8)})"
   ]
  },
  {
   "cell_type": "code",
   "execution_count": 4,
   "metadata": {},
   "outputs": [],
   "source": [
    "os.chdir('..')"
   ]
  },
  {
   "cell_type": "code",
   "execution_count": 5,
   "metadata": {},
   "outputs": [],
   "source": [
    "game_files = os.listdir('./data/games')"
   ]
  },
  {
   "cell_type": "code",
   "execution_count": null,
   "metadata": {},
   "outputs": [],
   "source": []
  },
  {
   "cell_type": "code",
   "execution_count": 6,
   "metadata": {},
   "outputs": [],
   "source": [
    "tag_freqs = []\n",
    "for game in game_files:\n",
    "    with open(f'./data/games/{game}', 'r') as in_json:\n",
    "        game_data = json.load(in_json)\n",
    "        game_tags = game_data['tags']\n",
    "        if game_tags:\n",
    "            for k, v in game_tags.items():\n",
    "                tag_freqs.append(v)"
   ]
  },
  {
   "cell_type": "code",
   "execution_count": null,
   "metadata": {},
   "outputs": [],
   "source": []
  },
  {
   "cell_type": "code",
   "execution_count": 7,
   "metadata": {},
   "outputs": [
    {
     "data": {
      "text/plain": [
       "<matplotlib.axes._subplots.AxesSubplot at 0x234d50bd438>"
      ]
     },
     "execution_count": 7,
     "metadata": {},
     "output_type": "execute_result"
    },
    {
     "data": {
      "image/png": "[encoded data removed]",
      "text/plain": [
       "<Figure size 1080x576 with 1 Axes>"
      ]
     },
     "metadata": {},
     "output_type": "display_data"
    }
   ],
   "source": [
    "sns.distplot(tag_freqs)"
   ]
  },
  {
   "cell_type": "code",
   "execution_count": 8,
   "metadata": {},
   "outputs": [
    {
     "data": {
      "text/plain": [
       "66.53283525749076"
      ]
     },
     "execution_count": 8,
     "metadata": {},
     "output_type": "execute_result"
    }
   ],
   "source": [
    "np.mean(tag_freqs)"
   ]
  },
  {
   "cell_type": "code",
   "execution_count": 9,
   "metadata": {},
   "outputs": [
    {
     "data": {
      "text/plain": [
       "22.0"
      ]
     },
     "execution_count": 9,
     "metadata": {},
     "output_type": "execute_result"
    }
   ],
   "source": [
    "np.median(tag_freqs)"
   ]
  },
  {
   "cell_type": "code",
   "execution_count": 10,
   "metadata": {},
   "outputs": [
    {
     "data": {
      "text/plain": [
       "<matplotlib.axes._subplots.AxesSubplot at 0x234d840ae48>"
      ]
     },
     "execution_count": 10,
     "metadata": {},
     "output_type": "execute_result"
    },
    {
     "data": {
      "image/png": "[encoded data removed]",
      "text/plain": [
       "<Figure size 1080x576 with 1 Axes>"
      ]
     },
     "metadata": {},
     "output_type": "display_data"
    }
   ],
   "source": [
    "sns.boxplot(x=tag_freqs)"
   ]
  },
  {
   "cell_type": "code",
   "execution_count": 13,
   "metadata": {},
   "outputs": [
    {
     "data": {
      "text/plain": [
       "count    267563.000000\n",
       "mean         66.532835\n",
       "std         549.068984\n",
       "min           1.000000\n",
       "25%          12.000000\n",
       "50%          22.000000\n",
       "75%          35.000000\n",
       "max       84173.000000\n",
       "dtype: float64"
      ]
     },
     "execution_count": 13,
     "metadata": {},
     "output_type": "execute_result"
    }
   ],
   "source": [
    "pd.Series(tag_freqs).describe()"
   ]
  },
  {
   "cell_type": "code",
   "execution_count": 35,
   "metadata": {},
   "outputs": [
    {
     "name": "stdout",
     "output_type": "stream",
     "text": [
      "Qauntile: 0.05   Frequency: 7.0\n",
      "Qauntile: 0.10   Frequency: 10.0\n",
      "Qauntile: 0.15   Frequency: 11.0\n",
      "Qauntile: 0.20   Frequency: 11.0\n",
      "Qauntile: 0.25   Frequency: 12.0\n",
      "Qauntile: 0.30   Frequency: 14.0\n",
      "Qauntile: 0.35   Frequency: 17.0\n",
      "Qauntile: 0.40   Frequency: 20.0\n",
      "Qauntile: 0.45   Frequency: 21.0\n",
      "Qauntile: 0.50   Frequency: 22.0\n",
      "Qauntile: 0.55   Frequency: 23.0\n",
      "Qauntile: 0.60   Frequency: 26.0\n",
      "Qauntile: 0.65   Frequency: 30.0\n",
      "Qauntile: 0.70   Frequency: 32.0\n",
      "Qauntile: 0.75   Frequency: 35.0\n",
      "Qauntile: 0.80   Frequency: 43.0\n",
      "Qauntile: 0.85   Frequency: 55.0\n",
      "Qauntile: 0.90   Frequency: 80.0\n",
      "Qauntile: 0.95   Frequency: 163.0\n",
      "Qauntile: 1.00   Frequency: 84173.0\n"
     ]
    }
   ],
   "source": [
    "for i in np.linspace(0.05, 1, num=20):\n",
    "    print(f'Qauntile: {i:.2f}   Frequency: {np.quantile(tag_freqs, i)}')"
   ]
  },
  {
   "cell_type": "code",
   "execution_count": 36,
   "metadata": {},
   "outputs": [
    {
     "data": {
      "text/plain": [
       "267563"
      ]
     },
     "execution_count": 36,
     "metadata": {},
     "output_type": "execute_result"
    }
   ],
   "source": [
    "len(tag_freqs)"
   ]
  },
  {
   "cell_type": "code",
   "execution_count": 48,
   "metadata": {},
   "outputs": [
    {
     "data": {
      "text/plain": [
       "(21386,)"
      ]
     },
     "execution_count": 48,
     "metadata": {},
     "output_type": "execute_result"
    }
   ],
   "source": [
    "np.array(tag_freqs)[np.array(tag_freqs) > 100].shape"
   ]
  },
  {
   "cell_type": "code",
   "execution_count": 53,
   "metadata": {},
   "outputs": [
    {
     "ename": "ImportError",
     "evalue": "Cumulative distributions are currentlyonly implemented in statsmodels.Please install statsmodels.",
     "output_type": "error",
     "traceback": [
      "\u001b[1;31m---------------------------------------------------------------------------\u001b[0m",
      "\u001b[1;31mImportError\u001b[0m                               Traceback (most recent call last)",
      "\u001b[1;32m<ipython-input-53-9d13596ec8fd>\u001b[0m in \u001b[0;36m<module>\u001b[1;34m\u001b[0m\n\u001b[0;32m      1\u001b[0m \u001b[0mkwargs\u001b[0m \u001b[1;33m=\u001b[0m \u001b[1;33m{\u001b[0m\u001b[1;34m'cumulative'\u001b[0m\u001b[1;33m:\u001b[0m \u001b[1;32mTrue\u001b[0m\u001b[1;33m}\u001b[0m\u001b[1;33m\u001b[0m\u001b[1;33m\u001b[0m\u001b[0m\n\u001b[1;32m----> 2\u001b[1;33m \u001b[0msns\u001b[0m\u001b[1;33m.\u001b[0m\u001b[0mdistplot\u001b[0m\u001b[1;33m(\u001b[0m\u001b[1;33m[\u001b[0m\u001b[0mi\u001b[0m \u001b[1;32mfor\u001b[0m \u001b[0mi\u001b[0m \u001b[1;32min\u001b[0m \u001b[0mtag_freqs\u001b[0m \u001b[1;32mif\u001b[0m \u001b[0mi\u001b[0m \u001b[1;33m<\u001b[0m \u001b[1;36m1000\u001b[0m\u001b[1;33m]\u001b[0m\u001b[1;33m,\u001b[0m \u001b[0mhist_kws\u001b[0m\u001b[1;33m=\u001b[0m\u001b[0mkwargs\u001b[0m\u001b[1;33m,\u001b[0m \u001b[0mkde_kws\u001b[0m\u001b[1;33m=\u001b[0m\u001b[0mkwargs\u001b[0m\u001b[1;33m)\u001b[0m\u001b[1;33m\u001b[0m\u001b[1;33m\u001b[0m\u001b[0m\n\u001b[0m",
      "\u001b[1;32mc:\\users\\harpal\\envs\\steam_recommendation\\lib\\site-packages\\seaborn\\distributions.py\u001b[0m in \u001b[0;36mdistplot\u001b[1;34m(a, bins, hist, kde, rug, fit, hist_kws, kde_kws, rug_kws, fit_kws, color, vertical, norm_hist, axlabel, label, ax)\u001b[0m\n\u001b[0;32m    229\u001b[0m     \u001b[1;32mif\u001b[0m \u001b[0mkde\u001b[0m\u001b[1;33m:\u001b[0m\u001b[1;33m\u001b[0m\u001b[1;33m\u001b[0m\u001b[0m\n\u001b[0;32m    230\u001b[0m         \u001b[0mkde_color\u001b[0m \u001b[1;33m=\u001b[0m \u001b[0mkde_kws\u001b[0m\u001b[1;33m.\u001b[0m\u001b[0mpop\u001b[0m\u001b[1;33m(\u001b[0m\u001b[1;34m\"color\"\u001b[0m\u001b[1;33m,\u001b[0m \u001b[0mcolor\u001b[0m\u001b[1;33m)\u001b[0m\u001b[1;33m\u001b[0m\u001b[1;33m\u001b[0m\u001b[0m\n\u001b[1;32m--> 231\u001b[1;33m         \u001b[0mkdeplot\u001b[0m\u001b[1;33m(\u001b[0m\u001b[0ma\u001b[0m\u001b[1;33m,\u001b[0m \u001b[0mvertical\u001b[0m\u001b[1;33m=\u001b[0m\u001b[0mvertical\u001b[0m\u001b[1;33m,\u001b[0m \u001b[0max\u001b[0m\u001b[1;33m=\u001b[0m\u001b[0max\u001b[0m\u001b[1;33m,\u001b[0m \u001b[0mcolor\u001b[0m\u001b[1;33m=\u001b[0m\u001b[0mkde_color\u001b[0m\u001b[1;33m,\u001b[0m \u001b[1;33m**\u001b[0m\u001b[0mkde_kws\u001b[0m\u001b[1;33m)\u001b[0m\u001b[1;33m\u001b[0m\u001b[1;33m\u001b[0m\u001b[0m\n\u001b[0m\u001b[0;32m    232\u001b[0m         \u001b[1;32mif\u001b[0m \u001b[0mkde_color\u001b[0m \u001b[1;33m!=\u001b[0m \u001b[0mcolor\u001b[0m\u001b[1;33m:\u001b[0m\u001b[1;33m\u001b[0m\u001b[1;33m\u001b[0m\u001b[0m\n\u001b[0;32m    233\u001b[0m             \u001b[0mkde_kws\u001b[0m\u001b[1;33m[\u001b[0m\u001b[1;34m\"color\"\u001b[0m\u001b[1;33m]\u001b[0m \u001b[1;33m=\u001b[0m \u001b[0mkde_color\u001b[0m\u001b[1;33m\u001b[0m\u001b[1;33m\u001b[0m\u001b[0m\n",
      "\u001b[1;32mc:\\users\\harpal\\envs\\steam_recommendation\\lib\\site-packages\\seaborn\\distributions.py\u001b[0m in \u001b[0;36mkdeplot\u001b[1;34m(data, data2, shade, vertical, kernel, bw, gridsize, cut, clip, legend, cumulative, shade_lowest, cbar, cbar_ax, cbar_kws, ax, **kwargs)\u001b[0m\n\u001b[0;32m    689\u001b[0m         ax = _univariate_kdeplot(data, shade, vertical, kernel, bw,\n\u001b[0;32m    690\u001b[0m                                  \u001b[0mgridsize\u001b[0m\u001b[1;33m,\u001b[0m \u001b[0mcut\u001b[0m\u001b[1;33m,\u001b[0m \u001b[0mclip\u001b[0m\u001b[1;33m,\u001b[0m \u001b[0mlegend\u001b[0m\u001b[1;33m,\u001b[0m \u001b[0max\u001b[0m\u001b[1;33m,\u001b[0m\u001b[1;33m\u001b[0m\u001b[1;33m\u001b[0m\u001b[0m\n\u001b[1;32m--> 691\u001b[1;33m                                  cumulative=cumulative, **kwargs)\n\u001b[0m\u001b[0;32m    692\u001b[0m \u001b[1;33m\u001b[0m\u001b[0m\n\u001b[0;32m    693\u001b[0m     \u001b[1;32mreturn\u001b[0m \u001b[0max\u001b[0m\u001b[1;33m\u001b[0m\u001b[1;33m\u001b[0m\u001b[0m\n",
      "\u001b[1;32mc:\\users\\harpal\\envs\\steam_recommendation\\lib\\site-packages\\seaborn\\distributions.py\u001b[0m in \u001b[0;36m_univariate_kdeplot\u001b[1;34m(data, shade, vertical, kernel, bw, gridsize, cut, clip, legend, ax, cumulative, **kwargs)\u001b[0m\n\u001b[0;32m    289\u001b[0m             \u001b[0mwarnings\u001b[0m\u001b[1;33m.\u001b[0m\u001b[0mwarn\u001b[0m\u001b[1;33m(\u001b[0m\u001b[0mmsg\u001b[0m\u001b[1;33m,\u001b[0m \u001b[0mUserWarning\u001b[0m\u001b[1;33m)\u001b[0m\u001b[1;33m\u001b[0m\u001b[1;33m\u001b[0m\u001b[0m\n\u001b[0;32m    290\u001b[0m         \u001b[1;32mif\u001b[0m \u001b[0mcumulative\u001b[0m\u001b[1;33m:\u001b[0m\u001b[1;33m\u001b[0m\u001b[1;33m\u001b[0m\u001b[0m\n\u001b[1;32m--> 291\u001b[1;33m             raise ImportError(\"Cumulative distributions are currently\"\n\u001b[0m\u001b[0;32m    292\u001b[0m                               \u001b[1;34m\"only implemented in statsmodels.\"\u001b[0m\u001b[1;33m\u001b[0m\u001b[1;33m\u001b[0m\u001b[0m\n\u001b[0;32m    293\u001b[0m                               \"Please install statsmodels.\")\n",
      "\u001b[1;31mImportError\u001b[0m: Cumulative distributions are currentlyonly implemented in statsmodels.Please install statsmodels."
     ]
    },
    {
     "data": {
      "image/png": "[encoded data removed]",
      "text/plain": [
       "<Figure size 1080x576 with 1 Axes>"
      ]
     },
     "metadata": {},
     "output_type": "display_data"
    }
   ],
   "source": [
    "kwargs = {'cumulative': True}\n",
    "sns.distplot([i for i in tag_freqs if i < 1000], hist_kws=kwargs, kde_kws=kwargs)"
   ]
  },
  {
   "cell_type": "code",
   "execution_count": null,
   "metadata": {},
   "outputs": [],
   "source": []
  },
  {
   "cell_type": "code",
   "execution_count": 54,
   "metadata": {},
   "outputs": [],
   "source": [
    "TAG_VOTES_MIN = 100"
   ]
  },
  {
   "cell_type": "markdown",
   "metadata": {},
   "source": [
    "## Average Tag Frequency Per Game"
   ]
  },
  {
   "cell_type": "code",
   "execution_count": 57,
   "metadata": {},
   "outputs": [],
   "source": [
    "tag_avg = []\n",
    "for game in game_files:\n",
    "    with open(f'./data/games/{game}', 'r') as in_json:\n",
    "        game_data = json.load(in_json)\n",
    "        game_tags = game_data['tags']\n",
    "        if game_tags:\n",
    "            filtered_tags = [i for i in game_tags.values() if i >= TAG_VOTES_MIN]\n",
    "            if filtered_tags:\n",
    "                tag_avg.append(np.array(filtered_tags).mean())\n",
    "tag_avg = np.array(tag_avg)"
   ]
  },
  {
   "cell_type": "code",
   "execution_count": 58,
   "metadata": {},
   "outputs": [
    {
     "data": {
      "text/plain": [
       "<matplotlib.axes._subplots.AxesSubplot at 0x234da1432b0>"
      ]
     },
     "execution_count": 58,
     "metadata": {},
     "output_type": "execute_result"
    },
    {
     "data": {
      "image/png": "[encoded data removed]",
      "text/plain": [
       "<Figure size 1080x576 with 1 Axes>"
      ]
     },
     "metadata": {},
     "output_type": "display_data"
    }
   ],
   "source": [
    "sns.distplot(tag_avg)"
   ]
  },
  {
   "cell_type": "code",
   "execution_count": 59,
   "metadata": {},
   "outputs": [
    {
     "data": {
      "text/plain": [
       "count     3092.000000\n",
       "mean       334.837683\n",
       "std        952.448827\n",
       "min        100.000000\n",
       "25%        123.500000\n",
       "50%        156.250000\n",
       "75%        254.046875\n",
       "max      36412.650000\n",
       "dtype: float64"
      ]
     },
     "execution_count": 59,
     "metadata": {},
     "output_type": "execute_result"
    }
   ],
   "source": [
    "pd.Series(tag_avg).describe()"
   ]
  },
  {
   "cell_type": "code",
   "execution_count": null,
   "metadata": {},
   "outputs": [],
   "source": []
  },
  {
   "cell_type": "code",
   "execution_count": null,
   "metadata": {},
   "outputs": [],
   "source": []
  },
  {
   "cell_type": "markdown",
   "metadata": {},
   "source": [
    "## Tag Frequencies Per Game"
   ]
  },
  {
   "cell_type": "code",
   "execution_count": 60,
   "metadata": {},
   "outputs": [],
   "source": [
    "tag_occurrence = {}\n",
    "for game in game_files:\n",
    "    with open(f'./data/games/{game}', 'r') as in_json:\n",
    "        game_data = json.load(in_json)\n",
    "        game_tags = game_data['tags']\n",
    "        if game_tags:\n",
    "            for k, v in game_tags.items():\n",
    "                if v >= TAG_VOTES_MIN:\n",
    "                    tag_occurrence[k] = tag_occurrence.get(k, 0) + 1"
   ]
  },
  {
   "cell_type": "code",
   "execution_count": 61,
   "metadata": {},
   "outputs": [
    {
     "data": {
      "text/plain": [
       "1166"
      ]
     },
     "execution_count": 61,
     "metadata": {},
     "output_type": "execute_result"
    }
   ],
   "source": [
    "tag_occurrence['Action']"
   ]
  },
  {
   "cell_type": "code",
   "execution_count": 62,
   "metadata": {},
   "outputs": [
    {
     "data": {
      "text/plain": [
       "count     370.000000\n",
       "mean       58.413514\n",
       "std       131.034902\n",
       "min         1.000000\n",
       "25%         6.000000\n",
       "50%        15.000000\n",
       "75%        47.750000\n",
       "max      1166.000000\n",
       "dtype: float64"
      ]
     },
     "execution_count": 62,
     "metadata": {},
     "output_type": "execute_result"
    }
   ],
   "source": [
    "pd.Series(list(tag_occurrence.values())).describe()"
   ]
  },
  {
   "cell_type": "code",
   "execution_count": 63,
   "metadata": {},
   "outputs": [
    {
     "data": {
      "text/plain": [
       "15.0"
      ]
     },
     "execution_count": 63,
     "metadata": {},
     "output_type": "execute_result"
    }
   ],
   "source": [
    "np.median(list(tag_occurrence.values()))"
   ]
  },
  {
   "cell_type": "code",
   "execution_count": 64,
   "metadata": {},
   "outputs": [
    {
     "name": "stdout",
     "output_type": "stream",
     "text": [
      "Qauntile: 0.05   Frequency: 1.0\n",
      "Qauntile: 0.10   Frequency: 2.0\n",
      "Qauntile: 0.15   Frequency: 4.0\n",
      "Qauntile: 0.20   Frequency: 5.0\n",
      "Qauntile: 0.25   Frequency: 6.0\n",
      "Qauntile: 0.30   Frequency: 7.0\n",
      "Qauntile: 0.35   Frequency: 9.0\n",
      "Qauntile: 0.40   Frequency: 10.0\n",
      "Qauntile: 0.45   Frequency: 12.0\n",
      "Qauntile: 0.50   Frequency: 15.0\n",
      "Qauntile: 0.55   Frequency: 17.0\n",
      "Qauntile: 0.60   Frequency: 20.0\n",
      "Qauntile: 0.65   Frequency: 27.0\n",
      "Qauntile: 0.70   Frequency: 35.30000000000001\n",
      "Qauntile: 0.75   Frequency: 47.75\n",
      "Qauntile: 0.80   Frequency: 68.39999999999998\n",
      "Qauntile: 0.85   Frequency: 88.0\n",
      "Qauntile: 0.90   Frequency: 143.10000000000002\n",
      "Qauntile: 0.95   Frequency: 266.70000000000016\n",
      "Qauntile: 1.00   Frequency: 1166.0\n"
     ]
    }
   ],
   "source": [
    "for i in np.linspace(0.05, 1, num=20):\n",
    "    print(f'Qauntile: {i:.2f}   Frequency: {np.quantile(list(tag_occurrence.values()), i)}')"
   ]
  },
  {
   "cell_type": "code",
   "execution_count": 65,
   "metadata": {},
   "outputs": [
    {
     "data": {
      "text/plain": [
       "<matplotlib.axes._subplots.AxesSubplot at 0x234da75a160>"
      ]
     },
     "execution_count": 65,
     "metadata": {},
     "output_type": "execute_result"
    },
    {
     "data": {
      "image/png": "[encoded data removed]",
      "text/plain": [
       "<Figure size 1080x576 with 1 Axes>"
      ]
     },
     "metadata": {},
     "output_type": "display_data"
    }
   ],
   "source": [
    "sns.distplot(list(tag_occurrence.values()))"
   ]
  },
  {
   "cell_type": "code",
   "execution_count": 73,
   "metadata": {},
   "outputs": [
    {
     "data": {
      "text/plain": [
       "<matplotlib.axes._subplots.AxesSubplot at 0x234dbfe9940>"
      ]
     },
     "execution_count": 73,
     "metadata": {},
     "output_type": "execute_result"
    },
    {
     "data": {
      "image/png": "[encoded data removed]",
      "text/plain": [
       "<Figure size 1080x576 with 1 Axes>"
      ]
     },
     "metadata": {},
     "output_type": "display_data"
    }
   ],
   "source": [
    "sns.countplot(list(tag_occurrence.values()))"
   ]
  },
  {
   "cell_type": "code",
   "execution_count": 79,
   "metadata": {},
   "outputs": [
    {
     "data": {
      "text/plain": [
       "(370,)"
      ]
     },
     "execution_count": 79,
     "metadata": {},
     "output_type": "execute_result"
    }
   ],
   "source": [
    "tag_occurrence_vals = np.array(list(tag_occurrence.values()))\n",
    "tag_occurrence_vals.shape"
   ]
  },
  {
   "cell_type": "code",
   "execution_count": null,
   "metadata": {},
   "outputs": [],
   "source": [
    "np.array(list(tag_occurrence.values()))"
   ]
  },
  {
   "cell_type": "code",
   "execution_count": 92,
   "metadata": {},
   "outputs": [
    {
     "data": {
      "text/plain": [
       "(221,)"
      ]
     },
     "execution_count": 92,
     "metadata": {},
     "output_type": "execute_result"
    }
   ],
   "source": [
    "tag_occurrence_vals[tag_occurrence_vals > 10].shape"
   ]
  },
  {
   "cell_type": "code",
   "execution_count": 93,
   "metadata": {},
   "outputs": [],
   "source": [
    "MIN_TAG_FREQ_GAME = 10"
   ]
  },
  {
   "cell_type": "code",
   "execution_count": 95,
   "metadata": {},
   "outputs": [],
   "source": [
    "game_tags_keep = {game : tag_occurrence[game] for game in tag_occurrence if tag_occurrence[game] >= MIN_TAG_FREQ_GAME}"
   ]
  },
  {
   "cell_type": "code",
   "execution_count": 111,
   "metadata": {},
   "outputs": [],
   "source": [
    "final_data = {}\n",
    "for game in game_files:\n",
    "    with open(f'./data/games/{game}', 'r') as in_json:\n",
    "        game_data = json.load(in_json)\n",
    "        final_data[game_data['name']] = []\n",
    "        game_tags = game_data['tags']\n",
    "        if game_tags:\n",
    "            for k, v in game_tags.items():\n",
    "                if (k in game_tags_keep) and (v >= TAG_VOTES_MIN):\n",
    "                    final_data[game_data['name']].append(k)"
   ]
  },
  {
   "cell_type": "code",
   "execution_count": 112,
   "metadata": {},
   "outputs": [
    {
     "data": {
      "text/plain": [
       "33155"
      ]
     },
     "execution_count": 112,
     "metadata": {},
     "output_type": "execute_result"
    }
   ],
   "source": [
    "len(final_data)"
   ]
  },
  {
   "cell_type": "code",
   "execution_count": 113,
   "metadata": {},
   "outputs": [],
   "source": [
    "keys_to_remove = [k for k, v in final_data.items() if not v]\n",
    "for key in keys_to_remove:\n",
    "    final_data.pop(key, None)"
   ]
  },
  {
   "cell_type": "code",
   "execution_count": 114,
   "metadata": {},
   "outputs": [
    {
     "data": {
      "text/plain": [
       "3070"
      ]
     },
     "execution_count": 114,
     "metadata": {},
     "output_type": "execute_result"
    }
   ],
   "source": [
    "len(final_data)"
   ]
  },
  {
   "cell_type": "code",
   "execution_count": 115,
   "metadata": {},
   "outputs": [],
   "source": [
    "with open('./games_with_tags_double_filter.json', 'w') as out:\n",
    "    json.dump(final_data, out)"
   ]
  },
  {
   "cell_type": "code",
   "execution_count": 101,
   "metadata": {},
   "outputs": [
    {
     "data": {
      "text/plain": [
       "['Multiplayer',\n",
       " 'Competitive',\n",
       " 'Sports',\n",
       " 'Racing',\n",
       " 'Team-Based',\n",
       " 'Online Co-Op',\n",
       " 'Fast-Paced',\n",
       " 'Co-op',\n",
       " 'Funny',\n",
       " 'Action',\n",
       " 'Great Soundtrack',\n",
       " 'Local Multiplayer',\n",
       " 'Split Screen',\n",
       " 'Local Co-Op',\n",
       " 'Singleplayer',\n",
       " '4 Player Local',\n",
       " 'Casual',\n",
       " 'Indie']"
      ]
     },
     "execution_count": 101,
     "metadata": {},
     "output_type": "execute_result"
    }
   ],
   "source": [
    "final_data['Rocket League']"
   ]
  },
  {
   "cell_type": "code",
   "execution_count": 102,
   "metadata": {},
   "outputs": [
    {
     "data": {
      "text/plain": [
       "['Strategy',\n",
       " 'Masterpiece',\n",
       " 'RTS',\n",
       " 'Classic',\n",
       " 'Multiplayer',\n",
       " 'Great Soundtrack',\n",
       " 'Singleplayer',\n",
       " 'Fantasy',\n",
       " 'Simulation',\n",
       " 'Historical',\n",
       " 'Atmospheric',\n",
       " 'Adventure',\n",
       " 'Tactical',\n",
       " 'Real-Time',\n",
       " 'Story Rich',\n",
       " 'Co-op',\n",
       " 'Remake']"
      ]
     },
     "execution_count": 102,
     "metadata": {},
     "output_type": "execute_result"
    }
   ],
   "source": [
    "final_data['Age of Mythology: Extended Edition']"
   ]
  },
  {
   "cell_type": "code",
   "execution_count": null,
   "metadata": {},
   "outputs": [],
   "source": []
  },
  {
   "cell_type": "code",
   "execution_count": null,
   "metadata": {},
   "outputs": [],
   "source": []
  },
  {
   "cell_type": "code",
   "execution_count": null,
   "metadata": {},
   "outputs": [],
   "source": []
  },
  {
   "cell_type": "code",
   "execution_count": null,
   "metadata": {},
   "outputs": [],
   "source": []
  },
  {
   "cell_type": "code",
   "execution_count": null,
   "metadata": {},
   "outputs": [],
   "source": []
  },
  {
   "cell_type": "code",
   "execution_count": null,
   "metadata": {},
   "outputs": [],
   "source": []
  },
  {
   "cell_type": "code",
   "execution_count": 4,
   "metadata": {},
   "outputs": [],
   "source": [
    "tag_games = os.listdir('./data')"
   ]
  },
  {
   "cell_type": "code",
   "execution_count": 53,
   "metadata": {},
   "outputs": [
    {
     "name": "stdout",
     "output_type": "stream",
     "text": [
      "10 {'appid': 10, 'name': 'Counter-Strike', 'developer': 'Valve', 'publisher': 'Valve', 'score_rank': '', 'positive': 143998, 'negative': 3749, 'userscore': 0, 'owners': '20,000,000 .. 50,000,000', 'average_forever': 11828, 'average_2weeks': 846, 'median_forever': 193, 'median_2weeks': 24, 'price': '99', 'initialprice': '999', 'discount': '90'}\n"
     ]
    }
   ],
   "source": [
    "games_with_tags = {}\n",
    "tags_with_games = {}\n",
    "for tag in tag_games:\n",
    "    game_tag = tag.replace('_games.json', '').replace(\"'\", '')\n",
    "    tags_with_games[game_tag] = []\n",
    "    with open(f'./data/{tag}') as in_json:\n",
    "        data = json.load(in_json)\n",
    "#         print(data)\n",
    "        for k, v in data.items():\n",
    "            print(k, v)\n",
    "            tags_with_games[game_tag].append(v['name'])\n",
    "            games_with_tags.setdefault(v['name'], []).append(game_tag)\n",
    "            break\n",
    "    break"
   ]
  },
  {
   "cell_type": "code",
   "execution_count": 6,
   "metadata": {},
   "outputs": [],
   "source": [
    "sorted_tag_freq = sorted(tags_with_games.items(), key=lambda x: len(x[1]), reverse=True)"
   ]
  },
  {
   "cell_type": "code",
   "execution_count": 7,
   "metadata": {},
   "outputs": [],
   "source": [
    "tag = []\n",
    "tag_freq = []\n",
    "for i in sorted_tag_freq:\n",
    "    tag.append(i[0])\n",
    "    tag_freq.append(len(i[1]))"
   ]
  },
  {
   "cell_type": "code",
   "execution_count": 21,
   "metadata": {},
   "outputs": [
    {
     "data": {
      "text/plain": [
       "<matplotlib.axes._subplots.AxesSubplot at 0x27d9e4f9ac8>"
      ]
     },
     "execution_count": 21,
     "metadata": {},
     "output_type": "execute_result"
    },
    {
     "data": {
      "image/png": "[encoded data removed]",
      "text/plain": [
       "<Figure size 864x576 with 1 Axes>"
      ]
     },
     "metadata": {},
     "output_type": "display_data"
    }
   ],
   "source": [
    "sns.barplot(tag[:10], tag_freq[:10])"
   ]
  },
  {
   "cell_type": "code",
   "execution_count": 30,
   "metadata": {},
   "outputs": [
    {
     "data": {
      "text/plain": [
       "(array([ 0,  1,  2,  3,  4,  5,  6,  7,  8,  9, 10, 11, 12, 13, 14, 15, 16,\n",
       "        17, 18, 19, 20, 21, 22, 23, 24, 25, 26, 27, 28, 29, 30, 31, 32, 33,\n",
       "        34, 35, 36, 37, 38, 39, 40, 41, 42, 43, 44, 45, 46, 47, 48, 49, 50,\n",
       "        51, 52, 53, 54, 55, 56, 57, 58, 59]),\n",
       " <a list of 60 Text xticklabel objects>)"
      ]
     },
     "execution_count": 30,
     "metadata": {},
     "output_type": "execute_result"
    },
    {
     "data": {
      "image/png": "[encoded data removed]",
      "text/plain": [
       "<Figure size 1080x576 with 1 Axes>"
      ]
     },
     "metadata": {},
     "output_type": "display_data"
    }
   ],
   "source": [
    "sns.barplot(tag[-60:], tag_freq[-60:])\n",
    "plt.xticks(rotation=45, ha='right')"
   ]
  },
  {
   "cell_type": "code",
   "execution_count": 22,
   "metadata": {},
   "outputs": [
    {
     "data": {
      "text/plain": [
       "408"
      ]
     },
     "execution_count": 22,
     "metadata": {},
     "output_type": "execute_result"
    }
   ],
   "source": [
    "len(tag_freq)"
   ]
  },
  {
   "cell_type": "code",
   "execution_count": 13,
   "metadata": {},
   "outputs": [
    {
     "data": {
      "text/plain": [
       "675.0857843137255"
      ]
     },
     "execution_count": 13,
     "metadata": {},
     "output_type": "execute_result"
    }
   ],
   "source": [
    "np.mean(tag_freq)"
   ]
  },
  {
   "cell_type": "code",
   "execution_count": 14,
   "metadata": {},
   "outputs": [
    {
     "data": {
      "text/plain": [
       "146.0"
      ]
     },
     "execution_count": 14,
     "metadata": {},
     "output_type": "execute_result"
    }
   ],
   "source": [
    "np.median(tag_freq)"
   ]
  },
  {
   "cell_type": "code",
   "execution_count": 35,
   "metadata": {},
   "outputs": [
    {
     "data": {
      "text/plain": [
       "['Mod',\n",
       " 'Star_Wars',\n",
       " 'Warhammer_40K',\n",
       " 'Conspiracy',\n",
       " 'On-Rails_Shooter',\n",
       " 'Sailing',\n",
       " 'Mystery_Dungeon',\n",
       " 'Sokoban',\n",
       " 'Artificial_Intelligence',\n",
       " 'Class-Based',\n",
       " 'Sniper',\n",
       " 'Traditional_Roguelike',\n",
       " 'Horses',\n",
       " 'Dynamic_Narration',\n",
       " 'Golf',\n",
       " 'Solitaire',\n",
       " 'Precision_Platformer',\n",
       " 'Motorbike',\n",
       " 'Movie',\n",
       " 'Pinball',\n",
       " 'Bikes',\n",
       " 'Gambling',\n",
       " 'Rome',\n",
       " 'Basketball',\n",
       " 'Vehicular_Combat',\n",
       " 'Diplomacy',\n",
       " 'Combat_Racing',\n",
       " 'Immersive_Sim',\n",
       " '2D_Platformer',\n",
       " 'Conversation',\n",
       " 'LEGO',\n",
       " 'Life_Sim',\n",
       " 'Sequel',\n",
       " 'Submarine',\n",
       " 'Tutorial',\n",
       " 'Mini_Golf',\n",
       " 'Gaming',\n",
       " 'TrackIR',\n",
       " 'Intentionally_Awkward_Controls',\n",
       " 'Underground',\n",
       " 'Unforgiving',\n",
       " 'Werewolves',\n",
       " 'Automation',\n",
       " 'Medical_Sim',\n",
       " 'Baseball',\n",
       " 'Batman',\n",
       " 'Benchmark',\n",
       " 'Boxing',\n",
       " 'Tennis',\n",
       " 'Transportation',\n",
       " '3D_Fighter',\n",
       " 'Transhumanism',\n",
       " 'Archery',\n",
       " 'Hero_Shooter',\n",
       " 'Roguevania',\n",
       " 'Wrestling',\n",
       " 'Documentary',\n",
       " 'Lara_Croft',\n",
       " 'Lemmings',\n",
       " 'Motocross',\n",
       " 'Pool',\n",
       " '360_Video',\n",
       " 'Combat',\n",
       " 'Hockey',\n",
       " 'Idler',\n",
       " 'Steam_Machine',\n",
       " 'Asymmetric_VR',\n",
       " 'Cycling',\n",
       " 'Outbreak_Sim',\n",
       " 'Snow',\n",
       " 'Spelling',\n",
       " 'Skateboarding',\n",
       " 'Voice_Control',\n",
       " '1990s',\n",
       " 'Animation_&_Modeling',\n",
       " 'Base_Building',\n",
       " 'Beat_em_up',\n",
       " 'Bowling',\n",
       " 'Design_&_Illustration',\n",
       " 'Dungeons_&_Dragons',\n",
       " 'eSports',\n",
       " 'LGBTQ+',\n",
       " 'Looter_Shooter',\n",
       " 'Point_&_Click',\n",
       " 'Puzzle_Platformer',\n",
       " 'Roguelike',\n",
       " 'Roguelite',\n",
       " 'Shoot_Em_Up',\n",
       " 'Foreign',\n",
       " 'Collectathon',\n",
       " 'BMX',\n",
       " 'Hardware',\n",
       " 'Jet',\n",
       " 'Skating',\n",
       " 'Skiing',\n",
       " 'Snowboarding',\n",
       " 'Social_Deduction',\n",
       " 'ATV',\n",
       " 'Feature_Film',\n",
       " 'Auto_Battler']"
      ]
     },
     "execution_count": 35,
     "metadata": {},
     "output_type": "execute_result"
    }
   ],
   "source": [
    "tag[-100:]"
   ]
  },
  {
   "cell_type": "code",
   "execution_count": 33,
   "metadata": {},
   "outputs": [
    {
     "data": {
      "text/plain": [
       "51.0"
      ]
     },
     "execution_count": 33,
     "metadata": {},
     "output_type": "execute_result"
    }
   ],
   "source": [
    "np.quantile(tag_freq, 0.25)"
   ]
  },
  {
   "cell_type": "code",
   "execution_count": 32,
   "metadata": {},
   "outputs": [],
   "source": [
    "with open('./games_with_tags.json', 'w') as out:\n",
    "    json.dump(games_with_tags, out)"
   ]
  },
  {
   "cell_type": "code",
   "execution_count": 41,
   "metadata": {},
   "outputs": [
    {
     "name": "stdout",
     "output_type": "stream",
     "text": [
      "50\n"
     ]
    }
   ],
   "source": [
    "print(tag_freq[-101])"
   ]
  },
  {
   "cell_type": "code",
   "execution_count": 40,
   "metadata": {},
   "outputs": [
    {
     "name": "stdout",
     "output_type": "stream",
     "text": [
      "51\n"
     ]
    }
   ],
   "source": [
    "print(tag_freq[-102])"
   ]
  },
  {
   "cell_type": "code",
   "execution_count": 36,
   "metadata": {},
   "outputs": [],
   "source": [
    "to_remove = tag[-100:]"
   ]
  },
  {
   "cell_type": "code",
   "execution_count": 37,
   "metadata": {},
   "outputs": [
    {
     "data": {
      "text/plain": [
       "['Mod',\n",
       " 'Star_Wars',\n",
       " 'Warhammer_40K',\n",
       " 'Conspiracy',\n",
       " 'On-Rails_Shooter',\n",
       " 'Sailing',\n",
       " 'Mystery_Dungeon',\n",
       " 'Sokoban',\n",
       " 'Artificial_Intelligence',\n",
       " 'Class-Based',\n",
       " 'Sniper',\n",
       " 'Traditional_Roguelike',\n",
       " 'Horses',\n",
       " 'Dynamic_Narration',\n",
       " 'Golf',\n",
       " 'Solitaire',\n",
       " 'Precision_Platformer',\n",
       " 'Motorbike',\n",
       " 'Movie',\n",
       " 'Pinball',\n",
       " 'Bikes',\n",
       " 'Gambling',\n",
       " 'Rome',\n",
       " 'Basketball',\n",
       " 'Vehicular_Combat',\n",
       " 'Diplomacy',\n",
       " 'Combat_Racing',\n",
       " 'Immersive_Sim',\n",
       " '2D_Platformer',\n",
       " 'Conversation',\n",
       " 'LEGO',\n",
       " 'Life_Sim',\n",
       " 'Sequel',\n",
       " 'Submarine',\n",
       " 'Tutorial',\n",
       " 'Mini_Golf',\n",
       " 'Gaming',\n",
       " 'TrackIR',\n",
       " 'Intentionally_Awkward_Controls',\n",
       " 'Underground',\n",
       " 'Unforgiving',\n",
       " 'Werewolves',\n",
       " 'Automation',\n",
       " 'Medical_Sim',\n",
       " 'Baseball',\n",
       " 'Batman',\n",
       " 'Benchmark',\n",
       " 'Boxing',\n",
       " 'Tennis',\n",
       " 'Transportation',\n",
       " '3D_Fighter',\n",
       " 'Transhumanism',\n",
       " 'Archery',\n",
       " 'Hero_Shooter',\n",
       " 'Roguevania',\n",
       " 'Wrestling',\n",
       " 'Documentary',\n",
       " 'Lara_Croft',\n",
       " 'Lemmings',\n",
       " 'Motocross',\n",
       " 'Pool',\n",
       " '360_Video',\n",
       " 'Combat',\n",
       " 'Hockey',\n",
       " 'Idler',\n",
       " 'Steam_Machine',\n",
       " 'Asymmetric_VR',\n",
       " 'Cycling',\n",
       " 'Outbreak_Sim',\n",
       " 'Snow',\n",
       " 'Spelling',\n",
       " 'Skateboarding',\n",
       " 'Voice_Control',\n",
       " '1990s',\n",
       " 'Animation_&_Modeling',\n",
       " 'Base_Building',\n",
       " 'Beat_em_up',\n",
       " 'Bowling',\n",
       " 'Design_&_Illustration',\n",
       " 'Dungeons_&_Dragons',\n",
       " 'eSports',\n",
       " 'LGBTQ+',\n",
       " 'Looter_Shooter',\n",
       " 'Point_&_Click',\n",
       " 'Puzzle_Platformer',\n",
       " 'Roguelike',\n",
       " 'Roguelite',\n",
       " 'Shoot_Em_Up',\n",
       " 'Foreign',\n",
       " 'Collectathon',\n",
       " 'BMX',\n",
       " 'Hardware',\n",
       " 'Jet',\n",
       " 'Skating',\n",
       " 'Skiing',\n",
       " 'Snowboarding',\n",
       " 'Social_Deduction',\n",
       " 'ATV',\n",
       " 'Feature_Film',\n",
       " 'Auto_Battler']"
      ]
     },
     "execution_count": 37,
     "metadata": {},
     "output_type": "execute_result"
    }
   ],
   "source": [
    "to_remove"
   ]
  },
  {
   "cell_type": "code",
   "execution_count": 43,
   "metadata": {},
   "outputs": [],
   "source": [
    "games_with_tags_min_50_freq = {}\n",
    "for tag in tag_games:\n",
    "    game_tag = tag.replace('_games.json', '').replace(\"'\", '')\n",
    "    if game_tag in to_remove:\n",
    "        continue\n",
    "    with open(f'./data/{tag}') as in_json:\n",
    "        data = json.load(in_json)\n",
    "        for k, v in data.items():\n",
    "            games_with_tags_min_50_freq.setdefault(v['name'], []).append(game_tag)"
   ]
  },
  {
   "cell_type": "code",
   "execution_count": 45,
   "metadata": {},
   "outputs": [],
   "source": [
    "with open('./games_with_tags_min_50_freq.json', 'w') as out:\n",
    "    json.dump(games_with_tags_min_50_freq, out)"
   ]
  },
  {
   "cell_type": "code",
   "execution_count": 49,
   "metadata": {},
   "outputs": [
    {
     "data": {
      "text/plain": [
       "['4_Player_Local',\n",
       " 'Action',\n",
       " 'Casual',\n",
       " 'Co-op',\n",
       " 'Competitive',\n",
       " 'Fast-Paced',\n",
       " 'Football',\n",
       " 'Free_to_Play',\n",
       " 'Funny',\n",
       " 'Great_Soundtrack',\n",
       " 'Indie',\n",
       " 'Local_Co-Op',\n",
       " 'Local_Multiplayer',\n",
       " 'Multiplayer',\n",
       " 'Online_Co-Op',\n",
       " 'Racing',\n",
       " 'Singleplayer',\n",
       " 'Soccer',\n",
       " 'Split_Screen',\n",
       " 'Sports',\n",
       " 'Team-Based']"
      ]
     },
     "execution_count": 49,
     "metadata": {},
     "output_type": "execute_result"
    }
   ],
   "source": [
    "games_with_tags_min_50_freq['Rocket League']"
   ]
  },
  {
   "cell_type": "code",
   "execution_count": 50,
   "metadata": {},
   "outputs": [
    {
     "data": {
      "text/plain": [
       "['4_Player_Local',\n",
       " 'Action',\n",
       " 'Casual',\n",
       " 'Co-op',\n",
       " 'Competitive',\n",
       " 'Fast-Paced',\n",
       " 'Football',\n",
       " 'Free_to_Play',\n",
       " 'Funny',\n",
       " 'Great_Soundtrack',\n",
       " 'Indie',\n",
       " 'Local_Co-Op',\n",
       " 'Local_Multiplayer',\n",
       " 'Multiplayer',\n",
       " 'Online_Co-Op',\n",
       " 'Racing',\n",
       " 'Singleplayer',\n",
       " 'Soccer',\n",
       " 'Split_Screen',\n",
       " 'Sports',\n",
       " 'Team-Based']"
      ]
     },
     "execution_count": 50,
     "metadata": {},
     "output_type": "execute_result"
    }
   ],
   "source": [
    "games_with_tags['Rocket League']"
   ]
  },
  {
   "cell_type": "code",
   "execution_count": null,
   "metadata": {},
   "outputs": [],
   "source": []
  }
 ],
 "metadata": {
  "kernelspec": {
   "display_name": "Python 3",
   "language": "python",
   "name": "python3"
  },
  "language_info": {
   "codemirror_mode": {
    "name": "ipython",
    "version": 3
   },
   "file_extension": ".py",
   "mimetype": "text/x-python",
   "name": "python",
   "nbconvert_exporter": "python",
   "pygments_lexer": "ipython3",
   "version": "3.7.1"
  }
 },
 "nbformat": 4,
 "nbformat_minor": 2
}
